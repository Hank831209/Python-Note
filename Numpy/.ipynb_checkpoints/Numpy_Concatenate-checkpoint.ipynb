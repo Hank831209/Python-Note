{
 "cells": [
  {
   "cell_type": "markdown",
   "id": "fce1e781-b4ce-4145-a570-25a69091067f",
   "metadata": {},
   "source": [
    "# 數據合併\n",
    "## 左右: np.concatenate( , axis=1), np.hstack()\n",
    "## 上下: np.concatenate( , axis=0), np.vstack()"
   ]
  },
  {
   "cell_type": "code",
   "execution_count": 9,
   "id": "72ed9751-1558-49b4-8429-95d8362e638a",
   "metadata": {},
   "outputs": [
    {
     "name": "stdout",
     "output_type": "stream",
     "text": [
      "[ 5.  10.  12.   6.   5.2  4.2]\n",
      "[ 5.  10.  12.   6.   5.2  4.2]\n"
     ]
    }
   ],
   "source": [
    "import numpy as np\n",
    "cars1 = np.array([5, 10, 12, 6])\n",
    "cars2 = np.array([5.2, 4.2])\n",
    "cars_1 = np.concatenate([cars1, cars2], axis=0)  # 1維的合併只能做橫向的, 類似Python list的append\n",
    "cars_2 = np.hstack([cars1, cars2])\n",
    "# cars_3 = np.vstack([cars1, cars2])  # 會報錯\n",
    "print(cars_1)\n",
    "print(cars_2)"
   ]
  },
  {
   "cell_type": "code",
   "execution_count": 29,
   "id": "7eafc57a-e056-456a-9a78-17e50531571d",
   "metadata": {},
   "outputs": [
    {
     "name": "stdout",
     "output_type": "stream",
     "text": [
      "test1從:  (4,) 變為:  (1, 4)\n",
      "test2從:  (4,) 變為:  (1, 4)\n",
      "test2從:  (4,) 變為:  (4, 1)\n",
      "直向增加:\n",
      " [[ 5.  10.  12.   6. ]\n",
      " [ 5.1  8.2 11.   6.3]] (2, 4)\n",
      "直向增加:\n",
      " [[ 5.  10.  12.   6. ]\n",
      " [ 5.1  8.2 11.   6.3]] (2, 4)\n",
      "恆向增加:\n",
      " [[ 5.  10.  12.   6.   5.1  8.2 11.   6.3]] (1, 8)\n",
      "恆向增加:\n",
      " [[ 5.  10.  12.   6.   5.1  8.2 11.   6.3]] (1, 8)\n"
     ]
    }
   ],
   "source": [
    "import numpy as np\n",
    "\n",
    "test1 = np.array([5, 10, 12, 6])\n",
    "test2 = np.array([5.1, 8.2, 11, 6.3])\n",
    "\n",
    "# 增加維度\n",
    "test1_1 = np.expand_dims(test1, axis=0)\n",
    "test2_1 = test2[np.newaxis, :]  # (4, ) ---> (1, 4)\n",
    "test2_2 = test2[:, np.newaxis] # (4, ) ---> (4, 1)\n",
    "print(\"test1從: \", test1.shape, '變為: ', test1_1.shape)\n",
    "print(\"test2從: \", test2.shape, '變為: ', test2_1.shape)\n",
    "print(\"test2從: \", test2.shape, '變為: ', test2_2.shape)\n",
    "\n",
    "# 然后再在第一个维度上叠加\n",
    "all_tests_v1 = np.concatenate([test1_1, test2_1], axis=0)\n",
    "all_tests_v2 = np.vstack([test1_1, test2_1])\n",
    "all_tests_h1 = np.concatenate([test1_1, test2_1], axis=1)\n",
    "all_tests_h2 = np.hstack([test1_1, test2_1])\n",
    "print(\"直向增加:\\n\", all_tests_v1, all_tests_v1.shape)\n",
    "print(\"直向增加:\\n\", all_tests_v2, all_tests_v2.shape)\n",
    "print(\"恆向增加:\\n\", all_tests_h1, all_tests_h1.shape)\n",
    "print(\"恆向增加:\\n\", all_tests_h2, all_tests_h2.shape)"
   ]
  },
  {
   "cell_type": "code",
   "execution_count": 30,
   "id": "d3d30067-7162-42c6-a905-526a329e4b63",
   "metadata": {},
   "outputs": [
    {
     "name": "stdout",
     "output_type": "stream",
     "text": [
      "[[ 1  2  3  7  8]\n",
      " [ 4  5  6  9 10]]\n"
     ]
    }
   ],
   "source": [
    "a = np.array([\n",
    "[1,2,3],\n",
    "[4,5,6]\n",
    "])\n",
    "b = np.array([\n",
    "[7,8],\n",
    "[9,10]\n",
    "])\n",
    "\n",
    "print(np.concatenate([a,b], axis=1))  \n",
    "# print(np.concatenate([a,b], axis=0))  # 數據維度對不齊會報錯"
   ]
  },
  {
   "cell_type": "markdown",
   "id": "d3fa150b-7201-4d73-8286-f249bb33e2c5",
   "metadata": {},
   "source": [
    "# 數據切分\n",
    "## 左右: np.split( , axis=1), np.hsplit()\n",
    "## 上下: np.split( , axis=0), np.vsplit()"
   ]
  },
  {
   "cell_type": "code",
   "execution_count": 57,
   "id": "e94cdc73-4612-4c2b-b051-aaa875f815ad",
   "metadata": {},
   "outputs": [
    {
     "name": "stdout",
     "output_type": "stream",
     "text": [
      "[array([[ 1, 11,  2, 22],\n",
      "       [ 3, 33,  4, 44]]), array([[ 5, 55,  6, 66],\n",
      "       [ 7, 77,  8, 88]])]\n",
      "[array([[ 1, 11,  2, 22],\n",
      "       [ 3, 33,  4, 44]]), array([[ 5, 55,  6, 66],\n",
      "       [ 7, 77,  8, 88]])]\n",
      "[array([[ 1, 11],\n",
      "       [ 3, 33],\n",
      "       [ 5, 55],\n",
      "       [ 7, 77]]), array([[ 2, 22],\n",
      "       [ 4, 44],\n",
      "       [ 6, 66],\n",
      "       [ 8, 88]])]\n",
      "[array([[ 1, 11],\n",
      "       [ 3, 33],\n",
      "       [ 5, 55],\n",
      "       [ 7, 77]]), array([[ 2, 22],\n",
      "       [ 4, 44],\n",
      "       [ 6, 66],\n",
      "       [ 8, 88]])]\n"
     ]
    }
   ],
   "source": [
    "a = np.array(\n",
    "[[ 1, 11, 2, 22],\n",
    " [ 3, 33, 4, 44],\n",
    " [ 5, 55, 6, 66],\n",
    " [ 7, 77, 8, 88]]\n",
    ")\n",
    "print(np.vsplit(a, indices_or_sections=2))  # 上下分兩段\n",
    "print(np.split(a, indices_or_sections=2, axis=0))  \n",
    "print(np.hsplit(a, indices_or_sections=2))  # 左右分兩段\n",
    "print(np.split(a, indices_or_sections=2, axis=1))  "
   ]
  },
  {
   "cell_type": "markdown",
   "id": "fa537b20-3041-4b5a-a155-17fcb419b365",
   "metadata": {},
   "source": [
    "# 數據型態轉換\n",
    "## 增加維度:"
   ]
  },
  {
   "cell_type": "code",
   "execution_count": 33,
   "id": "478ff2b6-b029-404c-acfe-c56539ecd1e2",
   "metadata": {},
   "outputs": [
    {
     "name": "stdout",
     "output_type": "stream",
     "text": [
      "test1從:  (4,) 變為:  (1, 4)\n",
      "test1從:  (4,) 變為:  (4, 1)\n",
      "test2從:  (4,) 變為:  (1, 4)\n",
      "test2從:  (4,) 變為:  (4, 1)\n",
      "test2從:  (4,) 變為:  (4, 1)\n"
     ]
    }
   ],
   "source": [
    "import numpy as np\n",
    "\n",
    "test1 = np.array([5, 10, 12, 6])\n",
    "test2 = np.array([5.1, 8.2, 11, 6.3])\n",
    "\n",
    "# 增加維度\n",
    "test1_1 = np.expand_dims(test1, axis=0)  # (4, ) ---> (1, 4)\n",
    "test1_2 = np.expand_dims(test1, axis=1)  # (4, ) ---> (4, 1)\n",
    "test2_1 = test2[np.newaxis, :]  # (4, ) ---> (1, 4)\n",
    "test2_2 = test2[:, np.newaxis] # (4, ) ---> (4, 1)\n",
    "test2_3 = test2[:, None] # (4, ) ---> (4, 1)\n",
    "print(\"test1從: \", test1.shape, '變為: ', test1_1.shape)\n",
    "print(\"test1從: \", test1.shape, '變為: ', test1_2.shape)\n",
    "print(\"test2從: \", test2.shape, '變為: ', test2_1.shape)\n",
    "print(\"test2從: \", test2.shape, '變為: ', test2_2.shape)\n",
    "print(\"test2從: \", test2.shape, '變為: ', test2_3.shape)"
   ]
  },
  {
   "cell_type": "markdown",
   "id": "43cf86c9-18e7-47c9-9074-ed77e1e7f753",
   "metadata": {},
   "source": [
    "## reshape:"
   ]
  },
  {
   "cell_type": "code",
   "execution_count": 41,
   "id": "0ca33a77-0550-463f-aa96-09e3c28d2920",
   "metadata": {},
   "outputs": [
    {
     "name": "stdout",
     "output_type": "stream",
     "text": [
      "a1 shape: (2, 3)\n",
      "a1:\n",
      " [[1 2 3]\n",
      " [4 5 6]]\n",
      "a2 shape: (3, 1, 2)\n",
      "a2:\n",
      " [[[1 2]]\n",
      "\n",
      " [[3 4]]\n",
      "\n",
      " [[5 6]]]\n",
      "a3 shape: (2, 3)\n",
      "np.transpose(a1):\n",
      " [[1 4]\n",
      " [2 5]\n",
      " [3 6]]\n"
     ]
    }
   ],
   "source": [
    "a = np.array([1,2,3,4,5,6])\n",
    "a1 = a.reshape((2, 3))\n",
    "a2 = a.reshape((3,1,2))\n",
    "a3 = a.reshape((2, -1))  # -1的維度會自動幫忙算, 只可出現一次-1\n",
    "print(\"a1 shape:\", a1.shape)\n",
    "print('a1:\\n', a1)\n",
    "print(\"a2 shape:\", a2.shape)\n",
    "print('a2:\\n', a2)\n",
    "print(\"a3 shape:\", a3.shape)\n",
    "print(\"np.transpose(a1):\\n\", np.transpose(a1))\n",
    "print(\"a1.T: \",1.T)"
   ]
  },
  {
   "cell_type": "markdown",
   "id": "e5f139b1-6315-44d6-a067-10d47e187a88",
   "metadata": {},
   "source": [
    "### flatten: copy速度較慢\n",
    "### ravel: 僅在必要時copy速度較快"
   ]
  },
  {
   "cell_type": "code",
   "execution_count": 49,
   "id": "a3212476-94bb-463c-bd00-ad7add443629",
   "metadata": {},
   "outputs": [
    {
     "name": "stdout",
     "output_type": "stream",
     "text": [
      "a:\n",
      " [[1 2 3]\n",
      " [4 5 6]]\n",
      "a.flatten():  [1 2 3 4 5 6] (6,)\n",
      "a.ravel():  [1 2 3 4 5 6] (6,)\n"
     ]
    }
   ],
   "source": [
    "a = np.array([1,2,3,4,5,6]).reshape([2, 3])\n",
    "print('a:\\n', a)\n",
    "# 展平\n",
    "print('a.flatten(): ', a.flatten(), a.flatten().shape)  \n",
    "print('a.ravel(): ', a.ravel(), a.ravel().shape)"
   ]
  },
  {
   "cell_type": "code",
   "execution_count": null,
   "id": "d6791589-dd4f-4459-af79-b8d2d0962c07",
   "metadata": {},
   "outputs": [],
   "source": []
  }
 ],
 "metadata": {
  "kernelspec": {
   "display_name": "Python 3 (ipykernel)",
   "language": "python",
   "name": "python3"
  },
  "language_info": {
   "codemirror_mode": {
    "name": "ipython",
    "version": 3
   },
   "file_extension": ".py",
   "mimetype": "text/x-python",
   "name": "python",
   "nbconvert_exporter": "python",
   "pygments_lexer": "ipython3",
   "version": "3.9.13"
  }
 },
 "nbformat": 4,
 "nbformat_minor": 5
}
