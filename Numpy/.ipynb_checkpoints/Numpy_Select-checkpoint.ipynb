{
 "cells": [
  {
   "cell_type": "code",
   "execution_count": 4,
   "id": "6b4406a9-f622-4503-a7b6-35300c8ae8fb",
   "metadata": {},
   "outputs": [],
   "source": [
    "import numpy as np"
   ]
  },
  {
   "cell_type": "markdown",
   "id": "658cec6b-dc03-444b-8836-1b7f0c9c001f",
   "metadata": {},
   "source": [
    "# 數據選取"
   ]
  },
  {
   "cell_type": "code",
   "execution_count": 3,
   "id": "37117f00-002d-40e6-98f0-375dd4de0d2e",
   "metadata": {},
   "outputs": [
    {
     "name": "stdout",
     "output_type": "stream",
     "text": [
      "b[1]:\n",
      " [5 6 7 8]\n",
      "b[1,0]:\n",
      " 5\n",
      "b[[1,0],[2,3]]:\n",
      " [7 4]\n"
     ]
    }
   ],
   "source": [
    "import numpy as np\n",
    "b = np.array([\n",
    "[1,2,3,4],\n",
    "[5,6,7,8],\n",
    "[9,10,11,12]\n",
    "])\n",
    "\n",
    "print(\"b[1]:\\n\", b[1])  # 第1列\n",
    "print(\"b[1,0]:\\n\", b[1,0])  # 第1列第0個數\n",
    "print(\"b[[1,0],[2,3]]:\\n\", b[[1,0], [2,3]])  # 先拿[1, 0]再拿[0, 3]"
   ]
  },
  {
   "cell_type": "markdown",
   "id": "73244c9e-29b4-4f35-b31d-272791ceba3c",
   "metadata": {},
   "source": [
    "## 切片"
   ]
  },
  {
   "cell_type": "code",
   "execution_count": 5,
   "id": "ba319569-e0b7-4ca2-a40e-c54281e48136",
   "metadata": {},
   "outputs": [
    {
     "name": "stdout",
     "output_type": "stream",
     "text": [
      "b[:2]:\n",
      " [[1 2 3 4]\n",
      " [5 6 7 8]]\n",
      "b[:2, :3]:\n",
      " [[1 2 3]\n",
      " [5 6 7]]\n",
      "b[1:3, -2:]:\n",
      " [[ 7  8]\n",
      " [11 12]]\n"
     ]
    }
   ],
   "source": [
    "b = np.array([\n",
    "[1,2,3,4],\n",
    "[5,6,7,8],\n",
    "[9,10,11,12]\n",
    "])\n",
    "\n",
    "print(\"b[:2]:\\n\", b[:2])  # 第0, 1列\n",
    "print(\"b[:2, :3]:\\n\", b[:2, :3])  # 第0, 1列的前3個, 等同: b[[0, 1], [0, 1, 2]]\n",
    "print(\"b[1:3, -2:]:\\n\", b[1:3, -2:])  # 第1, 2 列的最後兩個"
   ]
  },
  {
   "cell_type": "markdown",
   "id": "acea514a-74e0-48c7-a539-f8ac7221162b",
   "metadata": {},
   "source": [
    "## 條件篩選"
   ]
  },
  {
   "cell_type": "code",
   "execution_count": 13,
   "id": "7fedba6c-ebf2-4702-b647-04acb5e05cc3",
   "metadata": {},
   "outputs": [
    {
     "name": "stdout",
     "output_type": "stream",
     "text": [
      "a:\n",
      " [[ 1  2  3  4]\n",
      " [ 5  6  7  8]\n",
      " [ 9 10 11 12]]\n",
      "condition:\n",
      " [[False False False False]\n",
      " [False False False  True]\n",
      " [ True  True  True  True]]\n",
      "a[condition]:\n",
      " [ 8  9 10 11 12]\n",
      "a[condition1]:\n",
      " [ 8  9 11 12]\n",
      "np.where(condition, -1, a):\n",
      " [[ 1  2  3  4]\n",
      " [ 5  6  7 -1]\n",
      " [-1 -1 -1 -1]]\n"
     ]
    }
   ],
   "source": [
    "a = np.array([\n",
    "[1,2,3,4],\n",
    "[5,6,7,8],\n",
    "[9,10,11,12]\n",
    "])\n",
    "condition = a > 7  # True, False矩陣, 利用他做數據篩選的邏輯\n",
    "condition1 = (a > 7) & (a != 10)\n",
    "a_where = np.where(condition, -1, a)  # 滿足條件的用-1取代, 其餘用a取代\n",
    "print('a:\\n', a)\n",
    "print('condition:\\n', condition)  \n",
    "print('a[condition]:\\n', a[condition])\n",
    "print('a[condition1]:\\n', a[condition1])\n",
    "print('np.where(condition, -1, a):\\n', a_where)"
   ]
  },
  {
   "cell_type": "code",
   "execution_count": null,
   "id": "9f693bd1-8850-44f1-9564-cc42ced6219d",
   "metadata": {},
   "outputs": [],
   "source": [
    "\n",
    "condition = a > 7\n",
    "print(np.where(condition, -1, a))"
   ]
  }
 ],
 "metadata": {
  "kernelspec": {
   "display_name": "Python 3 (ipykernel)",
   "language": "python",
   "name": "python3"
  },
  "language_info": {
   "codemirror_mode": {
    "name": "ipython",
    "version": 3
   },
   "file_extension": ".py",
   "mimetype": "text/x-python",
   "name": "python",
   "nbconvert_exporter": "python",
   "pygments_lexer": "ipython3",
   "version": "3.9.13"
  }
 },
 "nbformat": 4,
 "nbformat_minor": 5
}
