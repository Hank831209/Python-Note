{
 "cells": [
  {
   "cell_type": "code",
   "execution_count": 12,
   "id": "7bfdadf1-5a6a-4cff-9112-afbc0a0edea6",
   "metadata": {},
   "outputs": [],
   "source": [
    "import numpy as np\n",
    "import os"
   ]
  },
  {
   "cell_type": "markdown",
   "id": "e1eead6d-9313-4bd0-9763-d4ebb7367b36",
   "metadata": {},
   "source": [
    "# 數據讀取\n",
    "## 不能讀取 excel!!!\n",
    "## txt"
   ]
  },
  {
   "cell_type": "code",
   "execution_count": 7,
   "id": "1fa3f365-5919-4285-8b15-17f69b507185",
   "metadata": {},
   "outputs": [
    {
     "name": "stdout",
     "output_type": "stream",
     "text": [
      "原始數據:\n",
      "  # StudentID, Age, Score\n",
      "20131,10,67\n",
      "20132,11,88\n",
      "20133,12,98\n",
      "20134,8,100\n",
      "20135,9,75\n",
      "20136,12,78\n",
      "\n",
      "load的數據:\n",
      " [[20131    10    67]\n",
      " [20132    11    88]\n",
      " [20133    12    98]\n",
      " [20134     8   100]\n",
      " [20135     9    75]\n",
      " [20136    12    78]]\n"
     ]
    }
   ],
   "source": [
    "with open(\"Data/Data.txt\", \"r\") as f:\n",
    "    print(\"原始數據:\\n\", f.read())\n",
    "\n",
    "# 以逗點為分隔符號, 略過第一行\n",
    "data = np.loadtxt(\"Data/Data.txt\", delimiter=\",\", skiprows=1, dtype=np.int64)\n",
    "print('\\nload的數據:\\n', data)"
   ]
  },
  {
   "cell_type": "markdown",
   "id": "69587adb-7221-4922-b725-6cda0e3fec61",
   "metadata": {},
   "source": [
    "## csv"
   ]
  },
  {
   "cell_type": "code",
   "execution_count": 8,
   "id": "1117592c-7760-4610-b5a5-ab6366cc71f2",
   "metadata": {},
   "outputs": [
    {
     "name": "stdout",
     "output_type": "stream",
     "text": [
      "原始數據:\n",
      "  # StudentID, Age, Score\n",
      "20131,10,67\n",
      "20132,11,88\n",
      "20133,12,98\n",
      "20134,8,100\n",
      "20135,9,75\n",
      "20136,12,78\n",
      "\n",
      "load的數據:\n",
      " [[20131    10    67]\n",
      " [20132    11    88]\n",
      " [20133    12    98]\n",
      " [20134     8   100]\n",
      " [20135     9    75]\n",
      " [20136    12    78]]\n"
     ]
    }
   ],
   "source": [
    "with open(\"Data/Data.csv\", \"r\") as f:\n",
    "    print(\"原始數據:\\n\", f.read())\n",
    "\n",
    "# 以逗點為分隔符號, 略過第一行\n",
    "data = np.loadtxt(\"Data/Data.csv\", delimiter=\",\", skiprows=1, dtype=np.int64)\n",
    "print('\\nload的數據:\\n', data)"
   ]
  },
  {
   "cell_type": "markdown",
   "id": "4ba12f60-4cb9-4a50-b92f-0568162787f8",
   "metadata": {},
   "source": [
    "## 字串"
   ]
  },
  {
   "cell_type": "code",
   "execution_count": 10,
   "id": "62441312-d6d3-459e-b420-3e58a031d828",
   "metadata": {},
   "outputs": [
    {
     "name": "stdout",
     "output_type": "stream",
     "text": [
      "[[20131    10    67]\n",
      " [20132    11    88]\n",
      " [20133    12    98]\n",
      " [20134     8   100]\n",
      " [20135     9    75]\n",
      " [20136    12    78]]\n"
     ]
    }
   ],
   "source": [
    "row_string = \"20131, 10, 67, 20132, 11, 88, 20133, 12, 98, 20134, 8, 100, 20135, 9, 75, 20136, 12, 78\"\n",
    "data = np.fromstring(row_string, dtype=np.int64, sep=\",\")\n",
    "data = data.reshape(6, 3)\n",
    "print(data)"
   ]
  },
  {
   "cell_type": "markdown",
   "id": "bee71f96-0587-4fad-80c5-5d3a742be7ab",
   "metadata": {},
   "source": [
    "# 數據保存\n",
    "## csv or txt"
   ]
  },
  {
   "cell_type": "code",
   "execution_count": 13,
   "id": "e2665156-5e56-475b-94f0-46bd50e5f45a",
   "metadata": {},
   "outputs": [
    {
     "name": "stdout",
     "output_type": "stream",
     "text": [
      "numpy data:\n",
      " [[20131    10    67]\n",
      " [20132    11    88]\n",
      " [20133    12    98]\n",
      " [20134     8   100]\n",
      " [20135     9    75]\n",
      " [20136    12    78]]\n",
      "data file in directory: ['Data.csv', 'Data.txt', 'Data_Save.csv']\n",
      "\n",
      " 20131,10,67\n",
      "20132,11,88\n",
      "20133,12,98\n",
      "20134,8,100\n",
      "20135,9,75\n",
      "20136,12,78\n",
      "\n"
     ]
    }
   ],
   "source": [
    "print(\"numpy data:\\n\", data)\n",
    "np.savetxt(\"Data/Data_Save.csv\", data, delimiter=\",\", fmt='%s')\n",
    "\n",
    "print(\"data file in directory:\", os.listdir(\"Data\"))\n",
    "with open(\"Data/Data_Save.csv\", \"r\") as f:\n",
    "    print(\"\\n\", f.read())"
   ]
  },
  {
   "cell_type": "markdown",
   "id": "7b7d5346-bc8c-4db0-bf77-4126274febe5",
   "metadata": {},
   "source": [
    "## 二進制 np.save() 存.npy檔 \n",
    "### 僅能以np.load()讀取"
   ]
  },
  {
   "cell_type": "code",
   "execution_count": 15,
   "id": "83b92b88-7fdd-404e-9eae-a86dcb7ef44a",
   "metadata": {},
   "outputs": [
    {
     "name": "stdout",
     "output_type": "stream",
     "text": [
      "data:\n",
      " [[20131    10    67]\n",
      " [20132    11    88]\n",
      " [20133    12    98]\n",
      " [20134     8   100]\n",
      " [20135     9    75]\n",
      " [20136    12    78]]\n",
      "data file in directory: ['Data.csv', 'Data.txt', 'Data_Save.csv', 'Data_Save.npy']\n",
      "[[20131    10    67]\n",
      " [20132    11    88]\n",
      " [20133    12    98]\n",
      " [20134     8   100]\n",
      " [20135     9    75]\n",
      " [20136    12    78]]\n"
     ]
    }
   ],
   "source": [
    "print('data:\\n', data)\n",
    "np.save(\"Data/Data_Save.npy\", data)\n",
    "\n",
    "print(\"data file in directory:\", os.listdir(\"Data\"))\n",
    "npy_data = np.load(\"Data/Data_Save.npy\")\n",
    "print(npy_data)"
   ]
  },
  {
   "cell_type": "markdown",
   "id": "b3545a50-4eae-467c-b1df-e145a39005fe",
   "metadata": {},
   "source": [
    "## 同時存多個array: np.savez()\n",
    "### 僅能以 np.load()讀取"
   ]
  },
  {
   "cell_type": "code",
   "execution_count": 16,
   "id": "365bdf1a-599b-4673-b918-8f56e9091836",
   "metadata": {},
   "outputs": [
    {
     "name": "stdout",
     "output_type": "stream",
     "text": [
      "data file in directory: ['Data.csv', 'Data.txt', 'Data_Save.csv', 'Data_Save.npy', 'Data_Save.npz']\n",
      "train:  [1 2 3]\n",
      "test:  [11 22 33]\n"
     ]
    }
   ],
   "source": [
    "train_data = np.array([1,2,3])\n",
    "test_data = np.array([11,22,33])\n",
    "\n",
    "# train, test為自訂的標籤, 讀取數據回來時使用的, 類似讀取字典\n",
    "np.savez(\"Data/Data_Save.npz\", train=train_data, test=test_data)\n",
    "print(\"data file in directory:\", os.listdir(\"Data\"))\n",
    "npz_data = np.load(\"Data/Data_Save.npz\")\n",
    "print(\"train: \", npz_data[\"train\"])\n",
    "print(\"test: \", npz_data[\"test\"])"
   ]
  },
  {
   "cell_type": "markdown",
   "id": "6e4494e9-84f4-42ba-95b0-6ebab16e9359",
   "metadata": {},
   "source": [
    "## 壓縮存取數據, np.savez_compressed()\n",
    "### 僅能以np.load()讀取, 檔案大小更小"
   ]
  },
  {
   "cell_type": "code",
   "execution_count": 18,
   "id": "10027b6f-5612-4ee7-8ac3-4b7cfc1de7f3",
   "metadata": {},
   "outputs": [
    {
     "name": "stdout",
     "output_type": "stream",
     "text": [
      "data file in directory: ['Data.csv', 'Data.txt', 'Data_Save.csv', 'Data_Save.npy', 'Data_Save.npz', 'Data_Save_compressed.npz']\n",
      "train: [1 2 3]\n",
      "test: [11 22 33]\n",
      "compressed file size: 402\n",
      "original file size: 528\n"
     ]
    }
   ],
   "source": [
    "np.savez_compressed(\"Data/Data_Save_compressed.npz\", train=train_data, test=test_data)\n",
    "print(\"data file in directory:\", os.listdir(\"Data\"))\n",
    "\n",
    "npz_data_compressed = np.load(\"Data/Data_Save_compressed.npz\")\n",
    "print(\"train:\", npz_data_compressed[\"train\"])\n",
    "print(\"test:\", npz_data_compressed[\"test\"])\n",
    "\n",
    "print(\"compressed file size:\", os.path.getsize(\"Data/Data_Save_compressed.npz\"))\n",
    "print(\"original file size:\", os.path.getsize(\"Data/Data_Save.npz\"))\n"
   ]
  },
  {
   "cell_type": "code",
   "execution_count": null,
   "id": "3a50f657-cb15-4b04-a9bc-8f63772a909a",
   "metadata": {},
   "outputs": [],
   "source": []
  }
 ],
 "metadata": {
  "kernelspec": {
   "display_name": "Python 3 (ipykernel)",
   "language": "python",
   "name": "python3"
  },
  "language_info": {
   "codemirror_mode": {
    "name": "ipython",
    "version": 3
   },
   "file_extension": ".py",
   "mimetype": "text/x-python",
   "name": "python",
   "nbconvert_exporter": "python",
   "pygments_lexer": "ipython3",
   "version": "3.9.12"
  }
 },
 "nbformat": 4,
 "nbformat_minor": 5
}
