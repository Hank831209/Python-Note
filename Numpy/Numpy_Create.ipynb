{
 "cells": [
  {
   "cell_type": "code",
   "execution_count": 2,
   "id": "62cc8e7b-b92f-4687-958c-b8b82e517005",
   "metadata": {},
   "outputs": [],
   "source": [
    "import numpy as np"
   ]
  },
  {
   "cell_type": "markdown",
   "id": "34e6caaa-3a21-444a-8a59-ef43e1e791a4",
   "metadata": {},
   "source": [
    "# 創建數據\n",
    "## 常用屬性:\n",
    "### ndim: 維度 ex: 幾維空間裡面\n",
    "### shape: ex: (3, 4)\n",
    "### size: 總數, ex: 12"
   ]
  },
  {
   "cell_type": "code",
   "execution_count": 4,
   "id": "6268d766-7c54-4ef1-a393-f5a92844466f",
   "metadata": {},
   "outputs": [
    {
     "name": "stdout",
     "output_type": "stream",
     "text": [
      "數據：  [ 5 10 12  6]\n",
      "維度：  1\n",
      "shape：  (4,)\n",
      "size：  4\n"
     ]
    }
   ],
   "source": [
    "import numpy as np\n",
    "\n",
    "cars = np.array([5, 10, 12, 6])\n",
    "print(\"數據： \", cars)\n",
    "print(\"維度： \", cars.ndim)\n",
    "print(\"shape： \", cars.shape)\n",
    "print(\"size： \", cars.size)"
   ]
  },
  {
   "cell_type": "markdown",
   "id": "44926e4c-dcf0-4096-95f5-4d4cf2899661",
   "metadata": {},
   "source": [
    "## 規則數據:"
   ]
  },
  {
   "cell_type": "code",
   "execution_count": 29,
   "id": "e2332d22-2649-4bdc-9f33-d658df1fb9d5",
   "metadata": {},
   "outputs": [
    {
     "name": "stdout",
     "output_type": "stream",
     "text": [
      "np.zeros((2, 3)):\n",
      " [[0. 0. 0.]\n",
      " [0. 0. 0.]]\n",
      "np.ones((3, 2)):\n",
      " [[1. 1.]\n",
      " [1. 1.]\n",
      " [1. 1.]]\n",
      "np.full((2,3), 9):\n",
      " [[9 9 9]\n",
      " [9 9 9]]\n",
      "np.empty((2,3)):\n",
      " [[1. 1. 1.]\n",
      " [1. 1. 1.]]\n"
     ]
    }
   ],
   "source": [
    "import numpy as np\n",
    "\n",
    "print(\"np.zeros((2, 3)):\\n\", np.zeros((2, 3)))  # (2, 3) 都是0\n",
    "print(\"np.ones((3, 2)):\\n\", np.ones((3, 2)))  # (2, 3) 都是0\n",
    "print(\"np.full((2,3), 9):\\n\", np.full((2,3), 9))  # (2, 3) 都是9\n",
    "# 創建速度較快可理解為placeholder, 用於數據必然會被取代掉的時候\n",
    "print(\"np.empty((2,3)):\\n\", np.empty((2,3)))  "
   ]
  },
  {
   "cell_type": "code",
   "execution_count": 31,
   "id": "96c10820-43ff-4bee-93d6-cb4b16c55df5",
   "metadata": {},
   "outputs": [
    {
     "name": "stdout",
     "output_type": "stream",
     "text": [
      "ones: (2, 3) int64\n",
      "ones_like: (2, 3) int64\n",
      "ones_like value:\n",
      " [[1 1 1]\n",
      " [1 1 1]]\n",
      "empty_like value:\n",
      " [[1 1 1]\n",
      " [1 1 1]]\n"
     ]
    }
   ],
   "source": [
    "data = np.array([\n",
    "[1,2,3],\n",
    "[4,5,6]\n",
    "], dtype=np.int64)\n",
    "\n",
    "# 產生一樣大小的矩陣\n",
    "ones = np.ones(data.shape, dtype=data.dtype)\n",
    "ones_like = np.ones_like(data)\n",
    "empty = np.empty_like(data)\n",
    "print(\"ones:\", ones.shape, ones.dtype)\n",
    "print(\"ones_like:\", ones_like.shape, ones_like.dtype)\n",
    "print(\"ones_like value:\\n\", ones_like)\n",
    "print(\"empty_like value:\\n\", empty)"
   ]
  },
  {
   "cell_type": "code",
   "execution_count": 34,
   "id": "2c83c64f-5d90-4969-8b3a-34389efea3aa",
   "metadata": {},
   "outputs": [
    {
     "name": "stdout",
     "output_type": "stream",
     "text": [
      "python range: [0, 1, 2, 3, 4]\n",
      "numpy arange: [0 1 2 3 4]\n",
      "python range: [3, 5, 7, 9]\n",
      "numpy arange: [3 5 7 9]\n"
     ]
    }
   ],
   "source": [
    "# arange類似python range\n",
    "print(\"python range:\", list(range(5)))\n",
    "print(\"numpy arange:\", np.arange(5))\n",
    "# (start, end, step) \n",
    "print(\"python range:\", list(range(3, 10, 2)))\n",
    "print(\"numpy arange:\", np.arange(3, 10, 2))"
   ]
  },
  {
   "cell_type": "code",
   "execution_count": 36,
   "id": "9df7c575-6b0e-440e-9035-94882bb71843",
   "metadata": {},
   "outputs": [
    {
     "name": "stdout",
     "output_type": "stream",
     "text": [
      "linspace: [-1.  -0.5  0.   0.5  1. ]\n",
      "5 segments: [-1.  -0.6 -0.2  0.2  0.6]\n"
     ]
    }
   ],
   "source": [
    "# (start, end, num)\n",
    "print(\"linspace:\", np.linspace(-1, 1, 5))  # -1 ~ 1 取5的平均距離的點\n",
    "print(\"5 segments:\", np.linspace(-1, 1, 5, endpoint=False))  # 不包含結尾的點"
   ]
  },
  {
   "cell_type": "markdown",
   "id": "5d489036-2d80-488d-bc57-7aeb6e6279e3",
   "metadata": {},
   "source": [
    "## 隨機數據:\n",
    "### 隨機生成數據"
   ]
  },
  {
   "cell_type": "code",
   "execution_count": 27,
   "id": "ab6cf995-8794-4c18-87fe-9283e733caf2",
   "metadata": {},
   "outputs": [
    {
     "name": "stdout",
     "output_type": "stream",
     "text": [
      "0-1的隨機數:\n",
      " [[0.11754967 0.70027353]\n",
      " [0.92584218 0.65980515]\n",
      " [0.28510163 0.03714075]]\n",
      "0-1的隨機數:\n",
      " [[0.88768274 0.94663151]\n",
      " [0.41603207 0.23322921]\n",
      " [0.33193068 0.31919775]]\n",
      "常態分佈生成隨機數:\n",
      " [[-0.82294776 -0.78554342]\n",
      " [-2.00312346 -1.21602521]\n",
      " [ 2.01297842 -1.9140059 ]]\n",
      "隨機整數:\n",
      " [[ 0 -2]\n",
      " [ 3  1]\n",
      " [-2 -3]]\n",
      "常態分佈生成隨機數:  [[0.88807644 1.11931007 0.80472851 1.06110491 1.04809758]]\n",
      "均勻分布： [-0.68524031 -0.38101346 -0.85616295 -0.7962846  -0.29896   ]\n"
     ]
    }
   ],
   "source": [
    "# 與Python內建的random相比，多了很多數據型態可使用\n",
    "dim1, dim2 = 3, 2\n",
    "# 兩個功能一樣寫法不同而已\n",
    "print('0-1的隨機數:\\n', np.random.random([dim1, dim2]))\n",
    "print('0-1的隨機數:\\n', np.random.rand(dim1, dim2))  \n",
    "# 按照常態分佈去生成資料\n",
    "print('常態分佈生成隨機數:\\n', np.random.randn(dim1, dim2))\n",
    "print('隨機整數:\\n', np.random.randint(low=-3, high=6, size=[3, 2]))\n",
    "print('常態分佈生成隨機數: ', np.random.normal(loc=1, scale=0.2, size=(1, 5)))  # 平均, 標準差\n",
    "\n",
    "# (最低，最高，size)\n",
    "print(\"均勻分布：\", np.random.uniform(low=-1, high=1, size=(5, )))\n",
    "# np.random.seed(2)  # 固定隨機, 之後隨機的數都會一樣"
   ]
  },
  {
   "cell_type": "markdown",
   "id": "a47ecd22-8f4e-41df-a7f3-512925d8c04a",
   "metadata": {},
   "source": [
    "### 隨機選擇數據"
   ]
  },
  {
   "cell_type": "code",
   "execution_count": 19,
   "id": "031c46c3-314c-49f5-bc07-0d2abde83ae1",
   "metadata": {},
   "outputs": [
    {
     "name": "stdout",
     "output_type": "stream",
     "text": [
      "原始數據:  [2 1 3 4 6]\n",
      "選一個： 6\n",
      "選多個(可能重複)： [6 2 6]\n",
      "不重複的選多個(不放回)： [3 1 6]\n",
      "帶權重的選擇： [6 6 4 6 6 4 6 4 6 6]\n"
     ]
    }
   ],
   "source": [
    "# 隨機選擇\n",
    "data = np.array([2,1,3,4,6])\n",
    "print('原始數據: ', data)\n",
    "print(\"選一個：\", np.random.choice(data))\n",
    "print(\"選多個(可能重複)：\", np.random.choice(data, size=3))\n",
    "print(\"不重複的選多個(不放回)：\", np.random.choice(data, size=3, replace=False))\n",
    "print(\"帶權重的選擇：\", np.random.choice(data, size=10, p=[0, 0, 0, 0.2, 0.8]))"
   ]
  },
  {
   "cell_type": "code",
   "execution_count": null,
   "id": "230401e6-6519-4a98-8b17-3e2c9ce8a367",
   "metadata": {},
   "outputs": [],
   "source": []
  },
  {
   "cell_type": "code",
   "execution_count": null,
   "id": "1fb97842-a696-402c-a9fd-abf10664c840",
   "metadata": {},
   "outputs": [],
   "source": []
  },
  {
   "cell_type": "code",
   "execution_count": null,
   "id": "299ad3ba-4185-48c1-ab86-925971dcb622",
   "metadata": {},
   "outputs": [],
   "source": []
  }
 ],
 "metadata": {
  "kernelspec": {
   "display_name": "Python 3 (ipykernel)",
   "language": "python",
   "name": "python3"
  },
  "language_info": {
   "codemirror_mode": {
    "name": "ipython",
    "version": 3
   },
   "file_extension": ".py",
   "mimetype": "text/x-python",
   "name": "python",
   "nbconvert_exporter": "python",
   "pygments_lexer": "ipython3",
   "version": "3.9.12"
  }
 },
 "nbformat": 4,
 "nbformat_minor": 5
}
