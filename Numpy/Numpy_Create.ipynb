{
 "cells": [
  {
   "cell_type": "markdown",
   "id": "34e6caaa-3a21-444a-8a59-ef43e1e791a4",
   "metadata": {},
   "source": [
    "# 創建數據\n",
    "## 常用屬性:\n",
    "### ndim: 維度 ex: 幾維空間裡面\n",
    "### shape: ex: (3, 4)\n",
    "### size: 總數, ex: 12"
   ]
  },
  {
   "cell_type": "code",
   "execution_count": 4,
   "id": "6268d766-7c54-4ef1-a393-f5a92844466f",
   "metadata": {},
   "outputs": [
    {
     "name": "stdout",
     "output_type": "stream",
     "text": [
      "數據：  [ 5 10 12  6]\n",
      "維度：  1\n",
      "shape：  (4,)\n",
      "size：  4\n"
     ]
    }
   ],
   "source": [
    "import numpy as np\n",
    "\n",
    "cars = np.array([5, 10, 12, 6])\n",
    "print(\"數據： \", cars)\n",
    "print(\"維度： \", cars.ndim)\n",
    "print(\"shape： \", cars.shape)\n",
    "print(\"size： \", cars.size)"
   ]
  },
  {
   "cell_type": "markdown",
   "id": "44926e4c-dcf0-4096-95f5-4d4cf2899661",
   "metadata": {},
   "source": [
    "## 生成數據:\n",
    "### 規則數據:"
   ]
  },
  {
   "cell_type": "code",
   "execution_count": 29,
   "id": "e2332d22-2649-4bdc-9f33-d658df1fb9d5",
   "metadata": {},
   "outputs": [
    {
     "name": "stdout",
     "output_type": "stream",
     "text": [
      "np.zeros((2, 3)):\n",
      " [[0. 0. 0.]\n",
      " [0. 0. 0.]]\n",
      "np.ones((3, 2)):\n",
      " [[1. 1.]\n",
      " [1. 1.]\n",
      " [1. 1.]]\n",
      "np.full((2,3), 9):\n",
      " [[9 9 9]\n",
      " [9 9 9]]\n",
      "np.empty((2,3)):\n",
      " [[1. 1. 1.]\n",
      " [1. 1. 1.]]\n"
     ]
    }
   ],
   "source": [
    "import numpy as np\n",
    "\n",
    "print(\"np.zeros((2, 3)):\\n\", np.zeros((2, 3)))  # (2, 3) 都是0\n",
    "print(\"np.ones((3, 2)):\\n\", np.ones((3, 2)))  # (2, 3) 都是0\n",
    "print(\"np.full((2,3), 9):\\n\", np.full((2,3), 9))  # (2, 3) 都是9\n",
    "# 創建速度較快可理解為placeholder, 用於數據必然會被取代掉的時候\n",
    "print(\"np.empty((2,3)):\\n\", np.empty((2,3)))  "
   ]
  },
  {
   "cell_type": "code",
   "execution_count": 31,
   "id": "96c10820-43ff-4bee-93d6-cb4b16c55df5",
   "metadata": {},
   "outputs": [
    {
     "name": "stdout",
     "output_type": "stream",
     "text": [
      "ones: (2, 3) int64\n",
      "ones_like: (2, 3) int64\n",
      "ones_like value:\n",
      " [[1 1 1]\n",
      " [1 1 1]]\n",
      "empty_like value:\n",
      " [[1 1 1]\n",
      " [1 1 1]]\n"
     ]
    }
   ],
   "source": [
    "data = np.array([\n",
    "[1,2,3],\n",
    "[4,5,6]\n",
    "], dtype=np.int64)\n",
    "\n",
    "# 產生一樣大小的矩陣\n",
    "ones = np.ones(data.shape, dtype=data.dtype)\n",
    "ones_like = np.ones_like(data)\n",
    "empty = np.empty_like(data)\n",
    "print(\"ones:\", ones.shape, ones.dtype)\n",
    "print(\"ones_like:\", ones_like.shape, ones_like.dtype)\n",
    "print(\"ones_like value:\\n\", ones_like)\n",
    "print(\"empty_like value:\\n\", empty)"
   ]
  },
  {
   "cell_type": "code",
   "execution_count": 34,
   "id": "2c83c64f-5d90-4969-8b3a-34389efea3aa",
   "metadata": {},
   "outputs": [
    {
     "name": "stdout",
     "output_type": "stream",
     "text": [
      "python range: [0, 1, 2, 3, 4]\n",
      "numpy arange: [0 1 2 3 4]\n",
      "python range: [3, 5, 7, 9]\n",
      "numpy arange: [3 5 7 9]\n"
     ]
    }
   ],
   "source": [
    "# arange類似python range\n",
    "print(\"python range:\", list(range(5)))\n",
    "print(\"numpy arange:\", np.arange(5))\n",
    "# (start, end, step) \n",
    "print(\"python range:\", list(range(3, 10, 2)))\n",
    "print(\"numpy arange:\", np.arange(3, 10, 2))"
   ]
  },
  {
   "cell_type": "code",
   "execution_count": 36,
   "id": "9df7c575-6b0e-440e-9035-94882bb71843",
   "metadata": {},
   "outputs": [
    {
     "name": "stdout",
     "output_type": "stream",
     "text": [
      "linspace: [-1.  -0.5  0.   0.5  1. ]\n",
      "5 segments: [-1.  -0.6 -0.2  0.2  0.6]\n"
     ]
    }
   ],
   "source": [
    "# (start, end, num)\n",
    "print(\"linspace:\", np.linspace(-1, 1, 5))  # -1 ~ 1 取5的平均距離的點\n",
    "print(\"5 segments:\", np.linspace(-1, 1, 5, endpoint=False))  # 不包含結尾的點"
   ]
  },
  {
   "cell_type": "markdown",
   "id": "5d489036-2d80-488d-bc57-7aeb6e6279e3",
   "metadata": {},
   "source": [
    "### 隨機數據:"
   ]
  },
  {
   "cell_type": "code",
   "execution_count": null,
   "id": "ab6cf995-8794-4c18-87fe-9283e733caf2",
   "metadata": {},
   "outputs": [],
   "source": []
  }
 ],
 "metadata": {
  "kernelspec": {
   "display_name": "Python 3 (ipykernel)",
   "language": "python",
   "name": "python3"
  },
  "language_info": {
   "codemirror_mode": {
    "name": "ipython",
    "version": 3
   },
   "file_extension": ".py",
   "mimetype": "text/x-python",
   "name": "python",
   "nbconvert_exporter": "python",
   "pygments_lexer": "ipython3",
   "version": "3.9.13"
  }
 },
 "nbformat": 4,
 "nbformat_minor": 5
}
