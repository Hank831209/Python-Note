{
 "cells": [
  {
   "cell_type": "code",
   "execution_count": 2,
   "id": "df22f410-379b-4d24-be57-6e438f29cde2",
   "metadata": {},
   "outputs": [],
   "source": [
    "import pandas as pd\n",
    "import requests\n",
    "import os"
   ]
  },
  {
   "cell_type": "code",
   "execution_count": 3,
   "id": "aece5cf1-5952-43e3-bb8e-9ccb2244f8fb",
   "metadata": {},
   "outputs": [],
   "source": [
    "keyword = '軟體工程師'  # 使用者可自行輸入\n",
    "max_page = 10         # 使用者可自行輸入\n",
    "folder_path = '104'\n",
    "headers = {\n",
    "    'User-Agent': 'Mozilla/5.0 (Windows NT 10.0; Win64; x64) AppleWebKit/537.36 (KHTML, like Gecko) Chrome/104.0.0.0 Safari/537.36',\n",
    "    'Referer': 'https://www.104.com.tw/jobs/main/'\n",
    "}"
   ]
  },
  {
   "cell_type": "code",
   "execution_count": 74,
   "id": "32419db2-595b-4c48-aadc-3df386b80656",
   "metadata": {},
   "outputs": [
    {
     "data": {
      "text/plain": [
       "0"
      ]
     },
     "execution_count": 74,
     "metadata": {},
     "output_type": "execute_result"
    }
   ],
   "source": [
    "area_json = 'https://static.104.com.tw/category-tool/json/Area.json'\n",
    "ro = '1'  # 0: 全部, 1: 全職, 2: 兼職\n",
    "isnew = '7'  # 幾日內更新的工作\n",
    "keyword = '軟體工程師'\n",
    "url = f'https://www.104.com.tw/jobs/search/?ro={ro}&isnew={isnew}&kwop=7&keyword={keyword}&expansionType=area%2Cspec%2Ccom%2Cjob%2Cwf%2Cwktm&area={area}&order=15&asc=0&page=1&mode=l&jobsource=2018indexpoc&langFlag=0&langStatus=0&recommendJob=1&hotJob=1'\n",
    "url = 'https://www.104.com.tw/jobs/search/?ro=0&isnew=0&kwop=7&keyword=%E8%BB%9F%E9%AB%94%E5%B7%A5%E7%A8%8B%E5%B8%AB&expansionType=area%2Cspec%2Ccom%2Cjob%2Cwf%2Cwktm&area=6001001000&order=15&asc=0&page=1&mode=l&jobsource=2018indexpoc&langFlag=0&langStatus=0&recommendJob=1&hotJob=1'\n",
    "url = f'https://www.104.com.tw/jobs/search/list?ro={ro}&isnew={isnew}&kwop=7&keyword={keyword}&area={area}&order=15&asc=0&page=2&mode=l'\n",
    "response = requests.get(url=url, headers=headers)\n",
    "response.json()\n",
    "0"
   ]
  },
  {
   "cell_type": "code",
   "execution_count": 44,
   "id": "e9bbe2c3-5800-46a7-b4de-a4be9f295f26",
   "metadata": {},
   "outputs": [
    {
     "data": {
      "text/plain": [
       "['6001001001', '6001002000']"
      ]
     },
     "execution_count": 44,
     "metadata": {},
     "output_type": "execute_result"
    }
   ],
   "source": [
    "import pandas as pd\n",
    "import requests\n",
    "def area_list(Area, headers):\n",
    "    area_json = 'https://static.104.com.tw/category-tool/json/Area.json'\n",
    "    response = requests.get(url=area_json, headers=headers)\n",
    "    df = pd.DataFrame(response.json()[0]['n'])\n",
    "    df = df.explode('n', ignore_index=True)\n",
    "    df['des2'] = df['n'].apply(lambda x: x['des'])\n",
    "    df['no2'] = df['n'].apply(lambda x: x['no'])\n",
    "    df = df.loc[:, ['des', 'no', 'des2', 'no2']]\n",
    "    Area_list = list()\n",
    "    for area in Area:\n",
    "        for i in df_area.index:\n",
    "            if df_area.iloc[i]['des']  == area:\n",
    "                b = df_area.iloc[i]['no']\n",
    "            elif df_area.iloc[i]['des2']  == area:\n",
    "                b = df_area.iloc[i]['no2']\n",
    "        Area_list.append(b)\n",
    "    return Area_list"
   ]
  },
  {
   "cell_type": "code",
   "execution_count": 72,
   "id": "42bd2475-9ca5-4fc6-8b05-e51ddbf0beb7",
   "metadata": {},
   "outputs": [
    {
     "name": "stdout",
     "output_type": "stream",
     "text": [
      "運算時間:\t 13.661875247955322\n"
     ]
    }
   ],
   "source": [
    "import pandas as pd\n",
    "import requests\n",
    "import os\n",
    "import time\n",
    "\n",
    "def area_list(Area, headers):\n",
    "    area_json = 'https://static.104.com.tw/category-tool/json/Area.json'\n",
    "    response = requests.get(url=area_json, headers=headers)\n",
    "    df = pd.DataFrame(response.json()[0]['n'])\n",
    "    df = df.explode('n', ignore_index=True)\n",
    "    df['des2'] = df['n'].apply(lambda x: x['des'])\n",
    "    df['no2'] = df['n'].apply(lambda x: x['no'])\n",
    "    df = df.loc[:, ['des', 'no', 'des2', 'no2']]\n",
    "    Area_list = list()\n",
    "    for area in Area:\n",
    "        for i in df_area.index:\n",
    "            if df_area.iloc[i]['des']  == area:\n",
    "                b = df_area.iloc[i]['no']\n",
    "            elif df_area.iloc[i]['des2']  == area:\n",
    "                b = df_area.iloc[i]['no2']\n",
    "        Area_list.append(b)\n",
    "    return Area_list\n",
    "\n",
    "\n",
    "start_time = time.time()\n",
    "search_list = {\n",
    "    'jobName': '職務名稱',\n",
    "    'custName': '公司名稱',\n",
    "    'jobAddrNoDesc': '工作地點',\n",
    "    'jobAddress': '詳細地址',\n",
    "    'optionEdu': '學歷',\n",
    "    'periodDesc': '工作經歷',\n",
    "    'salaryDesc': '待遇',\n",
    "    'applyDesc': '應徵人數',\n",
    "    'description': '工作內容',\n",
    "    'coIndustryDesc': '產業描述',\n",
    "    'appearDate': '發布日期',\n",
    "    'link': '網頁連結'\n",
    "}\n",
    "headers = {\n",
    "    'User-Agent': 'Mozilla/5.0 (Windows NT 10.0; Win64; x64) AppleWebKit/537.36 (KHTML, like Gecko) Chrome/104.0.0.0 Safari/537.36',\n",
    "    'Referer': 'https://www.104.com.tw/jobs/main/'\n",
    "}\n",
    "folder_path = '104'\n",
    "max_page = 10         # 使用者可自行輸入\n",
    "ro = '1'  # 0: 全部, 1: 全職, 2: 兼職\n",
    "isnew = '7'  # 幾日內更新的工作\n",
    "keyword = '軟體工程師'\n",
    "Area = ['台北市中正區', '新北市']  # 想搜尋的地區\n",
    "Area = area_list(Area, headers)\n",
    "df = list()\n",
    "for area in Area:\n",
    "    for page in range(1, max_page):\n",
    "        url = f'https://www.104.com.tw/jobs/search/list?ro={ro}&isnew={isnew}&kwop=7&keyword={keyword}&area={area}&order=15&asc=0&page={page}&mode=l'\n",
    "        response = requests.get(url=url, headers=headers)\n",
    "        ndf = pd.DataFrame(response.json()['data']['list'])\n",
    "        df.append(ndf)\n",
    "        if ndf.shape[0] < 30:\n",
    "            break\n",
    "df = pd.concat(df, ignore_index=True)\n",
    "df = df.rename(columns=search_list)  # 可寫成字典更改column名或index名\n",
    "if not os.path.exists(folder_path):\n",
    "    os.mkdir(folder_path)\n",
    "df.to_excel(os.path.join(folder_path, f'{keyword}_job_search.xlsx'))\n",
    "end_time = time.time()\n",
    "print('運算時間:\\t', end_time - start_time)\n"
   ]
  }
 ],
 "metadata": {
  "kernelspec": {
   "display_name": "Python 3 (ipykernel)",
   "language": "python",
   "name": "python3"
  },
  "language_info": {
   "codemirror_mode": {
    "name": "ipython",
    "version": 3
   },
   "file_extension": ".py",
   "mimetype": "text/x-python",
   "name": "python",
   "nbconvert_exporter": "python",
   "pygments_lexer": "ipython3",
   "version": "3.9.13"
  }
 },
 "nbformat": 4,
 "nbformat_minor": 5
}
