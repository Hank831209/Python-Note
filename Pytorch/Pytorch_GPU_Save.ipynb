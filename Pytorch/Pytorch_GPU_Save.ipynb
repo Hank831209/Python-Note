{
 "cells": [
  {
   "cell_type": "code",
   "execution_count": 25,
   "id": "cc1af6fc-e0e9-4a8a-b142-b7d7dd71dc1d",
   "metadata": {},
   "outputs": [],
   "source": [
    "import torch\n",
    "import os"
   ]
  },
  {
   "cell_type": "markdown",
   "id": "976bbf1b-63e4-45ba-8b8f-f7b7a4113b9d",
   "metadata": {},
   "source": [
    "# 模型保存\n",
    "## save(net): 整個網路模型\n",
    "## save(net.state_dict()): 僅保留模型的參數"
   ]
  },
  {
   "cell_type": "code",
   "execution_count": 26,
   "id": "25031e32-a081-4c6e-8ac5-aeea8b717176",
   "metadata": {},
   "outputs": [
    {
     "name": "stdout",
     "output_type": "stream",
     "text": [
      "儲存目錄下的檔案:  ['net.pt', 'net_params.pt']\n",
      "整個網路模型檔案大小:  2463\n",
      "網路參數檔案大小:  1631\n",
      "\n",
      "net1 parameters:\n",
      "\n",
      "Parameter containing:\n",
      "tensor([[-0.9415],\n",
      "        [-0.0521],\n",
      "        [ 0.5732],\n",
      "        [-0.7731],\n",
      "        [ 0.3686],\n",
      "        [-0.9445],\n",
      "        [ 0.8669],\n",
      "        [-0.5663],\n",
      "        [ 0.5987],\n",
      "        [-0.0717]], requires_grad=True)\n",
      "Parameter containing:\n",
      "tensor([-0.0486,  0.8240, -0.8701, -0.5211,  0.7508,  0.6154,  0.9927,  0.6588,\n",
      "         0.8596,  0.9381], requires_grad=True)\n",
      "Parameter containing:\n",
      "tensor([[ 0.1179, -0.0301,  0.1269,  0.1482, -0.1920, -0.2146, -0.2069,  0.2380,\n",
      "          0.1197,  0.1031]], requires_grad=True)\n",
      "Parameter containing:\n",
      "tensor([-0.1226], requires_grad=True)\n"
     ]
    }
   ],
   "source": [
    "x = torch.unsqueeze(torch.linspace(-1, 1, 100), dim=1)  # x data (tensor), shape=(100, 1)\n",
    "y = x.pow(2) + 0.2*torch.rand(x.size())  # noisy y data (tensor), shape=(100, 1)\n",
    "net1 = torch.nn.Sequential(\n",
    "    torch.nn.Linear(1, 10),\n",
    "    torch.nn.ReLU(),\n",
    "    torch.nn.Linear(10, 1)\n",
    ")\n",
    "optimizer = torch.optim.SGD(net_save.parameters(), lr=0.5)\n",
    "loss_func = torch.nn.MSELoss()\n",
    "\n",
    "for _ in range(5):\n",
    "    prediction = net1(x)\n",
    "    loss = loss_func(prediction, y)\n",
    "    optimizer.zero_grad()\n",
    "    loss.backward()\n",
    "    optimizer.step()\n",
    "\n",
    "torch.save(net1, 'Data/Model/net.pt')  # save entire net\n",
    "torch.save(net1.state_dict(), 'Data/Model/net_params.pt')   # save only the parameters\n",
    "print('儲存目錄下的檔案: ', os.listdir('Data/Model'))\n",
    "print('整個網路模型檔案大小: ', os.path.getsize('Data/Model/net.pt'))\n",
    "print('網路參數檔案大小: ', os.path.getsize('Data/Model/net_params.pt'))\n",
    "print('\\nnet1 parameters:\\n')\n",
    "for parameters in net1.parameters():\n",
    "    print(parameters)"
   ]
  },
  {
   "cell_type": "markdown",
   "id": "af7a4bfb-051d-4068-8e69-c7fdac6d35fa",
   "metadata": {},
   "source": [
    "# 模型讀取\n",
    "## 整個網路"
   ]
  },
  {
   "cell_type": "code",
   "execution_count": 27,
   "id": "5213ba69-b061-4855-94b8-037a5f9e95de",
   "metadata": {},
   "outputs": [
    {
     "name": "stdout",
     "output_type": "stream",
     "text": [
      "Sequential(\n",
      "  (0): Linear(in_features=1, out_features=10, bias=True)\n",
      "  (1): ReLU()\n",
      "  (2): Linear(in_features=10, out_features=1, bias=True)\n",
      ")\n",
      "\n",
      "net2 parameters:\n",
      "\n",
      "Parameter containing:\n",
      "tensor([[-0.9415],\n",
      "        [-0.0521],\n",
      "        [ 0.5732],\n",
      "        [-0.7731],\n",
      "        [ 0.3686],\n",
      "        [-0.9445],\n",
      "        [ 0.8669],\n",
      "        [-0.5663],\n",
      "        [ 0.5987],\n",
      "        [-0.0717]], requires_grad=True)\n",
      "Parameter containing:\n",
      "tensor([-0.0486,  0.8240, -0.8701, -0.5211,  0.7508,  0.6154,  0.9927,  0.6588,\n",
      "         0.8596,  0.9381], requires_grad=True)\n",
      "Parameter containing:\n",
      "tensor([[ 0.1179, -0.0301,  0.1269,  0.1482, -0.1920, -0.2146, -0.2069,  0.2380,\n",
      "          0.1197,  0.1031]], requires_grad=True)\n",
      "Parameter containing:\n",
      "tensor([-0.1226], requires_grad=True)\n"
     ]
    }
   ],
   "source": [
    "net2 = torch.load('Data/Model/net.pt')\n",
    "print(net2)\n",
    "print('\\nnet2 parameters:\\n')\n",
    "for parameters in net2.parameters():\n",
    "    print(parameters)"
   ]
  },
  {
   "cell_type": "markdown",
   "id": "80bf175f-b22c-4d49-a519-a93d17e5442e",
   "metadata": {},
   "source": [
    "## 模型參數\n",
    "### 需重寫一遍模型再將參數導入模型中"
   ]
  },
  {
   "cell_type": "code",
   "execution_count": 28,
   "id": "0a2582b2-7f06-4ef7-afe2-237a8852a0d4",
   "metadata": {},
   "outputs": [
    {
     "name": "stdout",
     "output_type": "stream",
     "text": [
      "Sequential(\n",
      "  (0): Linear(in_features=1, out_features=10, bias=True)\n",
      "  (1): ReLU()\n",
      "  (2): Linear(in_features=10, out_features=1, bias=True)\n",
      ")\n",
      "\n",
      "net3 parameters:\n",
      "\n",
      "Parameter containing:\n",
      "tensor([[-0.9415],\n",
      "        [-0.0521],\n",
      "        [ 0.5732],\n",
      "        [-0.7731],\n",
      "        [ 0.3686],\n",
      "        [-0.9445],\n",
      "        [ 0.8669],\n",
      "        [-0.5663],\n",
      "        [ 0.5987],\n",
      "        [-0.0717]], requires_grad=True)\n",
      "Parameter containing:\n",
      "tensor([-0.0486,  0.8240, -0.8701, -0.5211,  0.7508,  0.6154,  0.9927,  0.6588,\n",
      "         0.8596,  0.9381], requires_grad=True)\n",
      "Parameter containing:\n",
      "tensor([[ 0.1179, -0.0301,  0.1269,  0.1482, -0.1920, -0.2146, -0.2069,  0.2380,\n",
      "          0.1197,  0.1031]], requires_grad=True)\n",
      "Parameter containing:\n",
      "tensor([-0.1226], requires_grad=True)\n"
     ]
    }
   ],
   "source": [
    "# restore only the parameters in net1 to net3\n",
    "net3 = torch.nn.Sequential(\n",
    "    torch.nn.Linear(1, 10),\n",
    "    torch.nn.ReLU(),\n",
    "    torch.nn.Linear(10, 1)\n",
    ")\n",
    "\n",
    "# copy net1's parameters into net3\n",
    "net3.load_state_dict(torch.load('Data/Model/net_params.pt'))\n",
    "print(net3)\n",
    "print('\\nnet3 parameters:\\n')\n",
    "for parameters in net3.parameters():\n",
    "    print(parameters)"
   ]
  },
  {
   "cell_type": "markdown",
   "id": "33449a64-3fce-4fc6-843f-b88b3ca21e56",
   "metadata": {},
   "source": [
    "# GPU訓練\n",
    "## 數據, 網路模型, 損失函數可用GPU加速\n",
    "### 可用 .cuda() or to(gpu)的方式調用GPU\n",
    "### 也可設置自動決定device\n",
    "### device = torch.device('cuda' if torch.cuda.is_available() else 'cpu')"
   ]
  },
  {
   "cell_type": "code",
   "execution_count": 29,
   "id": "d49ac692-67aa-4ab7-afdc-78ee5becc269",
   "metadata": {},
   "outputs": [
    {
     "data": {
      "text/plain": [
       "True"
      ]
     },
     "execution_count": 29,
     "metadata": {},
     "output_type": "execute_result"
    }
   ],
   "source": [
    "torch.cuda.is_available()"
   ]
  },
  {
   "cell_type": "code",
   "execution_count": 30,
   "id": "b8b8f21b-4c64-4004-89a7-183f03265267",
   "metadata": {},
   "outputs": [
    {
     "name": "stdout",
     "output_type": "stream",
     "text": [
      "原始tensor:  cpu\n",
      "調用GPU:  cuda:0\n",
      "調用cpu:  cpu\n"
     ]
    }
   ],
   "source": [
    "tensor = torch.tensor([1, 2, 3])\n",
    "print('原始tensor: ', tensor.device)\n",
    "tensor = tensor.cuda()\n",
    "print('調用GPU: ', tensor.device)\n",
    "tensor = tensor.cpu()\n",
    "print('調用cpu: ', tensor.device)"
   ]
  },
  {
   "cell_type": "code",
   "execution_count": 31,
   "id": "53585460-c108-45fe-bd09-a037963c7a5b",
   "metadata": {},
   "outputs": [
    {
     "name": "stdout",
     "output_type": "stream",
     "text": [
      "原始tensor:  cpu\n",
      "調用GPU:  cuda:0\n",
      "調用cpu:  cpu\n"
     ]
    }
   ],
   "source": [
    "device = torch.device('cuda' if torch.cuda.is_available() else 'cpu')  # 根據情況決定device\n",
    "gpu = torch.device('cuda')\n",
    "cpu = torch.device('cpu')\n",
    "tensor = torch.tensor([1, 2, 3])\n",
    "print('原始tensor: ', tensor.device)\n",
    "tensor = tensor.to(gpu)\n",
    "print('調用GPU: ', tensor.device)\n",
    "tensor = tensor.to(cpu)\n",
    "print('調用cpu: ', tensor.device)"
   ]
  },
  {
   "cell_type": "code",
   "execution_count": null,
   "id": "6da1aca9-010b-484a-9e69-cdf96c276e68",
   "metadata": {},
   "outputs": [],
   "source": []
  }
 ],
 "metadata": {
  "kernelspec": {
   "display_name": "Python 3 (ipykernel)",
   "language": "python",
   "name": "python3"
  },
  "language_info": {
   "codemirror_mode": {
    "name": "ipython",
    "version": 3
   },
   "file_extension": ".py",
   "mimetype": "text/x-python",
   "name": "python",
   "nbconvert_exporter": "python",
   "pygments_lexer": "ipython3",
   "version": "3.9.12"
  }
 },
 "nbformat": 4,
 "nbformat_minor": 5
}
