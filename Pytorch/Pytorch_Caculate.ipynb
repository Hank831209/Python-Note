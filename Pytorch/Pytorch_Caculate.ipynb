{
 "cells": [
  {
   "cell_type": "code",
   "execution_count": 3,
   "id": "7e707ae3-9bfb-42a5-94ba-6c2b6669e17f",
   "metadata": {},
   "outputs": [],
   "source": [
    "import torch\n",
    "import numpy as np\n",
    "import torchvision.transforms as transforms\n",
    "from PIL import Image\n",
    "import cv2"
   ]
  },
  {
   "cell_type": "markdown",
   "id": "cffd8937-e532-4d9f-bf81-6b114a87dac8",
   "metadata": {},
   "source": [
    "# Torch常用運算"
   ]
  },
  {
   "cell_type": "code",
   "execution_count": 58,
   "id": "b7e38c9b-c326-4938-91f6-db940b7c6337",
   "metadata": {},
   "outputs": [
    {
     "name": "stdout",
     "output_type": "stream",
     "text": [
      "x_sum.size():  torch.Size([2, 1, 3, 3])\n",
      "x.size():  torch.Size([2, 3, 3, 3])\n",
      "x_0.size():  torch.Size([3, 3, 3])\n"
     ]
    }
   ],
   "source": [
    "name = ['B', 'C', 'H', 'W']\n",
    "x = torch.rand((2, 3, 3, 3), names=name)\n",
    "x_sum = x.sum(dim='C', keepdim=True)\n",
    "x_0 = x.select(dim='B', index=0)  # 取出第0張影像\n",
    "x_0 = x.select(dim='B', index=1)\n",
    "print('x_sum.size(): ', x_sum.size())\n",
    "print('x.size(): ', x.size())\n",
    "print('x_0.size(): ', x_0.size())"
   ]
  },
  {
   "cell_type": "code",
   "execution_count": 66,
   "id": "33499a1f-ce34-4992-979f-dc6108661257",
   "metadata": {},
   "outputs": [
    {
     "name": "stdout",
     "output_type": "stream",
     "text": [
      "x:  tensor([0, 1, 2, 3, 0])\n",
      "y:\n",
      " tensor([[1],\n",
      "        [2],\n",
      "        [3]]) torch.Size([3, 1])\n"
     ]
    }
   ],
   "source": [
    "x = torch.tensor([0, 1, 2 ,3 ,0])\n",
    "y = torch.nonzero(x)\n",
    "print('x: ', x)\n",
    "print('y:\\n', y, y.size())"
   ]
  },
  {
   "cell_type": "markdown",
   "id": "86dd91c9-1a9d-4fe9-ba71-f2c292d95332",
   "metadata": {},
   "source": [
    "## Reshape"
   ]
  },
  {
   "cell_type": "code",
   "execution_count": 52,
   "id": "eb08d432-8f63-456d-b595-9526f835506d",
   "metadata": {},
   "outputs": [
    {
     "name": "stdout",
     "output_type": "stream",
     "text": [
      "tensor1:\n",
      " torch.Size([2, 3])\n",
      "tensor2.shape:  torch.Size([6])\n"
     ]
    }
   ],
   "source": [
    "tensor1 = torch.empty([2, 3])\n",
    "tensor2 = tensor1.view(-1)\n",
    "print('tensor1:\\n', tensor1.shape)\n",
    "print('tensor2.shape: ', tensor2.shape)"
   ]
  },
  {
   "cell_type": "markdown",
   "id": "710b1049-625e-4cb8-b928-c4c06bd5ed7a",
   "metadata": {},
   "source": [
    "## 降維增維"
   ]
  },
  {
   "cell_type": "code",
   "execution_count": 53,
   "id": "0aabf5db-26c5-4c4a-b046-0931a85b562c",
   "metadata": {},
   "outputs": [
    {
     "name": "stdout",
     "output_type": "stream",
     "text": [
      "torch.Size([5, 1])\n",
      "torch.Size([5])\n",
      "torch.Size([5, 1])\n"
     ]
    }
   ],
   "source": [
    "tensor = torch.empty(5, 1)\n",
    "print(tensor.shape)\n",
    "tensor1 = torch.squeeze(tensor, axis=1)\n",
    "print(tensor1.shape)\n",
    "tensor2 = torch.squeeze(tensor, axis=0)\n",
    "print(tensor2.shape)"
   ]
  },
  {
   "cell_type": "code",
   "execution_count": 43,
   "id": "47c9d3d0-dad4-436f-9405-99bb2711c88a",
   "metadata": {},
   "outputs": [
    {
     "name": "stdout",
     "output_type": "stream",
     "text": [
      "torch.Size([5])\n",
      "t1.shape:  torch.Size([5, 1])\n",
      "t2.shape:  torch.Size([1, 5])\n",
      "t3.shape:  torch.Size([5, 1])\n",
      "t4.shape:  torch.Size([1, 5])\n"
     ]
    }
   ],
   "source": [
    "tensor = torch.empty(5)\n",
    "print(tensor.shape)\n",
    "t1 = torch.unsqueeze(tensor, axis=1)\n",
    "print('t1.shape: ', t1.shape)\n",
    "t2 = torch.unsqueeze(tensor, axis=0)\n",
    "print('t2.shape: ', t2.shape)\n",
    "t3 = tensor[:, None]\n",
    "print('t3.shape: ', t3.shape)\n",
    "t4 = tensor[None, :]\n",
    "print('t4.shape: ', t4.shape)"
   ]
  },
  {
   "cell_type": "markdown",
   "id": "51eea224-8bb5-46a1-bc57-960276603046",
   "metadata": {},
   "source": [
    "## torch.dist()"
   ]
  },
  {
   "cell_type": "code",
   "execution_count": 27,
   "id": "578bd7d7-3814-45df-890d-1616a25a263c",
   "metadata": {},
   "outputs": [
    {
     "name": "stdout",
     "output_type": "stream",
     "text": [
      "tensor([1., 5., 3.])和tensor([1., 2., 3.])的距離:  tensor(3.)\n"
     ]
    }
   ],
   "source": [
    "t1 = torch.tensor([1, 5, 3.])\n",
    "t2 = torch.tensor([1, 2., 3])\n",
    "print(f'{t1}和{t2}的距離: ', torch.dist(t1, t2))"
   ]
  },
  {
   "cell_type": "markdown",
   "id": "2bf8ddd0-fc66-431a-a8a1-43fb9732955d",
   "metadata": {},
   "source": [
    "## torch.cat()"
   ]
  },
  {
   "cell_type": "code",
   "execution_count": 33,
   "id": "20b3454e-4baf-46bf-9684-dc30bc0792d1",
   "metadata": {},
   "outputs": [
    {
     "name": "stdout",
     "output_type": "stream",
     "text": [
      "t1 ~ t3.shape:  torch.Size([1, 5, 5])\n",
      "x.shape:  torch.Size([3, 5, 5])\n",
      "x1.shape:  torch.Size([1, 15, 5])\n",
      "x2.shape:  torch.Size([1, 5, 15])\n"
     ]
    }
   ],
   "source": [
    "t1 = torch.ones((1, 5, 5))\n",
    "t2 = torch.ones((1, 5, 5))\n",
    "t3 = torch.ones((1, 5, 5))\n",
    "print('t1 ~ t3.shape: ', t1.shape)\n",
    "x = torch.cat((t1, t2, t3), dim=0)\n",
    "print('x.shape: ', x.shape)\n",
    "x1 = torch.cat((t1, t2, t3), dim=1)\n",
    "print('x1.shape: ', x1.shape)\n",
    "x2 = torch.cat((t1, t2, t3), dim=2)\n",
    "print('x2.shape: ', x2.shape)"
   ]
  },
  {
   "cell_type": "markdown",
   "id": "f4a37154-c088-4cca-a3d6-347cc9ccdf9a",
   "metadata": {},
   "source": [
    "## torch.stack()"
   ]
  },
  {
   "cell_type": "code",
   "execution_count": 36,
   "id": "4208caaf-16a6-4342-9605-557492c333fa",
   "metadata": {},
   "outputs": [
    {
     "name": "stdout",
     "output_type": "stream",
     "text": [
      "t1 ~ t3.shape:  torch.Size([1, 5, 5])\n",
      "x.shape:  torch.Size([3, 1, 5, 5])\n",
      "x1.shape:  torch.Size([1, 3, 5, 5])\n",
      "x2.shape:  torch.Size([1, 5, 3, 5])\n"
     ]
    }
   ],
   "source": [
    "t1 = torch.ones((1, 5, 5))\n",
    "t2 = torch.ones((1, 5, 5))\n",
    "t3 = torch.ones((1, 5, 5))\n",
    "print('t1 ~ t3.shape: ', t1.shape)\n",
    "x = torch.stack((t1, t2, t3), dim=0)  #會新增一個維度\n",
    "print('x.shape: ', x.shape)\n",
    "x1 = torch.stack((t1, t2, t3), dim=1)\n",
    "print('x1.shape: ', x1.shape)\n",
    "x2 = torch.stack((t1, t2, t3), dim=2)\n",
    "print('x2.shape: ', x2.shape)"
   ]
  },
  {
   "cell_type": "markdown",
   "id": "76e0ec22-5906-40fb-9d53-da02505a1542",
   "metadata": {},
   "source": [
    "## Torch & Numpy & list"
   ]
  },
  {
   "cell_type": "code",
   "execution_count": 16,
   "id": "16ec92ac-58b4-46d7-809a-a632dcf2fcaa",
   "metadata": {},
   "outputs": [
    {
     "name": "stdout",
     "output_type": "stream",
     "text": [
      "tensor.tolist():  [1, 2, 3] <class 'list'>\n",
      "torch_data:\n",
      " tensor([[0, 1, 2],\n",
      "        [3, 4, 5]], dtype=torch.int32) <class 'torch.Tensor'>\n",
      "\n",
      "tensor2array:\n",
      " [[0 1 2]\n",
      " [3 4 5]] <class 'numpy.ndarray'>\n",
      "array2list:\n",
      " [[0, 1, 2], [3, 4, 5]] <class 'list'>\n",
      "tensor_gpu_requires_grad2array:\n",
      " [[0 1 2]\n",
      " [3 4 5]] <class 'numpy.ndarray'>\n"
     ]
    }
   ],
   "source": [
    "np_data = np.arange(6).reshape((2, 3))\n",
    "torch_data = torch.from_numpy(np_data)  \n",
    "tensor2array = torch_data.numpy()\n",
    "array2list =  np_data.tolist()\n",
    "tensor = torch.tensor([1, 2, 3])\n",
    "print('tensor.tolist(): ', tensor.tolist(), type(tensor.tolist()))\n",
    "# 轉Numpy時必須確保是 在cpu上運算 且 requires_grad=False\n",
    "# .detach(): requires_grad變為False\n",
    "tensor_gpu_requires_grad2array= torch_data.cpu().detach().numpy()  \n",
    "print('torch_data:\\n', torch_data, type(torch_data))\n",
    "print('\\ntensor2array:\\n', tensor2array, type(tensor2array))\n",
    "print('array2list:\\n', array2list, type(array2list))\n",
    "print('tensor_gpu_requires_grad2array:\\n', tensor_gpu_requires_grad2array, type(tensor_gpu_requires_grad2array))"
   ]
  },
  {
   "cell_type": "markdown",
   "id": "ebbd21c9-3ae5-4c5d-8eea-e5186d3fb3f3",
   "metadata": {},
   "source": [
    "## 簡單運算(和Numpy類似)"
   ]
  },
  {
   "cell_type": "code",
   "execution_count": 17,
   "id": "0906adcd-f76d-4111-924c-764600d0bd2c",
   "metadata": {},
   "outputs": [
    {
     "name": "stdout",
     "output_type": "stream",
     "text": [
      "tensor_int64:\n",
      " tensor([-1, -2,  1,  2]) torch.int64\n",
      "tensor_float32:\n",
      " tensor([-1., -2.,  1.,  2.]) torch.float32\n",
      "\n",
      "abs \n",
      "numpy:  [1 2 1 2] \n",
      "torch:  tensor([1., 2., 1., 2.])\n",
      "\n",
      "sin \n",
      "numpy:  [-0.84147098 -0.90929743  0.84147098  0.90929743] \n",
      "torch:  tensor([-0.8415, -0.9093,  0.8415,  0.9093])\n",
      "\n",
      "mean \n",
      "numpy:  0.0 \n",
      "torch:  tensor(0.)\n"
     ]
    }
   ],
   "source": [
    "# abs 绝对值计算\n",
    "data = [-1, -2, 1, 2]\n",
    "tensor_int64 = torch.tensor(data)\n",
    "print('tensor_int64:\\n', tensor_int64, tensor_int64.dtype)\n",
    "tensor_float32 = tensor_int64.type(torch.FloatTensor)  # .type()做 dtype的變換\n",
    "print('tensor_float32:\\n', tensor_float32, tensor_float32.dtype)\n",
    "# tensor = torch.FloatTensor(data)  # 直接創建\n",
    "print(\n",
    "    '\\nabs',\n",
    "    '\\nnumpy: ', np.abs(data),          # [1 2 1 2]\n",
    "    '\\ntorch: ', torch.abs(tensor_float32)      # [1 2 1 2]\n",
    ")\n",
    "\n",
    "# sin   三角函数 sin\n",
    "print(\n",
    "    '\\nsin',\n",
    "    '\\nnumpy: ', np.sin(data),      # [-0.84147098 -0.90929743  0.84147098  0.90929743]\n",
    "    '\\ntorch: ', torch.sin(tensor_float32)  # [-0.8415 -0.9093  0.8415  0.9093]\n",
    ")\n",
    "\n",
    "# mean  均值\n",
    "print(\n",
    "    '\\nmean',\n",
    "    '\\nnumpy: ', np.mean(data),         # 0.0\n",
    "    '\\ntorch: ', torch.mean(tensor_float32)     # 0.0\n",
    ")"
   ]
  },
  {
   "cell_type": "markdown",
   "id": "b8fc65f0-748a-4f11-b7f0-7597392c9b3f",
   "metadata": {},
   "source": [
    "## 常用屬性:\n",
    "### tensor.float()  轉float32\n",
    "### tensor.long()  轉int64"
   ]
  },
  {
   "cell_type": "code",
   "execution_count": 45,
   "id": "9eb3f8fa-247e-45c4-9f65-3c828317adf5",
   "metadata": {},
   "outputs": [
    {
     "name": "stdout",
     "output_type": "stream",
     "text": [
      "t1.dtype:  torch.int64\n",
      "t2.dtype:  torch.float32\n",
      "t3.dtype:  torch.int64\n"
     ]
    }
   ],
   "source": [
    "t1 = torch.tensor([1, 2, 3])\n",
    "print('t1.dtype: ', t1.dtype)\n",
    "t2 = t1.float()  \n",
    "print('t2.dtype: ', t2.dtype)\n",
    "t3 = t1.long()\n",
    "print('t3.dtype: ', t3.dtype)"
   ]
  },
  {
   "cell_type": "markdown",
   "id": "a9c63d31-9cf0-464d-8144-a13e1c126fef",
   "metadata": {},
   "source": [
    "### tensor.clone()"
   ]
  },
  {
   "cell_type": "code",
   "execution_count": 44,
   "id": "362e24c2-5bc0-41a2-8bf7-f99b7652a786",
   "metadata": {},
   "outputs": [
    {
     "name": "stdout",
     "output_type": "stream",
     "text": [
      "2220084371344\n",
      "2220464854736\n"
     ]
    }
   ],
   "source": [
    "t1 = torch.tensor([1, 2, 3])\n",
    "t2 = t1.clone()\n",
    "print(id(t1))\n",
    "print(id(t2))"
   ]
  },
  {
   "cell_type": "markdown",
   "id": "4e38e87f-c012-4e32-a8ab-87f47816e0de",
   "metadata": {},
   "source": [
    "### tensor.clamp()"
   ]
  },
  {
   "cell_type": "code",
   "execution_count": 11,
   "id": "984d0b53-a269-4164-aea1-8915c3239a07",
   "metadata": {},
   "outputs": [
    {
     "name": "stdout",
     "output_type": "stream",
     "text": [
      "x:  tensor([0.1033, 0.6847, 0.3334, 0.4812])\n",
      "y:  tensor([0.1033, 0.5000, 0.3334, 0.4812])\n"
     ]
    }
   ],
   "source": [
    "x = torch.rand(4)\n",
    "print('x: ', x)\n",
    "y = x.clamp(min=-0.5, max=0.5)\n",
    "print('y: ', y)"
   ]
  },
  {
   "cell_type": "markdown",
   "id": "5121c514-6063-430a-9bb3-aeb4d1d98076",
   "metadata": {},
   "source": [
    "### tensor.item()"
   ]
  },
  {
   "cell_type": "code",
   "execution_count": 13,
   "id": "8349b865-ffdc-452c-976b-abd6df153d32",
   "metadata": {},
   "outputs": [
    {
     "name": "stdout",
     "output_type": "stream",
     "text": [
      "x:  tensor([1])\n",
      "x.item():  1\n"
     ]
    }
   ],
   "source": [
    "x = torch.tensor([1])\n",
    "print('x: ', x)\n",
    "print('x.item(): ', x.item())  # 速度慢少用"
   ]
  },
  {
   "cell_type": "markdown",
   "id": "b0d1d0e5-330e-4935-9a21-40a2f5e7717d",
   "metadata": {},
   "source": [
    "### tensor.detach()"
   ]
  },
  {
   "cell_type": "code",
   "execution_count": 25,
   "id": "dc320360-caf1-48a1-89cf-965065ce141f",
   "metadata": {},
   "outputs": [
    {
     "name": "stdout",
     "output_type": "stream",
     "text": [
      "t1:  tensor([1., 2., 3.], requires_grad=True)\n",
      "t1.detach():  tensor([1., 2., 3.])\n"
     ]
    }
   ],
   "source": [
    "t1 = torch.tensor([1., 2, 3], requires_grad=True)\n",
    "print('t1: ', t1)\n",
    "print('t1.detach(): ', t1.detach())  # set requires_grad=False"
   ]
  },
  {
   "cell_type": "markdown",
   "id": "9ac87a36-154d-4e2e-8cef-5edb4253d80c",
   "metadata": {},
   "source": [
    "## tensor.squeeze()"
   ]
  },
  {
   "cell_type": "code",
   "execution_count": 40,
   "id": "317b235f-969e-47b6-8bd5-2f62a6b415d1",
   "metadata": {},
   "outputs": [
    {
     "name": "stdout",
     "output_type": "stream",
     "text": [
      "t.shape:  torch.Size([3, 1])\n",
      "t.squeeze(0).shape:  torch.Size([3, 1])\n",
      "t.squeeze(1).shape:  torch.Size([3])\n"
     ]
    }
   ],
   "source": [
    "t = torch.empty((3, 1))\n",
    "print('t.shape: ', t.shape)\n",
    "print('t.squeeze(0).shape: ', t.squeeze(0).shape)\n",
    "print('t.squeeze(1).shape: ', t.squeeze(1).shape)"
   ]
  },
  {
   "cell_type": "markdown",
   "id": "c1a4f489-8a83-403a-97c6-4ea4324fe268",
   "metadata": {},
   "source": [
    "## tensor.unsqueeze()"
   ]
  },
  {
   "cell_type": "code",
   "execution_count": 41,
   "id": "f1cdbd4e-cb94-4e64-99a8-0cbb07ad3a5f",
   "metadata": {},
   "outputs": [
    {
     "name": "stdout",
     "output_type": "stream",
     "text": [
      "t.shape:  torch.Size([3, 1])\n",
      "t.unsqueeze(0).shape:  torch.Size([1, 3, 1])\n",
      "t.unsqueeze(1).shape:  torch.Size([3, 1, 1])\n"
     ]
    }
   ],
   "source": [
    "t = torch.empty((3, 1))\n",
    "print('t.shape: ', t.shape)\n",
    "print('t.unsqueeze(0).shape: ', t.unsqueeze(0).shape)\n",
    "print('t.unsqueeze(1).shape: ', t.unsqueeze(1).shape)"
   ]
  },
  {
   "cell_type": "markdown",
   "id": "3e554d72-3c40-4227-8247-ad7ca30d06a3",
   "metadata": {},
   "source": [
    "## tensor.sum()"
   ]
  },
  {
   "cell_type": "code",
   "execution_count": 43,
   "id": "07a62d22-e4ce-414f-9eda-e087ba1fd62e",
   "metadata": {},
   "outputs": [
    {
     "name": "stdout",
     "output_type": "stream",
     "text": [
      "x.size():  torch.Size([3, 1, 5, 3])\n",
      "y.size():  torch.Size([1, 5, 3])\n",
      "z.size():  torch.Size([1, 1, 5, 3])\n"
     ]
    }
   ],
   "source": [
    "x = torch.rand((3, 1, 5, 3))\n",
    "y = x.sum(dim=0)\n",
    "z = x.sum(dim=0, keepdim=True)\n",
    "print('x.size(): ', x.size())\n",
    "print('y.size(): ', y.size())\n",
    "print('z.size(): ', z.size())"
   ]
  },
  {
   "cell_type": "markdown",
   "id": "20728ec1-ec66-4e98-aa3b-20eec83124c1",
   "metadata": {},
   "source": [
    "## tensor.select():"
   ]
  },
  {
   "cell_type": "code",
   "execution_count": 48,
   "id": "acdd3dd7-8ee8-4aad-af31-70959a393fdf",
   "metadata": {},
   "outputs": [
    {
     "name": "stdout",
     "output_type": "stream",
     "text": [
      "x.size():  torch.Size([3, 1, 5, 5])\n",
      "x1.size():  torch.Size([1, 5, 5])\n"
     ]
    }
   ],
   "source": [
    "x = torch.rand((3, 1, 5, 5))\n",
    "x1 = x.select(dim=0, index=0)  # 選出第一章影像\n",
    "print('x.size(): ', x.size())\n",
    "print('x1.size(): ', x1.size())  # 選出第一章影像"
   ]
  },
  {
   "cell_type": "code",
   "execution_count": 1,
   "id": "3ba64456-d704-4e05-a34f-16f0a37a95d8",
   "metadata": {},
   "outputs": [
    {
     "data": {
      "text/plain": [
       "True"
      ]
     },
     "execution_count": 1,
     "metadata": {},
     "output_type": "execute_result"
    }
   ],
   "source": [
    "a = [1, 2, 3]\n",
    "b = [1, 2, 3]\n",
    "a == b"
   ]
  },
  {
   "cell_type": "code",
   "execution_count": null,
   "id": "68e5913d-9099-4274-b55f-3f7f15db0e2e",
   "metadata": {},
   "outputs": [],
   "source": []
  }
 ],
 "metadata": {
  "kernelspec": {
   "display_name": "Python 3 (ipykernel)",
   "language": "python",
   "name": "python3"
  },
  "language_info": {
   "codemirror_mode": {
    "name": "ipython",
    "version": 3
   },
   "file_extension": ".py",
   "mimetype": "text/x-python",
   "name": "python",
   "nbconvert_exporter": "python",
   "pygments_lexer": "ipython3",
   "version": "3.9.12"
  }
 },
 "nbformat": 4,
 "nbformat_minor": 5
}
