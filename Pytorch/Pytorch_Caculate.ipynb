{
 "cells": [
  {
   "cell_type": "code",
   "execution_count": 2,
   "id": "7e707ae3-9bfb-42a5-94ba-6c2b6669e17f",
   "metadata": {},
   "outputs": [],
   "source": [
    "import torch\n",
    "import numpy as np\n",
    "import torchvision.transforms as transforms\n",
    "from PIL import Image\n",
    "import cv2"
   ]
  },
  {
   "cell_type": "markdown",
   "id": "cffd8937-e532-4d9f-bf81-6b114a87dac8",
   "metadata": {},
   "source": [
    "# Torch常用運算\n",
    "## Torch & Numpy & list"
   ]
  },
  {
   "cell_type": "code",
   "execution_count": 3,
   "id": "16ec92ac-58b4-46d7-809a-a632dcf2fcaa",
   "metadata": {},
   "outputs": [
    {
     "name": "stdout",
     "output_type": "stream",
     "text": [
      "torch_data:\n",
      " tensor([[0, 1, 2],\n",
      "        [3, 4, 5]], dtype=torch.int32) <class 'torch.Tensor'>\n",
      "\n",
      "tensor2array:\n",
      " [[0 1 2]\n",
      " [3 4 5]] <class 'numpy.ndarray'>\n",
      "array2list:\n",
      " [[0, 1, 2], [3, 4, 5]] <class 'list'>\n",
      "tensor_gpu_requires_grad2array:\n",
      " [[0 1 2]\n",
      " [3 4 5]] <class 'numpy.ndarray'>\n",
      "torch_view:\n",
      " tensor([0, 1, 2, 3, 4, 5], dtype=torch.int32) torch.Size([6])\n"
     ]
    }
   ],
   "source": [
    "np_data = np.arange(6).reshape((2, 3))\n",
    "torch_data = torch.from_numpy(np_data)  \n",
    "tensor2array = torch_data.numpy()\n",
    "array2list =  np_data.tolist()\n",
    "# 轉Numpy時必須確保是 在cpu上運算 且 requires_grad=False\n",
    "# .detach(): requires_grad變為False\n",
    "tensor_gpu_requires_grad2array= torch_data.cpu().detach().numpy()  \n",
    "print('torch_data:\\n', torch_data, type(torch_data))\n",
    "print('\\ntensor2array:\\n', tensor2array, type(tensor2array))\n",
    "print('array2list:\\n', array2list, type(array2list))\n",
    "print('tensor_gpu_requires_grad2array:\\n', tensor_gpu_requires_grad2array, type(tensor_gpu_requires_grad2array))"
   ]
  },
  {
   "cell_type": "markdown",
   "id": "ebbd21c9-3ae5-4c5d-8eea-e5186d3fb3f3",
   "metadata": {},
   "source": [
    "## 簡單運算(和Numpy類似)"
   ]
  },
  {
   "cell_type": "code",
   "execution_count": 4,
   "id": "0906adcd-f76d-4111-924c-764600d0bd2c",
   "metadata": {},
   "outputs": [
    {
     "name": "stdout",
     "output_type": "stream",
     "text": [
      "tensor_int64:\n",
      " tensor([-1, -2,  1,  2]) torch.int64\n",
      "tensor_float32:\n",
      " tensor([-1., -2.,  1.,  2.]) torch.float32\n",
      "\n",
      "abs \n",
      "numpy:  [1 2 1 2] \n",
      "torch:  tensor([1., 2., 1., 2.])\n",
      "\n",
      "sin \n",
      "numpy:  [-0.84147098 -0.90929743  0.84147098  0.90929743] \n",
      "torch:  tensor([-0.8415, -0.9093,  0.8415,  0.9093])\n",
      "\n",
      "mean \n",
      "numpy:  0.0 \n",
      "torch:  tensor(0.)\n"
     ]
    }
   ],
   "source": [
    "# abs 绝对值计算\n",
    "data = [-1, -2, 1, 2]\n",
    "tensor_int64 = torch.tensor(data)\n",
    "print('tensor_int64:\\n', tensor_int64, tensor_int64.dtype)\n",
    "tensor_float32 = tensor_int64.type(torch.FloatTensor)  # .type()做 dtype的變換\n",
    "print('tensor_float32:\\n', tensor_float32, tensor_float32.dtype)\n",
    "# tensor = torch.FloatTensor(data)  # 直接創建\n",
    "print(\n",
    "    '\\nabs',\n",
    "    '\\nnumpy: ', np.abs(data),          # [1 2 1 2]\n",
    "    '\\ntorch: ', torch.abs(tensor_float32)      # [1 2 1 2]\n",
    ")\n",
    "\n",
    "# sin   三角函数 sin\n",
    "print(\n",
    "    '\\nsin',\n",
    "    '\\nnumpy: ', np.sin(data),      # [-0.84147098 -0.90929743  0.84147098  0.90929743]\n",
    "    '\\ntorch: ', torch.sin(tensor_float32)  # [-0.8415 -0.9093  0.8415  0.9093]\n",
    ")\n",
    "\n",
    "# mean  均值\n",
    "print(\n",
    "    '\\nmean',\n",
    "    '\\nnumpy: ', np.mean(data),         # 0.0\n",
    "    '\\ntorch: ', torch.mean(tensor_float32)     # 0.0\n",
    ")"
   ]
  },
  {
   "cell_type": "markdown",
   "id": "1a26f4bf-8857-4370-bd9b-15ff274481aa",
   "metadata": {},
   "source": [
    "## Reshape"
   ]
  },
  {
   "cell_type": "code",
   "execution_count": 7,
   "id": "eb945440-0383-4aeb-9aa0-fa74a4b35e30",
   "metadata": {},
   "outputs": [
    {
     "name": "stdout",
     "output_type": "stream",
     "text": [
      "tensor1:\n",
      " torch.Size([2, 3])\n",
      "tensor2.shape:  torch.Size([6])\n"
     ]
    }
   ],
   "source": [
    "tensor1 = torch.empty([2, 3])\n",
    "tensor2 = tensor1.view(-1)\n",
    "print('tensor1:\\n', tensor1.shape)\n",
    "print('tensor2.shape: ', tensor2.shape)"
   ]
  },
  {
   "cell_type": "markdown",
   "id": "b8fc65f0-748a-4f11-b7f0-7597392c9b3f",
   "metadata": {},
   "source": [
    "## 常用屬性:"
   ]
  },
  {
   "cell_type": "code",
   "execution_count": null,
   "id": "e357cb58-968a-428d-b94a-b6a010df1e61",
   "metadata": {},
   "outputs": [],
   "source": []
  }
 ],
 "metadata": {
  "kernelspec": {
   "display_name": "Python 3 (ipykernel)",
   "language": "python",
   "name": "python3"
  },
  "language_info": {
   "codemirror_mode": {
    "name": "ipython",
    "version": 3
   },
   "file_extension": ".py",
   "mimetype": "text/x-python",
   "name": "python",
   "nbconvert_exporter": "python",
   "pygments_lexer": "ipython3",
   "version": "3.9.13"
  }
 },
 "nbformat": 4,
 "nbformat_minor": 5
}
