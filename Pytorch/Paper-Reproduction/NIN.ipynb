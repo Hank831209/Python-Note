{
 "cells": [
  {
   "cell_type": "code",
   "execution_count": 7,
   "id": "17119904-466e-4e2b-a9be-70db23bd7998",
   "metadata": {},
   "outputs": [],
   "source": [
    "import torch\n",
    "import torch.nn as nn\n",
    "from torchinfo import summary\n",
    "from torch_receptive_field import receptive_field"
   ]
  },
  {
   "cell_type": "markdown",
   "id": "15b35382-43e4-4607-8fae-6d1d87345ee8",
   "metadata": {},
   "source": [
    "![](https://skojiangdoc.oss-cn-beijing.aliyuncs.com/2021PyTorchDL/WEEK9/58.png?versionId=CAEQFRiBgIC0zIWfxxciIGE0ZjkyMzI1ZTE3MzQ3MmQ5NDhiZWFlN2UyMmFiYTQ0)"
   ]
  },
  {
   "cell_type": "code",
   "execution_count": 17,
   "id": "038176cd-076e-4c94-b4c3-abcc4e16f04e",
   "metadata": {},
   "outputs": [],
   "source": [
    "class Nin(nn.Module):\n",
    "    def __init__(self):\n",
    "        super().__init__()\n",
    "        self.block1 = nn.Sequential(nn.Conv2d(3, 192, 5, stride=1, padding=2), nn.ReLU(),\n",
    "                                    nn.Conv2d(192, 160, 1, stride=1, padding=0), nn.ReLU(),\n",
    "                                    nn.Conv2d(160, 96, 1, stride=1, padding=0), nn.ReLU(),\n",
    "                                    nn.MaxPool2d(kernel_size=3, stride=2),\n",
    "                                    nn.Dropout(0.25)\n",
    "                                   )\n",
    "        self.block2 = nn.Sequential(nn.Conv2d(96, 192, 5, stride=1, padding=2), nn.ReLU(),\n",
    "                                    nn.Conv2d(192, 192, 1, stride=1, padding=0), nn.ReLU(),\n",
    "                                    nn.Conv2d(192, 192, 1, stride=1, padding=0), nn.ReLU(),\n",
    "                                    nn.MaxPool2d(kernel_size=3, stride=2),\n",
    "                                    nn.Dropout(0.25)\n",
    "                                   )\n",
    "        self.block3 = nn.Sequential(nn.Conv2d(192, 192, 3, stride=1, padding=1), nn.ReLU(),\n",
    "                                    nn.Conv2d(192, 192, 1, stride=1, padding=0), nn.ReLU(),\n",
    "                                    nn.Conv2d(192, 10, 1, stride=1, padding=0), nn.ReLU(),\n",
    "                                    nn.AvgPool2d(7, stride=1),\n",
    "                                    nn.Softmax(dim=1)\n",
    "                                   )\n",
    "    def forward(self, x):\n",
    "        x = self.block1(x)\n",
    "        x = self.block2(x)\n",
    "        x = self.block3(x)\n",
    "        return x"
   ]
  },
  {
   "cell_type": "code",
   "execution_count": 18,
   "id": "5225360e-0625-41fe-adf1-a2c427448518",
   "metadata": {},
   "outputs": [],
   "source": [
    "net = Nin()"
   ]
  },
  {
   "cell_type": "code",
   "execution_count": 19,
   "id": "829625db-d993-4440-8194-0e1c4cf9ab7f",
   "metadata": {},
   "outputs": [],
   "source": [
    "data = torch.ones([10, 3, 32, 32])"
   ]
  },
  {
   "cell_type": "code",
   "execution_count": 20,
   "id": "8091b5dc-b51e-4a81-8986-05265d1126a6",
   "metadata": {},
   "outputs": [
    {
     "data": {
      "text/plain": [
       "torch.Size([10, 10, 1, 1])"
      ]
     },
     "execution_count": 20,
     "metadata": {},
     "output_type": "execute_result"
    }
   ],
   "source": [
    "net(data).shape"
   ]
  },
  {
   "cell_type": "code",
   "execution_count": 21,
   "id": "3d765f9e-afb1-4a43-8cf3-2ada12e1683e",
   "metadata": {},
   "outputs": [
    {
     "data": {
      "text/plain": [
       "==========================================================================================\n",
       "Layer (type:depth-idx)                   Output Shape              Param #\n",
       "==========================================================================================\n",
       "Nin                                      [10, 10, 1, 1]            --\n",
       "├─Sequential: 1-1                        [10, 96, 15, 15]          --\n",
       "│    └─Conv2d: 2-1                       [10, 192, 32, 32]         14,592\n",
       "│    └─ReLU: 2-2                         [10, 192, 32, 32]         --\n",
       "│    └─Conv2d: 2-3                       [10, 160, 32, 32]         30,880\n",
       "│    └─ReLU: 2-4                         [10, 160, 32, 32]         --\n",
       "│    └─Conv2d: 2-5                       [10, 96, 32, 32]          15,456\n",
       "│    └─ReLU: 2-6                         [10, 96, 32, 32]          --\n",
       "│    └─MaxPool2d: 2-7                    [10, 96, 15, 15]          --\n",
       "│    └─Dropout: 2-8                      [10, 96, 15, 15]          --\n",
       "├─Sequential: 1-2                        [10, 192, 7, 7]           --\n",
       "│    └─Conv2d: 2-9                       [10, 192, 15, 15]         460,992\n",
       "│    └─ReLU: 2-10                        [10, 192, 15, 15]         --\n",
       "│    └─Conv2d: 2-11                      [10, 192, 15, 15]         37,056\n",
       "│    └─ReLU: 2-12                        [10, 192, 15, 15]         --\n",
       "│    └─Conv2d: 2-13                      [10, 192, 15, 15]         37,056\n",
       "│    └─ReLU: 2-14                        [10, 192, 15, 15]         --\n",
       "│    └─MaxPool2d: 2-15                   [10, 192, 7, 7]           --\n",
       "│    └─Dropout: 2-16                     [10, 192, 7, 7]           --\n",
       "├─Sequential: 1-3                        [10, 10, 1, 1]            --\n",
       "│    └─Conv2d: 2-17                      [10, 192, 7, 7]           331,968\n",
       "│    └─ReLU: 2-18                        [10, 192, 7, 7]           --\n",
       "│    └─Conv2d: 2-19                      [10, 192, 7, 7]           37,056\n",
       "│    └─ReLU: 2-20                        [10, 192, 7, 7]           --\n",
       "│    └─Conv2d: 2-21                      [10, 10, 7, 7]            1,930\n",
       "│    └─ReLU: 2-22                        [10, 10, 7, 7]            --\n",
       "│    └─AvgPool2d: 2-23                   [10, 10, 1, 1]            --\n",
       "│    └─Softmax: 2-24                     [10, 10, 1, 1]            --\n",
       "==========================================================================================\n",
       "Total params: 966,986\n",
       "Trainable params: 966,986\n",
       "Non-trainable params: 0\n",
       "Total mult-adds (G): 2.01\n",
       "==========================================================================================\n",
       "Input size (MB): 0.12\n",
       "Forward/backward pass size (MB): 48.61\n",
       "Params size (MB): 3.87\n",
       "Estimated Total Size (MB): 52.60\n",
       "=========================================================================================="
      ]
     },
     "execution_count": 21,
     "metadata": {},
     "output_type": "execute_result"
    }
   ],
   "source": [
    "summary(net, [10, 3, 32, 32], device=\"cpu\")"
   ]
  },
  {
   "cell_type": "markdown",
   "id": "68dec0d3-bc6c-4e14-b199-04000a49e058",
   "metadata": {},
   "source": [
    "# 架構"
   ]
  },
  {
   "cell_type": "markdown",
   "id": "e5173734-d1b3-4271-8aa4-d24daedfdd3b",
   "metadata": {},
   "source": [
    "![](https://skojiangdoc.oss-cn-beijing.aliyuncs.com/2021PyTorchDL/WEEK9/58.png?versionId=CAEQFRiBgIC0zIWfxxciIGE0ZjkyMzI1ZTE3MzQ3MmQ5NDhiZWFlN2UyMmFiYTQ0)"
   ]
  },
  {
   "cell_type": "code",
   "execution_count": 2,
   "id": "b3d7ff4d-b156-4f63-910d-80b5ebf4f007",
   "metadata": {},
   "outputs": [],
   "source": [
    "class NIN(nn.Module):\n",
    "    def __init__(self):\n",
    "        super().__init__()\n",
    "        self.block1 = nn.Sequential(nn.Conv2d(3, 192, 5, padding=2), nn.ReLU(inplace=True),\n",
    "                                   nn.Conv2d(192, 160, 1), nn.ReLU(inplace=True),\n",
    "                                   nn.Conv2d(160, 96, 1), nn.ReLU(inplace=True),\n",
    "                                   nn.MaxPool2d(2),\n",
    "                                   nn.Dropout2d(0.25))\n",
    "        self.block2 = nn.Sequential(nn.Conv2d(96, 192, 5, padding=2), nn.ReLU(inplace=True),\n",
    "                                   nn.Conv2d(192, 192, 1), nn.ReLU(inplace=True),\n",
    "                                   nn.Conv2d(192, 192, 1), nn.ReLU(inplace=True),\n",
    "                                   nn.MaxPool2d(3, 2),\n",
    "                                   nn.Dropout2d(0.25))\n",
    "        self.block3 = nn.Sequential(nn.Conv2d(192, 192, 3, padding=1), nn.ReLU(inplace=True),\n",
    "                                   nn.Conv2d(192, 192, 1), nn.ReLU(inplace=True),\n",
    "                                   nn.Conv2d(192, 10, 1), nn.ReLU(inplace=True),\n",
    "                                   nn.AdaptiveMaxPool2d((1, 1)),\n",
    "                                   nn.Dropout2d(0.25),\n",
    "                                   nn.Softmax(dim=1))\n",
    "    def forward(self, x):\n",
    "        x = self.block1(x)\n",
    "        x = self.block2(x)\n",
    "        x = self.block3(x)\n",
    "        return x"
   ]
  },
  {
   "cell_type": "code",
   "execution_count": 3,
   "id": "0d97bd50-a986-4206-8a54-458214ada2a5",
   "metadata": {},
   "outputs": [],
   "source": [
    "data = torch.ones([10, 3, 32, 32])"
   ]
  },
  {
   "cell_type": "code",
   "execution_count": 4,
   "id": "6ba6a5de-ce91-484a-b1ba-13e59ecc05da",
   "metadata": {},
   "outputs": [],
   "source": [
    "net = NIN()"
   ]
  },
  {
   "cell_type": "code",
   "execution_count": 6,
   "id": "fd84ae0f-3774-4a5b-bcac-7538d748e23a",
   "metadata": {},
   "outputs": [
    {
     "data": {
      "text/plain": [
       "torch.Size([10, 10, 1, 1])"
      ]
     },
     "execution_count": 6,
     "metadata": {},
     "output_type": "execute_result"
    }
   ],
   "source": [
    "net(data).shape"
   ]
  },
  {
   "cell_type": "code",
   "execution_count": 8,
   "id": "1b4306be-7251-455d-ac7a-db7d2b36a7f3",
   "metadata": {
    "collapsed": true,
    "jupyter": {
     "outputs_hidden": true
    },
    "tags": []
   },
   "outputs": [
    {
     "data": {
      "text/plain": [
       "==========================================================================================\n",
       "Layer (type:depth-idx)                   Output Shape              Param #\n",
       "==========================================================================================\n",
       "NIN                                      [10, 10, 1, 1]            --\n",
       "├─Sequential: 1-1                        [10, 96, 16, 16]          --\n",
       "│    └─Conv2d: 2-1                       [10, 192, 32, 32]         14,592\n",
       "│    └─ReLU: 2-2                         [10, 192, 32, 32]         --\n",
       "│    └─Conv2d: 2-3                       [10, 160, 32, 32]         30,880\n",
       "│    └─ReLU: 2-4                         [10, 160, 32, 32]         --\n",
       "│    └─Conv2d: 2-5                       [10, 96, 32, 32]          15,456\n",
       "│    └─ReLU: 2-6                         [10, 96, 32, 32]          --\n",
       "│    └─MaxPool2d: 2-7                    [10, 96, 16, 16]          --\n",
       "│    └─Dropout2d: 2-8                    [10, 96, 16, 16]          --\n",
       "├─Sequential: 1-2                        [10, 192, 7, 7]           --\n",
       "│    └─Conv2d: 2-9                       [10, 192, 16, 16]         460,992\n",
       "│    └─ReLU: 2-10                        [10, 192, 16, 16]         --\n",
       "│    └─Conv2d: 2-11                      [10, 192, 16, 16]         37,056\n",
       "│    └─ReLU: 2-12                        [10, 192, 16, 16]         --\n",
       "│    └─Conv2d: 2-13                      [10, 192, 16, 16]         37,056\n",
       "│    └─ReLU: 2-14                        [10, 192, 16, 16]         --\n",
       "│    └─MaxPool2d: 2-15                   [10, 192, 7, 7]           --\n",
       "│    └─Dropout2d: 2-16                   [10, 192, 7, 7]           --\n",
       "├─Sequential: 1-3                        [10, 10, 1, 1]            --\n",
       "│    └─Conv2d: 2-17                      [10, 192, 7, 7]           331,968\n",
       "│    └─ReLU: 2-18                        [10, 192, 7, 7]           --\n",
       "│    └─Conv2d: 2-19                      [10, 192, 7, 7]           37,056\n",
       "│    └─ReLU: 2-20                        [10, 192, 7, 7]           --\n",
       "│    └─Conv2d: 2-21                      [10, 10, 7, 7]            1,930\n",
       "│    └─ReLU: 2-22                        [10, 10, 7, 7]            --\n",
       "│    └─AdaptiveMaxPool2d: 2-23           [10, 10, 1, 1]            --\n",
       "│    └─Dropout2d: 2-24                   [10, 10, 1, 1]            --\n",
       "│    └─Softmax: 2-25                     [10, 10, 1, 1]            --\n",
       "==========================================================================================\n",
       "Total params: 966,986\n",
       "Trainable params: 966,986\n",
       "Non-trainable params: 0\n",
       "Total mult-adds (G): 2.18\n",
       "==========================================================================================\n",
       "Input size (MB): 0.12\n",
       "Forward/backward pass size (MB): 50.04\n",
       "Params size (MB): 3.87\n",
       "Estimated Total Size (MB): 54.03\n",
       "=========================================================================================="
      ]
     },
     "execution_count": 8,
     "metadata": {},
     "output_type": "execute_result"
    }
   ],
   "source": [
    "summary(net, [10, 3, 32, 32], device=\"cpu\")"
   ]
  },
  {
   "cell_type": "code",
   "execution_count": null,
   "id": "8b4c2083-19bd-40d6-b744-fbafaaa2dd2d",
   "metadata": {},
   "outputs": [],
   "source": [
    "# 感受野"
   ]
  },
  {
   "cell_type": "code",
   "execution_count": 12,
   "id": "5268b37b-5351-4e02-abd8-b27f873f25aa",
   "metadata": {},
   "outputs": [],
   "source": [
    "class NIN_receptive_field(nn.Module):\n",
    "    def __init__(self):\n",
    "        super().__init__()\n",
    "        self.block1 = nn.Sequential(nn.Conv2d(3, 192, 5, padding=2), # nn.ReLU(inplace=True),  # 1 + (5-1) * (1) = 5\n",
    "                                   nn.Conv2d(192, 160, 1), # nn.ReLU(inplace=True),            # 5 + (1 - 1) * (1) = 5\n",
    "                                   nn.Conv2d(160, 96, 1), # nn.ReLU(inplace=True),             # 5 + (1 - 1) * (1) = 5\n",
    "                                   nn.MaxPool2d(2)                                             # 5  + (2 - 1) * (1) = 6\n",
    "                                   #nn.Dropout2d(0.25)\n",
    "                                   )\n",
    "        self.block2 = nn.Sequential(nn.Conv2d(96, 192, 5, padding=2), # nn.ReLU(inplace=True), # 6 + (5 - 1) * (2) = 14\n",
    "                                   nn.Conv2d(192, 192, 1), # nn.ReLU(inplace=True),            # 14 \n",
    "                                   nn.Conv2d(192, 192, 1), # nn.ReLU(inplace=True),            # 14\n",
    "                                   nn.MaxPool2d(3, 2)                                          # 14 + (3-1)*(2) = 18\n",
    "                                   # nn.Dropout2d(0.25)\n",
    "                                   )\n",
    "        self.block3 = nn.Sequential(nn.Conv2d(192, 192, 3, padding=1), # nn.ReLU(inplace=True),  # 18 + (3-1) * (2*2) = 26\n",
    "                                   nn.Conv2d(192, 192, 1), # nn.ReLU(inplace=True),              # 26   \n",
    "                                   nn.Conv2d(192, 10, 1), # nn.ReLU(inplace=True),               # 26\n",
    "                                   # nn.AdaptiveMaxPool2d((1, 1)),\n",
    "                                    nn.MaxPool2d(7)                                              # 26 + (7-1) * (2*2) = 50\n",
    "                                  # nn.Dropout2d(0.25),\n",
    "                                   # nn.Softmax(dim=1)\n",
    "                                   )\n",
    "    def forward(self, x):\n",
    "        x = self.block1(x)\n",
    "        x = self.block2(x)\n",
    "        x = self.block3(x)\n",
    "        return x"
   ]
  },
  {
   "cell_type": "code",
   "execution_count": 13,
   "id": "092c3f40-d0dc-4e37-99c6-f691d7708e1e",
   "metadata": {},
   "outputs": [],
   "source": [
    "net_ = NIN_receptive_field()"
   ]
  },
  {
   "cell_type": "code",
   "execution_count": 14,
   "id": "9dd21eab-53f4-42e4-a663-6c1158f281ed",
   "metadata": {},
   "outputs": [
    {
     "name": "stdout",
     "output_type": "stream",
     "text": [
      "------------------------------------------------------------------------------\n",
      "        Layer (type)    map size      start       jump receptive_field \n",
      "==============================================================================\n",
      "        0               [32, 32]        0.5        1.0             1.0 \n",
      "        1               [32, 32]        0.5        1.0             5.0 \n",
      "        2               [32, 32]        0.5        1.0             5.0 \n",
      "        3               [32, 32]        0.5        1.0             5.0 \n",
      "        4               [16, 16]        1.0        2.0             6.0 \n",
      "        5               [16, 16]        1.0        2.0            14.0 \n",
      "        6               [16, 16]        1.0        2.0            14.0 \n",
      "        7               [16, 16]        1.0        2.0            14.0 \n",
      "        8                 [7, 7]        3.0        4.0            18.0 \n",
      "        9                 [7, 7]        3.0        4.0            26.0 \n",
      "        10                [7, 7]        3.0        4.0            26.0 \n",
      "        11                [7, 7]        3.0        4.0            26.0 \n",
      "        12                [1, 1]       15.0       28.0            50.0 \n",
      "==============================================================================\n"
     ]
    },
    {
     "data": {
      "text/plain": [
       "OrderedDict([('0',\n",
       "              OrderedDict([('j', 1.0),\n",
       "                           ('r', 1.0),\n",
       "                           ('start', 0.5),\n",
       "                           ('conv_stage', True),\n",
       "                           ('output_shape', [-1, 3, 32, 32])])),\n",
       "             ('1',\n",
       "              OrderedDict([('j', 1.0),\n",
       "                           ('r', 5.0),\n",
       "                           ('start', 0.5),\n",
       "                           ('input_shape', [-1, 3, 32, 32]),\n",
       "                           ('output_shape', [-1, 192, 32, 32])])),\n",
       "             ('2',\n",
       "              OrderedDict([('j', 1.0),\n",
       "                           ('r', 5.0),\n",
       "                           ('start', 0.5),\n",
       "                           ('input_shape', [-1, 192, 32, 32]),\n",
       "                           ('output_shape', [-1, 160, 32, 32])])),\n",
       "             ('3',\n",
       "              OrderedDict([('j', 1.0),\n",
       "                           ('r', 5.0),\n",
       "                           ('start', 0.5),\n",
       "                           ('input_shape', [-1, 160, 32, 32]),\n",
       "                           ('output_shape', [-1, 96, 32, 32])])),\n",
       "             ('4',\n",
       "              OrderedDict([('j', 2.0),\n",
       "                           ('r', 6.0),\n",
       "                           ('start', 1.0),\n",
       "                           ('input_shape', [-1, 96, 32, 32]),\n",
       "                           ('output_shape', [-1, 96, 16, 16])])),\n",
       "             ('5',\n",
       "              OrderedDict([('j', 2.0),\n",
       "                           ('r', 14.0),\n",
       "                           ('start', 1.0),\n",
       "                           ('input_shape', [-1, 96, 16, 16]),\n",
       "                           ('output_shape', [-1, 192, 16, 16])])),\n",
       "             ('6',\n",
       "              OrderedDict([('j', 2.0),\n",
       "                           ('r', 14.0),\n",
       "                           ('start', 1.0),\n",
       "                           ('input_shape', [-1, 192, 16, 16]),\n",
       "                           ('output_shape', [-1, 192, 16, 16])])),\n",
       "             ('7',\n",
       "              OrderedDict([('j', 2.0),\n",
       "                           ('r', 14.0),\n",
       "                           ('start', 1.0),\n",
       "                           ('input_shape', [-1, 192, 16, 16]),\n",
       "                           ('output_shape', [-1, 192, 16, 16])])),\n",
       "             ('8',\n",
       "              OrderedDict([('j', 4.0),\n",
       "                           ('r', 18.0),\n",
       "                           ('start', 3.0),\n",
       "                           ('input_shape', [-1, 192, 16, 16]),\n",
       "                           ('output_shape', [-1, 192, 7, 7])])),\n",
       "             ('9',\n",
       "              OrderedDict([('j', 4.0),\n",
       "                           ('r', 26.0),\n",
       "                           ('start', 3.0),\n",
       "                           ('input_shape', [-1, 192, 7, 7]),\n",
       "                           ('output_shape', [-1, 192, 7, 7])])),\n",
       "             ('10',\n",
       "              OrderedDict([('j', 4.0),\n",
       "                           ('r', 26.0),\n",
       "                           ('start', 3.0),\n",
       "                           ('input_shape', [-1, 192, 7, 7]),\n",
       "                           ('output_shape', [-1, 192, 7, 7])])),\n",
       "             ('11',\n",
       "              OrderedDict([('j', 4.0),\n",
       "                           ('r', 26.0),\n",
       "                           ('start', 3.0),\n",
       "                           ('input_shape', [-1, 192, 7, 7]),\n",
       "                           ('output_shape', [-1, 10, 7, 7])])),\n",
       "             ('12',\n",
       "              OrderedDict([('j', 28.0),\n",
       "                           ('r', 50.0),\n",
       "                           ('start', 15.0),\n",
       "                           ('input_shape', [-1, 10, 7, 7]),\n",
       "                           ('output_shape', [-1, 10, 1, 1])])),\n",
       "             ('input_size', [3, 32, 32])])"
      ]
     },
     "execution_count": 14,
     "metadata": {},
     "output_type": "execute_result"
    }
   ],
   "source": [
    "receptive_field(net_.cuda(), [3, 32, 32])"
   ]
  },
  {
   "cell_type": "code",
   "execution_count": null,
   "id": "5e22701d-9e46-4a75-92c4-d9c9473a5d6b",
   "metadata": {},
   "outputs": [],
   "source": []
  }
 ],
 "metadata": {
  "kernelspec": {
   "display_name": "Python 3 (ipykernel)",
   "language": "python",
   "name": "python3"
  },
  "language_info": {
   "codemirror_mode": {
    "name": "ipython",
    "version": 3
   },
   "file_extension": ".py",
   "mimetype": "text/x-python",
   "name": "python",
   "nbconvert_exporter": "python",
   "pygments_lexer": "ipython3",
   "version": "3.9.13"
  }
 },
 "nbformat": 4,
 "nbformat_minor": 5
}
