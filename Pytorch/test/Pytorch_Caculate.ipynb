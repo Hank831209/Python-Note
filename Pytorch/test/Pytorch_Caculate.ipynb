{
 "cells": [
  {
   "cell_type": "code",
   "execution_count": 18,
   "id": "0c49f3a6-3f13-452b-b176-41d0139a3665",
   "metadata": {},
   "outputs": [],
   "source": [
    "import torch\n",
    "import numpy as np\n",
    "import torch.nn as nn\n",
    "from torch.nn import functional as F"
   ]
  },
  {
   "cell_type": "markdown",
   "id": "799f377f-5fc6-40d5-a015-5b701b7c221e",
   "metadata": {},
   "source": [
    "# Autograd"
   ]
  },
  {
   "cell_type": "code",
   "execution_count": 3,
   "id": "c1c306db-7036-4c4c-b8ce-dda4e2598718",
   "metadata": {},
   "outputs": [],
   "source": [
    "a = torch.tensor([1.], requires_grad=True)\n",
    "b = torch.tensor([1.], requires_grad=True)"
   ]
  },
  {
   "cell_type": "code",
   "execution_count": 4,
   "id": "0ee6044d-80df-46e6-931a-3f5424d07fa0",
   "metadata": {},
   "outputs": [],
   "source": [
    "# a = 1, b = 1\n",
    "sse = torch.pow((2 - a - b), 2) + torch.pow((4 - 3 * a - b), 2)"
   ]
  },
  {
   "cell_type": "code",
   "execution_count": 5,
   "id": "abc43f7b-895a-4a30-ba95-d19d6e6168e2",
   "metadata": {},
   "outputs": [
    {
     "data": {
      "text/plain": [
       "(tensor([-0.]), tensor([-0.]))"
      ]
     },
     "execution_count": 5,
     "metadata": {},
     "output_type": "execute_result"
    }
   ],
   "source": [
    "torch.autograd.grad(sse, [a, b])  # a = 1, b = 1 時sse對a和b的偏微分"
   ]
  },
  {
   "cell_type": "code",
   "execution_count": 6,
   "id": "c572addc-b66e-4380-872e-d0150fe0c2ac",
   "metadata": {},
   "outputs": [
    {
     "data": {
      "text/plain": [
       "(tensor(2.),)"
      ]
     },
     "execution_count": 6,
     "metadata": {},
     "output_type": "execute_result"
    }
   ],
   "source": [
    "x = torch.tensor(1., requires_grad=True)\n",
    "y = x ** 2\n",
    "z = y + 1\n",
    "torch.autograd.grad(y, x)  # 微分值"
   ]
  },
  {
   "cell_type": "markdown",
   "id": "2058a6ac-2010-4636-af6a-0125a644b9aa",
   "metadata": {},
   "source": [
    "# 微分計算圖"
   ]
  },
  {
   "cell_type": "code",
   "execution_count": 7,
   "id": "ba9ca7df-0e44-4bcf-9c31-8b3d8a4a284f",
   "metadata": {},
   "outputs": [],
   "source": [
    "x = torch.tensor(1., requires_grad=True)\n",
    "y = x ** 2\n",
    "z = y + 1\n",
    "x.grad  #  在最初x.grad是空值、得先進行反向傳播才有值"
   ]
  },
  {
   "cell_type": "code",
   "execution_count": 8,
   "id": "b837342b-f670-404f-82d6-033fb2caf927",
   "metadata": {},
   "outputs": [
    {
     "data": {
      "text/plain": [
       "tensor(2., grad_fn=<AddBackward0>)"
      ]
     },
     "execution_count": 8,
     "metadata": {},
     "output_type": "execute_result"
    }
   ],
   "source": [
    "z"
   ]
  },
  {
   "cell_type": "code",
   "execution_count": 73,
   "id": "a4cdeb19-1c74-480c-8fed-5b235cd46c9f",
   "metadata": {},
   "outputs": [
    {
     "data": {
      "text/plain": [
       "<AddBackward0 at 0x172588e0220>"
      ]
     },
     "execution_count": 73,
     "metadata": {},
     "output_type": "execute_result"
    }
   ],
   "source": [
    "z.grad_fn"
   ]
  },
  {
   "cell_type": "code",
   "execution_count": 9,
   "id": "48729af4-1bdb-473a-a252-400a777016a9",
   "metadata": {},
   "outputs": [],
   "source": [
    "z.backward()  # 從輸出節點回朔計算出使節點的微分值"
   ]
  },
  {
   "cell_type": "code",
   "execution_count": 11,
   "id": "8e016a47-3544-440d-a121-a9746f72b50b",
   "metadata": {},
   "outputs": [
    {
     "name": "stdout",
     "output_type": "stream",
     "text": [
      "x.grad:  tensor(2.)\n",
      "y.grad:  None\n"
     ]
    }
   ],
   "source": [
    "print('x.grad: ', x.grad)  # z = x**2 + 1 在x=1時對x的微分 ---> 2x ---> 2\n",
    "print('y.grad: ', y.grad)  # 僅返回最初的葉節點的微分 "
   ]
  },
  {
   "cell_type": "code",
   "execution_count": 12,
   "id": "9b6316d1-3be5-4605-9608-3e867360089a",
   "metadata": {},
   "outputs": [],
   "source": [
    "x = torch.tensor(1., requires_grad=True)\n",
    "y = x ** 2\n",
    "y.retain_grad()  # 保存y在計算過程中保留的導數\n",
    "z = y ** 2\n",
    "z.backward()"
   ]
  },
  {
   "cell_type": "code",
   "execution_count": 13,
   "id": "b60a4aad-d810-4272-bd5a-f85a31804fb5",
   "metadata": {},
   "outputs": [
    {
     "data": {
      "text/plain": [
       "tensor(2.)"
      ]
     },
     "execution_count": 13,
     "metadata": {},
     "output_type": "execute_result"
    }
   ],
   "source": [
    "y.grad  # z = y ** 2 對 y微分"
   ]
  },
  {
   "cell_type": "markdown",
   "id": "ef65ea43-194e-4282-a5b7-d1298d2e6737",
   "metadata": {},
   "source": [
    "# 阻止圖計算"
   ]
  },
  {
   "cell_type": "markdown",
   "id": "b31dd287-2f79-4e16-9b82-552db6b37ca1",
   "metadata": {},
   "source": [
    "## with torch.no_grad():"
   ]
  },
  {
   "cell_type": "code",
   "execution_count": 14,
   "id": "275a42dc-37f3-468e-b6dc-13accd4d24ab",
   "metadata": {},
   "outputs": [
    {
     "name": "stdout",
     "output_type": "stream",
     "text": [
      "True\n",
      "tensor(1.)\n",
      "False\n"
     ]
    }
   ],
   "source": [
    "x = torch.tensor(1., requires_grad=True)\n",
    "y = x ** 2\n",
    "with torch.no_grad():\n",
    "    z = y **2  # \n",
    "print(y.requires_grad)\n",
    "print(z)\n",
    "print(z.requires_grad)"
   ]
  },
  {
   "cell_type": "markdown",
   "id": "d2763111-e6a1-416f-aa45-be380174a4a3",
   "metadata": {},
   "source": [
    "## .detach()"
   ]
  },
  {
   "cell_type": "code",
   "execution_count": 15,
   "id": "d18aeaea-7adf-47a1-8e39-4b3c34686bb8",
   "metadata": {},
   "outputs": [
    {
     "name": "stdout",
     "output_type": "stream",
     "text": [
      "tensor(1., grad_fn=<PowBackward0>)\n",
      "tensor(1.)\n",
      "tensor(1.)\n"
     ]
    }
   ],
   "source": [
    "x = torch.tensor(1., requires_grad=True)\n",
    "y = x ** 2\n",
    "y1 = y.detach()  # 創建一個新的不可導的張量\n",
    "z = y1 ** 2\n",
    "print(y)\n",
    "print(y1)\n",
    "print(z)"
   ]
  },
  {
   "cell_type": "markdown",
   "id": "725d1a50-d15f-4d86-a54e-0cfae2a9bb8d",
   "metadata": {},
   "source": [
    "# 識別葉節點"
   ]
  },
  {
   "cell_type": "code",
   "execution_count": 16,
   "id": "c4936c6e-8add-4b49-97c1-91a23b21d88f",
   "metadata": {},
   "outputs": [
    {
     "name": "stdout",
     "output_type": "stream",
     "text": [
      "True\n",
      "False\n"
     ]
    }
   ],
   "source": [
    "x = torch.tensor(1., requires_grad=True)\n",
    "y = x ** 2\n",
    "z = y **2 \n",
    "print(x.is_leaf)\n",
    "print(y.is_leaf)"
   ]
  },
  {
   "cell_type": "code",
   "execution_count": null,
   "id": "1fe2cbb0-1189-4e71-ab81-7582e9df6998",
   "metadata": {},
   "outputs": [],
   "source": [
    "# 3分類 500個樣本 20個特徵 共3層 第一層13個神經元 第二層8個神經元"
   ]
  },
  {
   "cell_type": "code",
   "execution_count": null,
   "id": "0e3e2ab5-2062-432f-9177-909526897570",
   "metadata": {},
   "outputs": [],
   "source": [
    "# 確定數據"
   ]
  },
  {
   "cell_type": "code",
   "execution_count": 21,
   "id": "58c3adc6-406b-46fd-8ec6-3dc4ef938be4",
   "metadata": {},
   "outputs": [],
   "source": [
    "torch.manual_seed(0)\n",
    "x = torch.rand((500, 20), dtype=torch.float32) * 100\n",
    "y = torch.randint(low=0, high=3, size=(500, ), dtype=torch.float32)"
   ]
  },
  {
   "cell_type": "code",
   "execution_count": 23,
   "id": "01a9443d-0399-46c1-8f9a-996648e0e760",
   "metadata": {},
   "outputs": [],
   "source": [
    "input_ = x.shape[1]  # 特徵數\n",
    "output_ = len(y.unique())  # 類別數"
   ]
  },
  {
   "cell_type": "code",
   "execution_count": null,
   "id": "b7a7b7cf-ff31-4499-8359-cc1ca16418b5",
   "metadata": {},
   "outputs": [],
   "source": [
    "# 定義神經網路架構"
   ]
  },
  {
   "cell_type": "code",
   "execution_count": 31,
   "id": "81bac89c-fc2c-47f7-b3ef-590c9734d377",
   "metadata": {},
   "outputs": [],
   "source": [
    "class Model(nn.Module):\n",
    "    def __init__(self, in_features=40, out_features=2):\n",
    "        super().__init__()\n",
    "        self.linear1 = nn.Linear(in_features=in_features, out_features=13, bias=False)\n",
    "        self.linear2 = nn.Linear(in_features=13, out_features=8, bias=False)\n",
    "        self.output = nn.Linear(in_features=8, out_features=out_features, bias=True)\n",
    "    \n",
    "    def forward(self, x):\n",
    "        sigma1 = torch.relu(self.linear1(x))\n",
    "        sigma2 = torch.sigmoid(self.linear2(sigma1))\n",
    "        zhat = self.output(sigma2)\n",
    "        return zhat"
   ]
  },
  {
   "cell_type": "code",
   "execution_count": 25,
   "id": "c219b988-4bcf-4608-a5f8-1131dfeec9e7",
   "metadata": {},
   "outputs": [],
   "source": [
    "torch.manual_seed(420)\n",
    "net = Model(in_features=input_, out_features=output_)"
   ]
  },
  {
   "cell_type": "code",
   "execution_count": 26,
   "id": "2a76fa89-a614-4547-8f50-6b22d7f29746",
   "metadata": {},
   "outputs": [],
   "source": [
    "zhat = net.forward(x)"
   ]
  },
  {
   "cell_type": "code",
   "execution_count": 27,
   "id": "c39fa42a-b038-4069-894d-d03b4917a352",
   "metadata": {},
   "outputs": [],
   "source": [
    "criterion = nn.CrossEntropyLoss()"
   ]
  },
  {
   "cell_type": "code",
   "execution_count": 28,
   "id": "b5affff2-798e-4ece-b95d-095ac39c235c",
   "metadata": {},
   "outputs": [],
   "source": [
    "loss = criterion(zhat, y.long())"
   ]
  },
  {
   "cell_type": "code",
   "execution_count": 29,
   "id": "9f918160-3f91-4025-a4fc-a53d246fb9ee",
   "metadata": {},
   "outputs": [
    {
     "data": {
      "text/plain": [
       "tensor(1.1992, grad_fn=<NllLossBackward0>)"
      ]
     },
     "execution_count": 29,
     "metadata": {},
     "output_type": "execute_result"
    }
   ],
   "source": [
    "loss"
   ]
  },
  {
   "cell_type": "code",
   "execution_count": 32,
   "id": "19a27663-0706-46e4-b7bc-98f51330a72c",
   "metadata": {},
   "outputs": [],
   "source": [
    "net.linear1.weight.grad  # 還沒反向傳播所以沒有梯度"
   ]
  },
  {
   "cell_type": "code",
   "execution_count": 33,
   "id": "fee43c57-fe22-4993-af34-2f4ceb1b8246",
   "metadata": {},
   "outputs": [],
   "source": [
    "loss.backward()  # 反向傳播"
   ]
  },
  {
   "cell_type": "code",
   "execution_count": 36,
   "id": "533c3d8e-235a-45fa-848b-10b9fb602c99",
   "metadata": {},
   "outputs": [
    {
     "name": "stdout",
     "output_type": "stream",
     "text": [
      "torch.Size([13, 20]) torch.Size([13, 20])\n"
     ]
    },
    {
     "data": {
      "text/plain": [
       "tensor([[-2.2252e-05, -1.8684e-05, -2.2276e-05, -1.0601e-05, -1.1619e-06,\n",
       "         -6.0099e-06, -1.9208e-05, -1.1353e-05, -5.7474e-06, -2.6704e-06,\n",
       "         -7.3304e-07, -1.7826e-06, -9.1094e-06, -1.7694e-05, -1.7605e-05,\n",
       "         -4.0645e-07, -1.8555e-05, -2.4853e-06, -9.0114e-06, -6.7938e-06],\n",
       "        [ 6.9786e-03, -8.8909e-03, -4.3138e-03, -1.8461e-03, -8.4016e-03,\n",
       "         -9.5685e-04, -9.8347e-03, -6.9438e-03,  9.9324e-04, -1.3882e-02,\n",
       "         -9.7108e-03,  2.7085e-04,  3.0346e-03, -1.1586e-02, -7.6946e-03,\n",
       "         -1.5050e-02, -5.4895e-03, -8.0938e-03, -1.7266e-03, -2.0699e-02],\n",
       "        [-3.1017e-02, -1.0266e-02, -1.9335e-02, -6.4472e-03, -1.7734e-03,\n",
       "         -2.2988e-02, -5.6614e-03, -1.6383e-02, -3.3910e-02, -6.9265e-03,\n",
       "         -7.9444e-03, -1.8821e-02, -1.2418e-02, -1.2930e-02, -1.1997e-02,\n",
       "         -2.5591e-02, -2.0578e-02, -1.6955e-02, -2.3379e-02, -6.6936e-03],\n",
       "        [ 1.3744e-02,  1.1576e-02,  4.0255e-03,  1.0368e-02,  5.7043e-03,\n",
       "          8.3568e-03,  6.2944e-03,  1.6313e-02,  1.0215e-02,  7.2389e-03,\n",
       "          9.9444e-03,  7.7264e-03,  1.0788e-02,  7.1832e-03,  1.0851e-02,\n",
       "          1.0133e-02,  1.5250e-02,  5.9193e-03,  1.0840e-02,  1.0126e-02],\n",
       "        [ 2.0923e-02,  2.3700e-02,  1.2784e-02,  2.6778e-02,  1.6398e-02,\n",
       "          1.1316e-02,  1.3649e-02,  2.2814e-02,  1.7550e-02,  1.6727e-02,\n",
       "          1.5717e-02,  2.3929e-02,  1.7517e-02,  1.3091e-02,  2.0005e-02,\n",
       "          2.5680e-02,  2.1045e-02,  2.1937e-02,  3.0144e-02,  1.4372e-02],\n",
       "        [ 1.2976e-03,  1.5964e-03,  1.1457e-03, -5.0671e-04, -3.7406e-04,\n",
       "          8.2793e-04, -3.0910e-04, -6.0692e-04,  4.6089e-04, -6.1965e-04,\n",
       "          1.5063e-04,  1.4973e-03, -6.0434e-04,  1.9471e-03, -2.0343e-04,\n",
       "          6.4392e-04, -6.8098e-04, -8.6772e-04,  8.4866e-04,  1.4924e-03],\n",
       "        [-4.2545e-02, -3.0166e-02, -7.8753e-03, -3.0446e-02, -4.0852e-02,\n",
       "         -3.0630e-02, -2.5785e-02, -3.1410e-02, -4.2993e-02, -1.6074e-02,\n",
       "         -2.6835e-02, -3.5338e-02, -3.3318e-02, -2.8811e-02, -2.7241e-02,\n",
       "         -2.8083e-02, -4.2776e-02, -2.0528e-02, -5.1861e-02, -1.0324e-02],\n",
       "        [ 3.8021e-02,  7.0847e-03,  1.4563e-02,  5.7396e-04,  1.0012e-02,\n",
       "          2.1289e-02,  3.1829e-03,  1.3356e-02,  3.8120e-02,  7.7159e-03,\n",
       "          2.5166e-03,  2.5109e-02,  1.8506e-02,  6.6604e-03,  1.6081e-02,\n",
       "          2.9196e-02,  1.4056e-02,  1.9361e-02,  3.3809e-02,  8.3712e-03],\n",
       "        [ 4.5800e-03,  1.0512e-02, -2.0920e-03,  5.1013e-03,  9.0526e-03,\n",
       "         -6.5421e-03,  4.9153e-03,  1.5056e-02,  8.0309e-03, -5.4988e-03,\n",
       "          7.6063e-03,  1.1251e-02,  3.2820e-03,  7.6114e-03,  8.2341e-03,\n",
       "          1.6970e-03,  1.2846e-02,  1.3795e-02,  1.1373e-02,  4.6678e-03],\n",
       "        [-5.6389e-04, -1.4218e-02, -7.0723e-03, -6.4693e-03, -7.8950e-03,\n",
       "         -1.1134e-02, -1.1471e-02, -9.6227e-03, -2.0951e-03, -4.6699e-03,\n",
       "         -5.7987e-03, -1.2491e-02, -4.9957e-03, -2.8857e-03, -1.2378e-02,\n",
       "         -1.1245e-02, -4.5826e-03, -1.0621e-02, -1.0860e-02, -8.4147e-03],\n",
       "        [-4.9103e-04, -1.2725e-03,  2.1681e-03,  7.2727e-04,  3.8189e-04,\n",
       "          1.3657e-03, -1.3220e-03,  1.0653e-03, -4.8998e-04, -1.0858e-03,\n",
       "          1.2118e-04, -1.3834e-03,  5.4954e-04, -1.4456e-03,  1.2170e-03,\n",
       "          4.2430e-04,  7.4302e-04, -7.1710e-04, -6.1275e-04, -1.8230e-03],\n",
       "        [-7.0746e-03, -2.1410e-04, -2.8250e-04,  5.3485e-03,  1.9508e-03,\n",
       "         -1.0318e-03,  5.9794e-04,  3.1272e-03, -8.1493e-03,  3.2935e-03,\n",
       "         -1.7247e-04, -3.5908e-03, -1.8359e-03,  6.8997e-03, -3.1924e-03,\n",
       "         -6.4299e-03,  4.4352e-03, -3.4676e-03, -3.1359e-03,  3.5768e-03],\n",
       "        [-2.2174e-04, -2.9010e-04, -3.5101e-04, -9.6333e-05, -9.3535e-04,\n",
       "         -1.1817e-04, -5.9735e-04, -1.3511e-03, -1.8977e-04, -1.3925e-03,\n",
       "         -1.6494e-03, -7.0268e-04, -7.2903e-04, -4.0767e-05, -1.5982e-03,\n",
       "         -1.4930e-03, -7.4004e-04, -1.3225e-03, -9.8858e-05, -2.6783e-04]])"
      ]
     },
     "execution_count": 36,
     "metadata": {},
     "output_type": "execute_result"
    }
   ],
   "source": [
    "print(net.linear1.weight.grad.shape, net.linear1.weight.shape)\n",
    "net.linear1.weight.grad  # 反向傳播過後就有梯度了"
   ]
  },
  {
   "cell_type": "code",
   "execution_count": null,
   "id": "63c99939-f14d-4bbb-9ab6-fb9f3644685b",
   "metadata": {},
   "outputs": [],
   "source": []
  }
 ],
 "metadata": {
  "kernelspec": {
   "display_name": "Python 3 (ipykernel)",
   "language": "python",
   "name": "python3"
  },
  "language_info": {
   "codemirror_mode": {
    "name": "ipython",
    "version": 3
   },
   "file_extension": ".py",
   "mimetype": "text/x-python",
   "name": "python",
   "nbconvert_exporter": "python",
   "pygments_lexer": "ipython3",
   "version": "3.9.13"
  }
 },
 "nbformat": 4,
 "nbformat_minor": 5
}
