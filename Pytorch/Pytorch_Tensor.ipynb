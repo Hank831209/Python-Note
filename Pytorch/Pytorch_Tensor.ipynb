{
 "cells": [
  {
   "cell_type": "code",
   "execution_count": 45,
   "id": "7e707ae3-9bfb-42a5-94ba-6c2b6669e17f",
   "metadata": {},
   "outputs": [],
   "source": [
    "import torch\n",
    "import numpy as np\n",
    "import torchvision.transforms as transforms\n",
    "from PIL import Image\n",
    "import cv2 "
   ]
  },
  {
   "cell_type": "markdown",
   "id": "cffd8937-e532-4d9f-bf81-6b114a87dac8",
   "metadata": {},
   "source": [
    "# Torch常用方法"
   ]
  },
  {
   "cell_type": "markdown",
   "id": "5af05d59-089d-40aa-9d91-f83fbcaaeb92",
   "metadata": {},
   "source": [
    "## 加減乘除"
   ]
  },
  {
   "cell_type": "code",
   "execution_count": 46,
   "id": "7ecc4e7e-4f3d-46f0-b337-ce52f12c7728",
   "metadata": {},
   "outputs": [
    {
     "name": "stdout",
     "output_type": "stream",
     "text": [
      "add:  tensor([2, 4, 6])\n",
      "subtract:  tensor([0, 0, 0])\n",
      "multiply:  tensor([1, 4, 9])\n",
      "divide:  tensor([1., 1., 1.])\n"
     ]
    }
   ],
   "source": [
    "t1 = torch.tensor([1, 2, 3])\n",
    "t2 = torch.tensor([1, 2, 3])\n",
    "add = torch.add(t1, t2)\n",
    "subtract = torch.subtract(t1, t2)\n",
    "multiply = torch.multiply(t1, t2)\n",
    "divide = torch.divide(t1, t2)\n",
    "print('add: ', add)\n",
    "print('subtract: ', subtract)\n",
    "print('multiply: ', multiply)\n",
    "print('divide: ', divide)"
   ]
  },
  {
   "cell_type": "markdown",
   "id": "92903edf-f8f4-4bbe-97f5-5ce10f6075db",
   "metadata": {},
   "source": [
    "## 取值"
   ]
  },
  {
   "cell_type": "code",
   "execution_count": 47,
   "id": "23e911b9-64cd-4525-8be3-eea113533c33",
   "metadata": {},
   "outputs": [
    {
     "name": "stdout",
     "output_type": "stream",
     "text": [
      "_abs:  tensor([1.3000, 2.8000, 3.4000])\n",
      "ceil:  tensor([ 2.,  3., -3.])\n",
      "floor:  tensor([ 1.,  2., -4.])\n",
      "divide:  tensor([ 1.,  3., -3.])\n",
      "neg:  tensor([-1.3000, -2.8000,  3.4000])\n"
     ]
    }
   ],
   "source": [
    "t1 = torch.tensor([1.3, 2.8, -3.4])\n",
    "_abs = torch.abs(t1)  # 絕對值\n",
    "ceil = torch.ceil(t1)  # 向上取整\n",
    "floor = torch.floor(t1)  # 向下取整\n",
    "_round = torch.round(t1)  # 四捨五入\n",
    "neg = torch.neg(t1)  # 相反數\n",
    "print('_abs: ', _abs)\n",
    "print('ceil: ', ceil)\n",
    "print('floor: ', floor)\n",
    "print('divide: ', _round)\n",
    "print('neg: ', neg)"
   ]
  },
  {
   "cell_type": "code",
   "execution_count": 48,
   "id": "cce0d39e-fcac-4608-a4db-8df0a5c201a0",
   "metadata": {},
   "outputs": [
    {
     "name": "stdout",
     "output_type": "stream",
     "text": [
      "t:  tensor([1.3000, 2.8000, 3.4000])\n"
     ]
    }
   ],
   "source": [
    "t = torch.tensor([1.3, 2.8, -3.4])\n",
    "t.abs_()  # 直接修改t的值\n",
    "print('t: ', t)"
   ]
  },
  {
   "cell_type": "code",
   "execution_count": 49,
   "id": "9f1fa514-96fb-49bf-85ed-571c34d35af9",
   "metadata": {},
   "outputs": [
    {
     "name": "stdout",
     "output_type": "stream",
     "text": [
      "t:  tensor([ 3.6693, 16.4446,  0.0334])\n"
     ]
    }
   ],
   "source": [
    "t = torch.tensor([1.3, 2.8, -3.4])\n",
    "t.exp_()  # 直接修改t的值\n",
    "print('t: ', t)"
   ]
  },
  {
   "cell_type": "markdown",
   "id": "cf6c7005-a452-4ef8-9f18-16b9fd7b30b8",
   "metadata": {},
   "source": [
    "## torch.sin()"
   ]
  },
  {
   "cell_type": "code",
   "execution_count": 18,
   "id": "a0d4e1df-035f-4d1f-97e9-a331649149c1",
   "metadata": {},
   "outputs": [
    {
     "name": "stdout",
     "output_type": "stream",
     "text": [
      "tensor_float32:\n",
      " tensor([-1., -2.,  1.,  2.]) torch.float32\n",
      "array:\n",
      " [-0.84147098 -0.90929743  0.84147098  0.90929743]\n",
      "tensor:\n",
      " tensor([-0.8415, -0.9093,  0.8415,  0.9093])\n"
     ]
    }
   ],
   "source": [
    "data = [-1, -2, 1., 2]\n",
    "tensor_float32 = torch.tensor(data).float()\n",
    "print('tensor_float32:\\n', tensor_float32, tensor_float32.dtype)\n",
    "array = np.sin(data)\n",
    "tensor = torch.sin(tensor_float32)\n",
    "print('array:\\n', array)\n",
    "print('tensor:\\n', tensor)"
   ]
  },
  {
   "cell_type": "markdown",
   "id": "4c8378d1-2d92-4d03-b43e-db9683e8893c",
   "metadata": {},
   "source": [
    "## torch.mean()"
   ]
  },
  {
   "cell_type": "code",
   "execution_count": 10,
   "id": "0c85f488-b101-48e2-921e-dd9489a406e9",
   "metadata": {},
   "outputs": [
    {
     "name": "stdout",
     "output_type": "stream",
     "text": [
      "tensor_float32:\n",
      " tensor([-1., -2.,  1.,  2.]) torch.float32\n",
      "array:\n",
      " 0.0\n",
      "tensor:\n",
      " tensor(0.)\n"
     ]
    }
   ],
   "source": [
    "data = [-1, -2, 1., 2]\n",
    "tensor_float32 = torch.tensor(data).float()\n",
    "print('tensor_float32:\\n', tensor_float32, tensor_float32.dtype)\n",
    "array = np.mean(data)  \n",
    "tensor = torch.mean(tensor_float32)  # 平均值\n",
    "print('array:\\n', array)\n",
    "print('tensor:\\n', tensor)"
   ]
  },
  {
   "cell_type": "markdown",
   "id": "c7d2faf0-e061-485d-8561-3b827e892678",
   "metadata": {},
   "source": [
    "## torch.dist()"
   ]
  },
  {
   "cell_type": "code",
   "execution_count": 12,
   "id": "015d7f23-f9fe-4e52-94f3-bfedb3f0ed18",
   "metadata": {},
   "outputs": [
    {
     "name": "stdout",
     "output_type": "stream",
     "text": [
      "tensor([1., 5., 3.])和tensor([1., 2., 3.])的距離:  tensor(3.)\n"
     ]
    }
   ],
   "source": [
    "t1 = torch.tensor([1, 5, 3.])\n",
    "t2 = torch.tensor([1, 2., 3])\n",
    "print(f'{t1}和{t2}的距離: ', torch.dist(t1, t2))"
   ]
  },
  {
   "cell_type": "markdown",
   "id": "e3861bd0-139a-4e18-91d6-b83c7d0d1236",
   "metadata": {},
   "source": [
    "## torch.nonzero()"
   ]
  },
  {
   "cell_type": "code",
   "execution_count": 22,
   "id": "d1ba4139-39fa-4a86-8af7-dcd4ff9709f3",
   "metadata": {},
   "outputs": [
    {
     "name": "stdout",
     "output_type": "stream",
     "text": [
      "x:  tensor([0, 1, 2, 3, 0])\n",
      "y:\n",
      " tensor([[1],\n",
      "        [2],\n",
      "        [3]]) torch.Size([3, 1])\n"
     ]
    }
   ],
   "source": [
    "x = torch.tensor([0, 1, 2 ,3 ,0])\n",
    "y = torch.nonzero(x)\n",
    "print('x: ', x)\n",
    "print('y:\\n', y, y.size())"
   ]
  },
  {
   "cell_type": "markdown",
   "id": "a9468115-1f1f-4e54-9e56-ab69ec0acdd1",
   "metadata": {},
   "source": [
    "# 索引"
   ]
  },
  {
   "cell_type": "markdown",
   "id": "aec71d10-0eb7-49d4-bfa8-781d2eddfc1e",
   "metadata": {},
   "source": [
    "## torch.index_select()"
   ]
  },
  {
   "cell_type": "code",
   "execution_count": 28,
   "id": "9796cd52-21e1-4e55-ae17-10fee9d9a2d3",
   "metadata": {},
   "outputs": [
    {
     "name": "stdout",
     "output_type": "stream",
     "text": [
      "data:\n",
      " tensor([[ 0,  1,  2,  3],\n",
      "        [ 4,  5,  6,  7],\n",
      "        [ 8,  9, 10, 11]])\n",
      "t1:\n",
      " tensor([[ 1,  2],\n",
      "        [ 5,  6],\n",
      "        [ 9, 10]])\n"
     ]
    }
   ],
   "source": [
    "data = torch.arange(12).view(3, 4)\n",
    "indices = torch.tensor([1, 2])\n",
    "t1 = torch.index_select(input=data, dim=1, index=indices)  # 可指定dim，高維操作中比較方便\n",
    "print('data:\\n', data)\n",
    "print('t1:\\n', t1)"
   ]
  },
  {
   "cell_type": "markdown",
   "id": "839a5202-4b54-40c2-aabf-8068b6e4d228",
   "metadata": {},
   "source": [
    "# 維度命名"
   ]
  },
  {
   "cell_type": "code",
   "execution_count": 58,
   "id": "b7e38c9b-c326-4938-91f6-db940b7c6337",
   "metadata": {},
   "outputs": [
    {
     "name": "stdout",
     "output_type": "stream",
     "text": [
      "x_sum.size():  torch.Size([2, 1, 3, 3])\n",
      "x.size():  torch.Size([2, 3, 3, 3])\n",
      "x_0.size():  torch.Size([3, 3, 3])\n"
     ]
    }
   ],
   "source": [
    "name = ['B', 'C', 'H', 'W']\n",
    "x = torch.rand((2, 3, 3, 3), names=name)\n",
    "x_sum = x.sum(dim='C', keepdim=True)\n",
    "x_0 = x.select(dim='B', index=0)  # 取出第0張影像\n",
    "x_0 = x.select(dim='B', index=1)\n",
    "print('x_sum.size(): ', x_sum.size())\n",
    "print('x.size(): ', x.size())\n",
    "print('x_0.size(): ', x_0.size())"
   ]
  },
  {
   "cell_type": "markdown",
   "id": "86dd91c9-1a9d-4fe9-ba71-f2c292d95332",
   "metadata": {},
   "source": [
    "# 維度變換"
   ]
  },
  {
   "cell_type": "code",
   "execution_count": 52,
   "id": "eb08d432-8f63-456d-b595-9526f835506d",
   "metadata": {},
   "outputs": [
    {
     "name": "stdout",
     "output_type": "stream",
     "text": [
      "tensor1:\n",
      " torch.Size([2, 3])\n",
      "tensor2.shape:  torch.Size([6])\n"
     ]
    }
   ],
   "source": [
    "tensor1 = torch.empty([2, 3])\n",
    "tensor2 = tensor1.view(-1)\n",
    "print('tensor1:\\n', tensor1.shape)\n",
    "print('tensor2.shape: ', tensor2.shape)"
   ]
  },
  {
   "cell_type": "markdown",
   "id": "710b1049-625e-4cb8-b928-c4c06bd5ed7a",
   "metadata": {},
   "source": [
    "## 降維增維"
   ]
  },
  {
   "cell_type": "code",
   "execution_count": 53,
   "id": "0aabf5db-26c5-4c4a-b046-0931a85b562c",
   "metadata": {},
   "outputs": [
    {
     "name": "stdout",
     "output_type": "stream",
     "text": [
      "torch.Size([5, 1])\n",
      "torch.Size([5])\n",
      "torch.Size([5, 1])\n"
     ]
    }
   ],
   "source": [
    "tensor = torch.empty(5, 1)\n",
    "print(tensor.shape)\n",
    "tensor1 = torch.squeeze(tensor, axis=1)\n",
    "print(tensor1.shape)\n",
    "tensor2 = torch.squeeze(tensor, axis=0)\n",
    "print(tensor2.shape)"
   ]
  },
  {
   "cell_type": "code",
   "execution_count": 43,
   "id": "47c9d3d0-dad4-436f-9405-99bb2711c88a",
   "metadata": {},
   "outputs": [
    {
     "name": "stdout",
     "output_type": "stream",
     "text": [
      "torch.Size([5])\n",
      "t1.shape:  torch.Size([5, 1])\n",
      "t2.shape:  torch.Size([1, 5])\n",
      "t3.shape:  torch.Size([5, 1])\n",
      "t4.shape:  torch.Size([1, 5])\n"
     ]
    }
   ],
   "source": [
    "tensor = torch.empty(5)\n",
    "print(tensor.shape)\n",
    "t1 = torch.unsqueeze(tensor, axis=1)\n",
    "print('t1.shape: ', t1.shape)\n",
    "t2 = torch.unsqueeze(tensor, axis=0)\n",
    "print('t2.shape: ', t2.shape)\n",
    "t3 = tensor[:, None]\n",
    "print('t3.shape: ', t3.shape)\n",
    "t4 = tensor[None, :]\n",
    "print('t4.shape: ', t4.shape)"
   ]
  },
  {
   "cell_type": "markdown",
   "id": "dc9cb1f1-4ebd-496b-b4ee-11b3431b58fe",
   "metadata": {},
   "source": [
    "## 維度切分"
   ]
  },
  {
   "cell_type": "markdown",
   "id": "86883c24-4a3b-4109-b9ad-fb2413a96f35",
   "metadata": {},
   "source": [
    "### torch.chunk()"
   ]
  },
  {
   "cell_type": "code",
   "execution_count": 31,
   "id": "915961e1-c101-403d-a25e-2df55c1037c9",
   "metadata": {},
   "outputs": [
    {
     "name": "stdout",
     "output_type": "stream",
     "text": [
      "t:\n",
      " tensor([[ 0,  1,  2],\n",
      "        [ 3,  4,  5],\n",
      "        [ 6,  7,  8],\n",
      "        [ 9, 10, 11]])\n",
      "tc:\n",
      " (tensor([[0, 1, 2]]), tensor([[3, 4, 5]]), tensor([[6, 7, 8]]), tensor([[ 9, 10, 11]]))\n"
     ]
    }
   ],
   "source": [
    "t = torch.arange(12).reshape(4, 3)\n",
    "tc = torch.chunk(t, 4, dim=0)  # 返回的是t的view\n",
    "print('t:\\n', t)\n",
    "print('tc:\\n', tc)"
   ]
  },
  {
   "cell_type": "markdown",
   "id": "08162737-b2c9-422e-ac16-b51d7257571d",
   "metadata": {},
   "source": [
    "### torch.split()"
   ]
  },
  {
   "cell_type": "code",
   "execution_count": 32,
   "id": "46106444-eba9-43f9-b246-41472daea910",
   "metadata": {},
   "outputs": [
    {
     "name": "stdout",
     "output_type": "stream",
     "text": [
      "t:\n",
      " tensor([[ 0,  1,  2],\n",
      "        [ 3,  4,  5],\n",
      "        [ 6,  7,  8],\n",
      "        [ 9, 10, 11]])\n",
      "tc:\n",
      " (tensor([[0, 1, 2]]), tensor([[ 3,  4,  5],\n",
      "        [ 6,  7,  8],\n",
      "        [ 9, 10, 11]]))\n"
     ]
    }
   ],
   "source": [
    "t = torch.arange(12).reshape(4, 3)\n",
    "ts = torch.split(t, [1, 3], dim=0)  # 返回的是t的view\n",
    "print('t:\\n', t)\n",
    "print('tc:\\n', ts)"
   ]
  },
  {
   "cell_type": "markdown",
   "id": "3c9e81fa-ec9d-482f-b8f7-0faa36dc4832",
   "metadata": {},
   "source": [
    "# Tensor合併"
   ]
  },
  {
   "cell_type": "markdown",
   "id": "2bf8ddd0-fc66-431a-a8a1-43fb9732955d",
   "metadata": {},
   "source": [
    "## torch.cat(): 拼接"
   ]
  },
  {
   "cell_type": "code",
   "execution_count": 33,
   "id": "20b3454e-4baf-46bf-9684-dc30bc0792d1",
   "metadata": {},
   "outputs": [
    {
     "name": "stdout",
     "output_type": "stream",
     "text": [
      "t1 ~ t3.shape:  torch.Size([1, 5, 5])\n",
      "x.shape:  torch.Size([3, 5, 5])\n",
      "x1.shape:  torch.Size([1, 15, 5])\n",
      "x2.shape:  torch.Size([1, 5, 15])\n"
     ]
    }
   ],
   "source": [
    "t1 = torch.ones((1, 5, 5))\n",
    "t2 = torch.ones((1, 5, 5))\n",
    "t3 = torch.ones((1, 5, 5))\n",
    "print('t1 ~ t3.shape: ', t1.shape)\n",
    "x = torch.cat((t1, t2, t3), dim=0)\n",
    "print('x.shape: ', x.shape)\n",
    "x1 = torch.cat((t1, t2, t3), dim=1)\n",
    "print('x1.shape: ', x1.shape)\n",
    "x2 = torch.cat((t1, t2, t3), dim=2)\n",
    "print('x2.shape: ', x2.shape)"
   ]
  },
  {
   "cell_type": "markdown",
   "id": "f4a37154-c088-4cca-a3d6-347cc9ccdf9a",
   "metadata": {},
   "source": [
    "## torch.stack(): 堆疊"
   ]
  },
  {
   "cell_type": "code",
   "execution_count": 36,
   "id": "4208caaf-16a6-4342-9605-557492c333fa",
   "metadata": {},
   "outputs": [
    {
     "name": "stdout",
     "output_type": "stream",
     "text": [
      "t1 ~ t3.shape:  torch.Size([1, 5, 5])\n",
      "x.shape:  torch.Size([3, 1, 5, 5])\n",
      "x1.shape:  torch.Size([1, 3, 5, 5])\n",
      "x2.shape:  torch.Size([1, 5, 3, 5])\n"
     ]
    }
   ],
   "source": [
    "t1 = torch.ones((1, 5, 5))\n",
    "t2 = torch.ones((1, 5, 5))\n",
    "t3 = torch.ones((1, 5, 5))\n",
    "print('t1 ~ t3.shape: ', t1.shape)\n",
    "x = torch.stack((t1, t2, t3), dim=0)  #會新增一個維度\n",
    "print('x.shape: ', x.shape)\n",
    "x1 = torch.stack((t1, t2, t3), dim=1)\n",
    "print('x1.shape: ', x1.shape)\n",
    "x2 = torch.stack((t1, t2, t3), dim=2)\n",
    "print('x2.shape: ', x2.shape)"
   ]
  },
  {
   "cell_type": "markdown",
   "id": "2920a630-53c8-459e-b7b6-76f87bb3a698",
   "metadata": {},
   "source": [
    "# 型態變換"
   ]
  },
  {
   "cell_type": "markdown",
   "id": "76e0ec22-5906-40fb-9d53-da02505a1542",
   "metadata": {},
   "source": [
    "##  Torch & Numpy & list轉換"
   ]
  },
  {
   "cell_type": "code",
   "execution_count": 15,
   "id": "16ec92ac-58b4-46d7-809a-a632dcf2fcaa",
   "metadata": {},
   "outputs": [
    {
     "name": "stdout",
     "output_type": "stream",
     "text": [
      "tensor1:\n",
      " [1, 2, 3] <class 'list'>\n",
      "torch_data:\n",
      " tensor([[0, 1, 2],\n",
      "        [3, 4, 5]], dtype=torch.int32) <class 'torch.Tensor'>\n",
      "\n",
      "tensor2array:\n",
      " [[0 1 2]\n",
      " [3 4 5]] <class 'numpy.ndarray'>\n",
      "array2list:\n",
      " [[0, 1, 2], [3, 4, 5]] <class 'list'>\n"
     ]
    }
   ],
   "source": [
    "np_data = np.arange(6).reshape((2, 3))\n",
    "tensor = torch.tensor([1, 2, 3])\n",
    "torch_data = torch.from_numpy(np_data)  # array to tensor\n",
    "tensor2array = torch_data.numpy()  # tensor to array(需要.cpu().detach()才可以轉)\n",
    "array2list =  np_data.tolist()  # array to list\n",
    "tensor1 = tensor.tolist()  # tensor to list\n",
    "print('tensor1:\\n', tensor1, type(tensor1))\n",
    "print('torch_data:\\n', torch_data, type(torch_data))\n",
    "print('\\ntensor2array:\\n', tensor2array, type(tensor2array))\n",
    "print('array2list:\\n', array2list, type(array2list))"
   ]
  },
  {
   "cell_type": "markdown",
   "id": "b8fc65f0-748a-4f11-b7f0-7597392c9b3f",
   "metadata": {},
   "source": [
    "## tensor dtype轉換"
   ]
  },
  {
   "cell_type": "code",
   "execution_count": 16,
   "id": "9eb3f8fa-247e-45c4-9f65-3c828317adf5",
   "metadata": {},
   "outputs": [
    {
     "name": "stdout",
     "output_type": "stream",
     "text": [
      "t1.dtype:  torch.int64\n",
      "t2.dtype:  torch.float32\n",
      "t3.dtype:  torch.int64\n"
     ]
    }
   ],
   "source": [
    "t1 = torch.tensor([1, 2, 3])\n",
    "print('t1.dtype: ', t1.dtype)\n",
    "t2 = t1.float()  \n",
    "print('t2.dtype: ', t2.dtype)\n",
    "t3 = t1.long()\n",
    "print('t3.dtype: ', t3.dtype)"
   ]
  },
  {
   "cell_type": "code",
   "execution_count": 17,
   "id": "690265b8-93ba-4a96-8b7e-ab8c27ce24f9",
   "metadata": {},
   "outputs": [
    {
     "name": "stdout",
     "output_type": "stream",
     "text": [
      "t1.dtype:  torch.int64\n",
      "t2.dtype:  torch.float32\n",
      "t3.dtype:  torch.int64\n"
     ]
    }
   ],
   "source": [
    "t1 = torch.tensor([1, 2, 3])\n",
    "print('t1.dtype: ', t1.dtype)\n",
    "t2 = t1.type(torch.FloatTensor)  \n",
    "print('t2.dtype: ', t2.dtype)\n",
    "t3 = t1.type(torch.LongTensor)\n",
    "print('t3.dtype: ', t3.dtype)"
   ]
  },
  {
   "cell_type": "markdown",
   "id": "1dc2bc73-9b99-48e8-8363-996447e5ca57",
   "metadata": {},
   "source": [
    "# 常用屬性"
   ]
  },
  {
   "cell_type": "markdown",
   "id": "c19f1706-876b-4075-b3dd-40e655eb7b24",
   "metadata": {},
   "source": [
    "## tensor.numel()"
   ]
  },
  {
   "cell_type": "code",
   "execution_count": 20,
   "id": "845fbeda-ec5f-4435-96da-2662cc28ca5c",
   "metadata": {},
   "outputs": [
    {
     "name": "stdout",
     "output_type": "stream",
     "text": [
      "torch.Size([2, 3])\n",
      "6\n"
     ]
    }
   ],
   "source": [
    "t1 = torch.empty([2, 3])\n",
    "t2 = t1.numel()  # 總元素個數\n",
    "print(t1.shape)\n",
    "print(t2)"
   ]
  },
  {
   "cell_type": "markdown",
   "id": "a9c63d31-9cf0-464d-8144-a13e1c126fef",
   "metadata": {},
   "source": [
    "## tensor.clone()"
   ]
  },
  {
   "cell_type": "code",
   "execution_count": 44,
   "id": "362e24c2-5bc0-41a2-8bf7-f99b7652a786",
   "metadata": {},
   "outputs": [
    {
     "name": "stdout",
     "output_type": "stream",
     "text": [
      "2220084371344\n",
      "2220464854736\n"
     ]
    }
   ],
   "source": [
    "t1 = torch.tensor([1, 2, 3])\n",
    "t2 = t1.clone()\n",
    "print(id(t1))\n",
    "print(id(t2))"
   ]
  },
  {
   "cell_type": "markdown",
   "id": "4e38e87f-c012-4e32-a8ab-87f47816e0de",
   "metadata": {},
   "source": [
    "## tensor.clamp()"
   ]
  },
  {
   "cell_type": "code",
   "execution_count": 11,
   "id": "984d0b53-a269-4164-aea1-8915c3239a07",
   "metadata": {},
   "outputs": [
    {
     "name": "stdout",
     "output_type": "stream",
     "text": [
      "x:  tensor([0.1033, 0.6847, 0.3334, 0.4812])\n",
      "y:  tensor([0.1033, 0.5000, 0.3334, 0.4812])\n"
     ]
    }
   ],
   "source": [
    "x = torch.rand(4)\n",
    "print('x: ', x)\n",
    "y = x.clamp(min=-0.5, max=0.5)\n",
    "print('y: ', y)"
   ]
  },
  {
   "cell_type": "markdown",
   "id": "5121c514-6063-430a-9bb3-aeb4d1d98076",
   "metadata": {},
   "source": [
    "## tensor.item()"
   ]
  },
  {
   "cell_type": "code",
   "execution_count": 13,
   "id": "8349b865-ffdc-452c-976b-abd6df153d32",
   "metadata": {},
   "outputs": [
    {
     "name": "stdout",
     "output_type": "stream",
     "text": [
      "x:  tensor([1])\n",
      "x.item():  1\n"
     ]
    }
   ],
   "source": [
    "x = torch.tensor([1])\n",
    "print('x: ', x)\n",
    "print('x.item(): ', x.item())  # 速度慢少用"
   ]
  },
  {
   "cell_type": "markdown",
   "id": "b0d1d0e5-330e-4935-9a21-40a2f5e7717d",
   "metadata": {},
   "source": [
    "## tensor.detach()"
   ]
  },
  {
   "cell_type": "code",
   "execution_count": 25,
   "id": "dc320360-caf1-48a1-89cf-965065ce141f",
   "metadata": {},
   "outputs": [
    {
     "name": "stdout",
     "output_type": "stream",
     "text": [
      "t1:  tensor([1., 2., 3.], requires_grad=True)\n",
      "t1.detach():  tensor([1., 2., 3.])\n"
     ]
    }
   ],
   "source": [
    "t1 = torch.tensor([1., 2, 3], requires_grad=True)\n",
    "print('t1: ', t1)\n",
    "print('t1.detach(): ', t1.detach())  # set requires_grad=False"
   ]
  },
  {
   "cell_type": "markdown",
   "id": "9ac87a36-154d-4e2e-8cef-5edb4253d80c",
   "metadata": {},
   "source": [
    "## tensor.squeeze()"
   ]
  },
  {
   "cell_type": "code",
   "execution_count": 40,
   "id": "317b235f-969e-47b6-8bd5-2f62a6b415d1",
   "metadata": {},
   "outputs": [
    {
     "name": "stdout",
     "output_type": "stream",
     "text": [
      "t.shape:  torch.Size([3, 1])\n",
      "t.squeeze(0).shape:  torch.Size([3, 1])\n",
      "t.squeeze(1).shape:  torch.Size([3])\n"
     ]
    }
   ],
   "source": [
    "t = torch.empty((3, 1))\n",
    "print('t.shape: ', t.shape)\n",
    "print('t.squeeze(0).shape: ', t.squeeze(0).shape)\n",
    "print('t.squeeze(1).shape: ', t.squeeze(1).shape)"
   ]
  },
  {
   "cell_type": "markdown",
   "id": "c1a4f489-8a83-403a-97c6-4ea4324fe268",
   "metadata": {},
   "source": [
    "## tensor.unsqueeze()"
   ]
  },
  {
   "cell_type": "code",
   "execution_count": 41,
   "id": "f1cdbd4e-cb94-4e64-99a8-0cbb07ad3a5f",
   "metadata": {},
   "outputs": [
    {
     "name": "stdout",
     "output_type": "stream",
     "text": [
      "t.shape:  torch.Size([3, 1])\n",
      "t.unsqueeze(0).shape:  torch.Size([1, 3, 1])\n",
      "t.unsqueeze(1).shape:  torch.Size([3, 1, 1])\n"
     ]
    }
   ],
   "source": [
    "t = torch.empty((3, 1))\n",
    "print('t.shape: ', t.shape)\n",
    "print('t.unsqueeze(0).shape: ', t.unsqueeze(0).shape)\n",
    "print('t.unsqueeze(1).shape: ', t.unsqueeze(1).shape)"
   ]
  },
  {
   "cell_type": "markdown",
   "id": "3e554d72-3c40-4227-8247-ad7ca30d06a3",
   "metadata": {},
   "source": [
    "## tensor.sum()"
   ]
  },
  {
   "cell_type": "code",
   "execution_count": 43,
   "id": "07a62d22-e4ce-414f-9eda-e087ba1fd62e",
   "metadata": {},
   "outputs": [
    {
     "name": "stdout",
     "output_type": "stream",
     "text": [
      "x.size():  torch.Size([3, 1, 5, 3])\n",
      "y.size():  torch.Size([1, 5, 3])\n",
      "z.size():  torch.Size([1, 1, 5, 3])\n"
     ]
    }
   ],
   "source": [
    "x = torch.rand((3, 1, 5, 3))\n",
    "y = x.sum(dim=0)\n",
    "z = x.sum(dim=0, keepdim=True)\n",
    "print('x.size(): ', x.size())\n",
    "print('y.size(): ', y.size())\n",
    "print('z.size(): ', z.size())"
   ]
  },
  {
   "cell_type": "markdown",
   "id": "20728ec1-ec66-4e98-aa3b-20eec83124c1",
   "metadata": {},
   "source": [
    "## tensor.select():"
   ]
  },
  {
   "cell_type": "code",
   "execution_count": 48,
   "id": "acdd3dd7-8ee8-4aad-af31-70959a393fdf",
   "metadata": {},
   "outputs": [
    {
     "name": "stdout",
     "output_type": "stream",
     "text": [
      "x.size():  torch.Size([3, 1, 5, 5])\n",
      "x1.size():  torch.Size([1, 5, 5])\n"
     ]
    }
   ],
   "source": [
    "x = torch.rand((3, 1, 5, 5))\n",
    "x1 = x.select(dim=0, index=0)  # 選出第一章影像\n",
    "print('x.size(): ', x.size())\n",
    "print('x1.size(): ', x1.size())  # 選出第一章影像"
   ]
  },
  {
   "cell_type": "markdown",
   "id": "d39f66ed-ce1e-4089-8281-0ca726f77a46",
   "metadata": {},
   "source": [
    "# 廣播"
   ]
  },
  {
   "cell_type": "code",
   "execution_count": 34,
   "id": "b57446b4-ef45-462b-82c4-061246f93f94",
   "metadata": {},
   "outputs": [
    {
     "name": "stdout",
     "output_type": "stream",
     "text": [
      "t:\n",
      " tensor([[2., 2., 2., 2.],\n",
      "        [2., 2., 2., 2.],\n",
      "        [2., 2., 2., 2.]])\n"
     ]
    }
   ],
   "source": [
    "t34 = torch.ones([3, 4])\n",
    "t = t34 + 1  # 相當於加上一個 3*4大小都是1的tensor\n",
    "print('t:\\n', t)"
   ]
  },
  {
   "cell_type": "code",
   "execution_count": 40,
   "id": "13334825-4a3e-4d7b-bf58-618af5bbb9d8",
   "metadata": {},
   "outputs": [
    {
     "name": "stdout",
     "output_type": "stream",
     "text": [
      "t:\n",
      " tensor([[2., 2., 2., 2.],\n",
      "        [2., 2., 2., 2.],\n",
      "        [2., 2., 2., 2.]])\n"
     ]
    }
   ],
   "source": [
    "t34 = torch.ones([3, 4])\n",
    "t14 = torch.ones([1, 4])  # 一個維度是1就可以發生廣播\n",
    "t = t34 + t14  # 相當於加上一個 3*4大小都是1的tensor\n",
    "print('t:\\n', t)"
   ]
  },
  {
   "cell_type": "code",
   "execution_count": 44,
   "id": "5c79b85f-db73-4f0c-807d-5743dcbe8ec1",
   "metadata": {},
   "outputs": [
    {
     "name": "stdout",
     "output_type": "stream",
     "text": [
      "t:\n",
      " tensor([[0, 1, 2],\n",
      "        [1, 2, 3],\n",
      "        [2, 3, 4]])\n"
     ]
    }
   ],
   "source": [
    "t31 = torch.arange(3).reshape(3, 1)\n",
    "t13 = torch.arange(3).reshape(1, 3)\n",
    "t = t31 + t13\n",
    "'''\n",
    "廣播:\n",
    "0 1 2            0 0 0 \n",
    "0 1 2     +      1 1 1\n",
    "0 1 2            2 2 2 \n",
    "'''\n",
    "print('t:\\n', t)"
   ]
  },
  {
   "cell_type": "code",
   "execution_count": null,
   "id": "e18d0b06-66fb-451e-8900-6049f5f62f51",
   "metadata": {},
   "outputs": [],
   "source": []
  }
 ],
 "metadata": {
  "kernelspec": {
   "display_name": "Python 3 (ipykernel)",
   "language": "python",
   "name": "python3"
  },
  "language_info": {
   "codemirror_mode": {
    "name": "ipython",
    "version": 3
   },
   "file_extension": ".py",
   "mimetype": "text/x-python",
   "name": "python",
   "nbconvert_exporter": "python",
   "pygments_lexer": "ipython3",
   "version": "3.9.13"
  }
 },
 "nbformat": 4,
 "nbformat_minor": 5
}
