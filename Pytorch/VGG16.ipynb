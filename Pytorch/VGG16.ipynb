{
 "cells": [
  {
   "cell_type": "code",
   "execution_count": 4,
   "id": "675a32af-7f90-4df9-8424-93b87d2fec90",
   "metadata": {},
   "outputs": [],
   "source": [
    "import torch\n",
    "import torch.nn as nn\n",
    "from torchinfo import summary\n",
    "import torch.nn.functional as F"
   ]
  },
  {
   "cell_type": "code",
   "execution_count": 41,
   "id": "9200882e-3379-4a44-8114-c796180c6e1a",
   "metadata": {},
   "outputs": [],
   "source": [
    "class VGG16(nn.Module):\n",
    "    def __init__(self):\n",
    "        super().__init__()\n",
    "        # 1\n",
    "        self.conv1 = nn.Conv2d(3, 64, 3, padding=1)\n",
    "        self.conv2 = nn.Conv2d(64, 64, 3, padding=1)\n",
    "        self.pool1 = nn.MaxPool2d(2)  # 112 * 112\n",
    "        # 2\n",
    "        self.conv3 = nn.Conv2d(64, 128, 3, padding=1)\n",
    "        self.conv4 = nn.Conv2d(128, 128, 3, padding=1)\n",
    "        self.pool2 = nn.MaxPool2d(2)  # 56 * 56\n",
    "        # 3\n",
    "        self.conv5 = nn.Conv2d(128, 256, 3, padding=1)\n",
    "        self.conv6 = nn.Conv2d(256, 256, 3, padding=1)\n",
    "        self.conv7 = nn.Conv2d(256, 256, 3, padding=1)\n",
    "        self.pool3 = nn.MaxPool2d(2)  # 28 * 28\n",
    "        # 4\n",
    "        self.conv8 = nn.Conv2d(256, 512, 3, padding=1)\n",
    "        self.conv9 = nn.Conv2d(512, 512, 3, padding=1)\n",
    "        self.conv10 = nn.Conv2d(512, 512, 3, padding=1)\n",
    "        self.pool4 = nn.MaxPool2d(2)  # 14 * 14\n",
    "        # 5\n",
    "        self.conv11 = nn.Conv2d(512, 512, 3, padding=1)\n",
    "        self.conv12 = nn.Conv2d(512, 512, 3, padding=1)\n",
    "        self.conv13 = nn.Conv2d(512, 512, 3, padding=1)\n",
    "        self.pool5 = nn.MaxPool2d(2)  # 7 * 7\n",
    "        # 6\n",
    "        self.fc1 = nn.Linear(7*7*512, 4096)\n",
    "        self.fc2 = nn.Linear(4096, 4096)\n",
    "        self.fc3 = nn.Linear(4096, 1000)\n",
    "    \n",
    "    def forward(self, x):\n",
    "        # 1\n",
    "        x = F.relu(self.conv1(x))\n",
    "        x = F.relu(self.conv2(x))\n",
    "        x = self.pool1(x)\n",
    "        # 2\n",
    "        x = F.relu(self.conv3(x))\n",
    "        x = F.relu(self.conv4(x))\n",
    "        x = self.pool2(x)\n",
    "        # 3\n",
    "        x = F.relu(self.conv5(x))\n",
    "        x = F.relu(self.conv6(x))\n",
    "        x = F.relu(self.conv7(x))\n",
    "        x = self.pool3(x)\n",
    "        # 4\n",
    "        x = F.relu(self.conv8(x))\n",
    "        x = F.relu(self.conv9(x))\n",
    "        x = F.relu(self.conv10(x))\n",
    "        x = self.pool4(x)\n",
    "        # 5\n",
    "        x = F.relu(self.conv11(x))\n",
    "        x = F.relu(self.conv12(x))\n",
    "        x = F.relu(self.conv13(x))\n",
    "        x = self.pool5(x)\n",
    "        # 6\n",
    "        x = F.dropout(x.view(-1, 7*7*512), p=0.5)\n",
    "        x = F.relu(self.fc1(x))\n",
    "        x = F.dropout(x, p=0.5)\n",
    "        x = F.relu(self.fc2(x))\n",
    "        x = F.softmax(self.fc3(x), 1)\n",
    "        return x"
   ]
  },
  {
   "cell_type": "code",
   "execution_count": 42,
   "id": "e4c32fe2-2b0c-4aca-accf-dd96e51c3254",
   "metadata": {},
   "outputs": [],
   "source": [
    "data = torch.ones([10, 3, 224, 224])"
   ]
  },
  {
   "cell_type": "code",
   "execution_count": 43,
   "id": "dcbae427-d0b8-43e2-893b-0ff85f1c0885",
   "metadata": {},
   "outputs": [],
   "source": [
    "net = VGG16()"
   ]
  },
  {
   "cell_type": "code",
   "execution_count": 44,
   "id": "2ad94665-69b1-427f-bdf8-19901698ef80",
   "metadata": {},
   "outputs": [],
   "source": [
    "output = net(data)"
   ]
  },
  {
   "cell_type": "code",
   "execution_count": 45,
   "id": "9567259d-8012-4d95-bdb2-a958775f759b",
   "metadata": {},
   "outputs": [
    {
     "data": {
      "text/plain": [
       "torch.Size([10, 1000])"
      ]
     },
     "execution_count": 45,
     "metadata": {},
     "output_type": "execute_result"
    }
   ],
   "source": [
    "output.shape"
   ]
  },
  {
   "cell_type": "code",
   "execution_count": 46,
   "id": "6e634e3a-6a9f-4541-b466-03c9b0ee6046",
   "metadata": {},
   "outputs": [
    {
     "data": {
      "text/plain": [
       "==========================================================================================\n",
       "Layer (type:depth-idx)                   Output Shape              Param #\n",
       "==========================================================================================\n",
       "VGG16                                    [10, 1000]                --\n",
       "├─Conv2d: 1-1                            [10, 64, 224, 224]        1,792\n",
       "├─Conv2d: 1-2                            [10, 64, 224, 224]        36,928\n",
       "├─MaxPool2d: 1-3                         [10, 64, 112, 112]        --\n",
       "├─Conv2d: 1-4                            [10, 128, 112, 112]       73,856\n",
       "├─Conv2d: 1-5                            [10, 128, 112, 112]       147,584\n",
       "├─MaxPool2d: 1-6                         [10, 128, 56, 56]         --\n",
       "├─Conv2d: 1-7                            [10, 256, 56, 56]         295,168\n",
       "├─Conv2d: 1-8                            [10, 256, 56, 56]         590,080\n",
       "├─Conv2d: 1-9                            [10, 256, 56, 56]         590,080\n",
       "├─MaxPool2d: 1-10                        [10, 256, 28, 28]         --\n",
       "├─Conv2d: 1-11                           [10, 512, 28, 28]         1,180,160\n",
       "├─Conv2d: 1-12                           [10, 512, 28, 28]         2,359,808\n",
       "├─Conv2d: 1-13                           [10, 512, 28, 28]         2,359,808\n",
       "├─MaxPool2d: 1-14                        [10, 512, 14, 14]         --\n",
       "├─Conv2d: 1-15                           [10, 512, 14, 14]         2,359,808\n",
       "├─Conv2d: 1-16                           [10, 512, 14, 14]         2,359,808\n",
       "├─Conv2d: 1-17                           [10, 512, 14, 14]         2,359,808\n",
       "├─MaxPool2d: 1-18                        [10, 512, 7, 7]           --\n",
       "├─Linear: 1-19                           [10, 4096]                102,764,544\n",
       "├─Linear: 1-20                           [10, 4096]                16,781,312\n",
       "├─Linear: 1-21                           [10, 1000]                4,097,000\n",
       "==========================================================================================\n",
       "Total params: 138,357,544\n",
       "Trainable params: 138,357,544\n",
       "Non-trainable params: 0\n",
       "Total mult-adds (G): 154.84\n",
       "==========================================================================================\n",
       "Input size (MB): 6.02\n",
       "Forward/backward pass size (MB): 1084.54\n",
       "Params size (MB): 553.43\n",
       "Estimated Total Size (MB): 1643.99\n",
       "=========================================================================================="
      ]
     },
     "execution_count": 46,
     "metadata": {},
     "output_type": "execute_result"
    }
   ],
   "source": [
    "summary(net, input_size=[10, 3, 224, 224])"
   ]
  },
  {
   "cell_type": "code",
   "execution_count": null,
   "id": "d5a87716-736a-47a8-a2ff-c1382eb993f6",
   "metadata": {},
   "outputs": [],
   "source": []
  }
 ],
 "metadata": {
  "kernelspec": {
   "display_name": "Python 3 (ipykernel)",
   "language": "python",
   "name": "python3"
  },
  "language_info": {
   "codemirror_mode": {
    "name": "ipython",
    "version": 3
   },
   "file_extension": ".py",
   "mimetype": "text/x-python",
   "name": "python",
   "nbconvert_exporter": "python",
   "pygments_lexer": "ipython3",
   "version": "3.9.13"
  }
 },
 "nbformat": 4,
 "nbformat_minor": 5
}
