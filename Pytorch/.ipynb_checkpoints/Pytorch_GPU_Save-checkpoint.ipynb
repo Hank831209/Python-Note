{
 "cells": [
  {
   "cell_type": "code",
   "execution_count": 2,
   "id": "cc1af6fc-e0e9-4a8a-b142-b7d7dd71dc1d",
   "metadata": {},
   "outputs": [],
   "source": [
    "import torch"
   ]
  },
  {
   "cell_type": "markdown",
   "id": "976bbf1b-63e4-45ba-8b8f-f7b7a4113b9d",
   "metadata": {},
   "source": [
    "# 模型保存"
   ]
  },
  {
   "cell_type": "markdown",
   "id": "33449a64-3fce-4fc6-843f-b88b3ca21e56",
   "metadata": {},
   "source": [
    "# GPU訓練\n",
    "## 數據, 網路模型, 損失函數可用GPU加速\n",
    "### 可用 .cuda() or to(gpu)的方式調用GPU\n",
    "### 也可設置自動決定device\n",
    "### device = torch.device('cuda' if torch.cuda.is_available() else 'cpu')"
   ]
  },
  {
   "cell_type": "code",
   "execution_count": 3,
   "id": "d49ac692-67aa-4ab7-afdc-78ee5becc269",
   "metadata": {},
   "outputs": [
    {
     "data": {
      "text/plain": [
       "True"
      ]
     },
     "execution_count": 3,
     "metadata": {},
     "output_type": "execute_result"
    }
   ],
   "source": [
    "torch.cuda.is_available()"
   ]
  },
  {
   "cell_type": "code",
   "execution_count": 8,
   "id": "b8b8f21b-4c64-4004-89a7-183f03265267",
   "metadata": {},
   "outputs": [
    {
     "name": "stdout",
     "output_type": "stream",
     "text": [
      "原始tensor:  cpu\n",
      "調用GPU:  cuda:0\n",
      "調用cpu:  cpu\n"
     ]
    }
   ],
   "source": [
    "tensor = torch.tensor([1, 2, 3])\n",
    "print('原始tensor: ', tensor.device)\n",
    "tensor = tensor.cuda()\n",
    "print('調用GPU: ', tensor.device)\n",
    "tensor = tensor.cpu()\n",
    "print('調用cpu: ', tensor.device)"
   ]
  },
  {
   "cell_type": "code",
   "execution_count": 9,
   "id": "53585460-c108-45fe-bd09-a037963c7a5b",
   "metadata": {},
   "outputs": [
    {
     "name": "stdout",
     "output_type": "stream",
     "text": [
      "原始tensor:  cpu\n",
      "調用GPU:  cuda:0\n",
      "調用cpu:  cpu\n"
     ]
    }
   ],
   "source": [
    "device = torch.device('cuda' if torch.cuda.is_available() else 'cpu')  # 根據情況決定device\n",
    "gpu = torch.device('cuda')\n",
    "cpu = torch.device('cpu')\n",
    "tensor = torch.tensor([1, 2, 3])\n",
    "print('原始tensor: ', tensor.device)\n",
    "tensor = tensor.to(gpu)\n",
    "print('調用GPU: ', tensor.device)\n",
    "tensor = tensor.to(cpu)\n",
    "print('調用cpu: ', tensor.device)"
   ]
  },
  {
   "cell_type": "code",
   "execution_count": null,
   "id": "6da1aca9-010b-484a-9e69-cdf96c276e68",
   "metadata": {},
   "outputs": [],
   "source": []
  }
 ],
 "metadata": {
  "kernelspec": {
   "display_name": "Python 3 (ipykernel)",
   "language": "python",
   "name": "python3"
  },
  "language_info": {
   "codemirror_mode": {
    "name": "ipython",
    "version": 3
   },
   "file_extension": ".py",
   "mimetype": "text/x-python",
   "name": "python",
   "nbconvert_exporter": "python",
   "pygments_lexer": "ipython3",
   "version": "3.9.13"
  }
 },
 "nbformat": 4,
 "nbformat_minor": 5
}
