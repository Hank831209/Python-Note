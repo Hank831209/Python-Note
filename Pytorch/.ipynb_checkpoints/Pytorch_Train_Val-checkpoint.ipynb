{
 "cells": [
  {
   "cell_type": "code",
   "execution_count": 37,
   "id": "3d1a1efa-168a-47eb-9fab-0f1611fdae9b",
   "metadata": {},
   "outputs": [],
   "source": [
    "import torch\n",
    "import torchvision\n",
    "# 准备数据集\n",
    "from torch import nn\n",
    "from torch.utils.data import DataLoader"
   ]
  },
  {
   "cell_type": "markdown",
   "id": "64da79fc-d3fa-4fdf-8e98-a6caf6360686",
   "metadata": {},
   "source": [
    "# 訓練與驗證\n",
    "## 訓練模式: net.train()\n",
    "## 驗證模式: net.eval()\n",
    "## with torch.no_grad():  不計算grad，驗證時使用可減少運算量"
   ]
  },
  {
   "cell_type": "code",
   "execution_count": 48,
   "id": "5ad5bb8e-b6fc-45c6-9116-47ddc0c411fd",
   "metadata": {},
   "outputs": [],
   "source": [
    "class Hank(nn.Module):\n",
    "    def __init__(self):\n",
    "        super(Hank, self).__init__()\n",
    "        self.model = nn.Sequential(\n",
    "            nn.Conv2d(3, 32, 5, 1, 2),\n",
    "            nn.MaxPool2d(2),\n",
    "            nn.Conv2d(32, 32, 5, 1, 2),\n",
    "            nn.MaxPool2d(2),\n",
    "            nn.Conv2d(32, 64, 5, 1, 2),\n",
    "            nn.MaxPool2d(2),\n",
    "            nn.Flatten(),\n",
    "            nn.Linear(64*4*4, 64),\n",
    "            nn.Linear(64, 10)\n",
    "        )\n",
    "\n",
    "    def forward(self, x):\n",
    "        x = self.model(x)\n",
    "        return x"
   ]
  },
  {
   "cell_type": "code",
   "execution_count": 50,
   "id": "1d3782bf-3f81-4f77-ad34-3f7565e47066",
   "metadata": {},
   "outputs": [
    {
     "name": "stdout",
     "output_type": "stream",
     "text": [
      "Files already downloaded and verified\n",
      "Files already downloaded and verified\n",
      "訓練數據集長度：50000\n",
      "測試數據集長度：10000\n",
      "-----------------epoch: 0 ------------------\n",
      "訓練次數：100, Loss: 2.2915878295898438\n",
      "訓練次數：200, Loss: 2.286602735519409\n",
      "訓練次數：300, Loss: 2.22782039642334\n",
      "訓練次數：400, Loss: 2.2557709217071533\n",
      "訓練次數：500, Loss: 2.151522636413574\n",
      "整體測試集上的Loss: 209.3268300294876\n",
      "整體驗證集上的準確率: 0.2232999950647354\n",
      "模型已保存\n"
     ]
    }
   ],
   "source": [
    "train_data = torchvision.datasets.CIFAR10(root=\"Data/dataset\", train=True, transform=torchvision.transforms.ToTensor(),\n",
    "                                          download=True)\n",
    "test_data = torchvision.datasets.CIFAR10(root=\"Data/dataset\", train=False, transform=torchvision.transforms.ToTensor(),\n",
    "                                         download=True)\n",
    "\n",
    "# 顯示數據量\n",
    "train_data_size, test_data_size = len(train_data), len(test_data)\n",
    "print(f\"訓練數據集長度：{train_data_size}\")\n",
    "print(f\"測試數據集長度：{test_data_size}\")\n",
    "\n",
    "\n",
    "# 利用 DataLoader 来加載數據集\n",
    "train_dataloader = DataLoader(train_data, batch_size=100)\n",
    "test_dataloader = DataLoader(test_data, batch_size=100)\n",
    "\n",
    "# 模型\n",
    "hank = Hank()\n",
    "\n",
    "# Loss function\n",
    "loss_fn = nn.CrossEntropyLoss()\n",
    "\n",
    "# 優化器\n",
    "learning_rate = 0.01\n",
    "optimizer = torch.optim.SGD(hank.parameters(), lr=learning_rate)\n",
    "\n",
    "# 紀錄用參數\n",
    "epoch = 1\n",
    "total_train_step = 0\n",
    "total_test_step = 0\n",
    "\n",
    "for i in range(epoch):\n",
    "    print(f\"-----------------epoch: {i} ------------------\")\n",
    "    # 訓練模式\n",
    "    hank.train()  \n",
    "    for (imgs, targets) in train_dataloader:\n",
    "        outputs = hank(imgs)\n",
    "        loss = loss_fn(outputs, targets)\n",
    "        optimizer.zero_grad()\n",
    "        loss.backward()\n",
    "        optimizer.step()\n",
    "\n",
    "        total_train_step = total_train_step + 1\n",
    "        if total_train_step % 100 == 0:\n",
    "            # .item()可以只取tensor的數值部分, 即tensor(5) ---> 5\n",
    "            print(f\"訓練次數：{total_train_step}, Loss: {loss.item()}\")\n",
    "\n",
    "    # 驗證模式\n",
    "    hank.eval()  \n",
    "    total_test_loss = 0\n",
    "    total_accuracy = 0\n",
    "    with torch.no_grad():  # 不會對梯度進行計算, for驗證用的\n",
    "        for (imgs, targets) in test_dataloader:\n",
    "            outputs = hank(imgs)\n",
    "            loss = loss_fn(outputs, targets)\n",
    "            total_test_loss = total_test_loss + loss.item()\n",
    "            accuracy = (outputs.argmax(1) == targets).sum()\n",
    "            total_accuracy = total_accuracy + accuracy\n",
    "\n",
    "    print(f\"整體測試集上的Loss: {total_test_loss}\")\n",
    "    total_test_step = total_test_step + 1\n",
    "\n",
    "    torch.save(hank.state_dict(), 'net_params.pt')  \n",
    "    print(\"模型已保存\")\n",
    "\n"
   ]
  },
  {
   "cell_type": "code",
   "execution_count": null,
   "id": "d3b36051-870f-466c-b162-c471365cd6cc",
   "metadata": {},
   "outputs": [],
   "source": []
  }
 ],
 "metadata": {
  "kernelspec": {
   "display_name": "Python 3 (ipykernel)",
   "language": "python",
   "name": "python3"
  },
  "language_info": {
   "codemirror_mode": {
    "name": "ipython",
    "version": 3
   },
   "file_extension": ".py",
   "mimetype": "text/x-python",
   "name": "python",
   "nbconvert_exporter": "python",
   "pygments_lexer": "ipython3",
   "version": "3.9.12"
  }
 },
 "nbformat": 4,
 "nbformat_minor": 5
}
