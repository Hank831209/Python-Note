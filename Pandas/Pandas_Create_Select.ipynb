{
 "cells": [
  {
   "cell_type": "markdown",
   "id": "2fcffbd9-e449-4de0-be12-6667d8d5ce58",
   "metadata": {},
   "source": [
    "# 創建 Series, DataFrame\n",
    "### 可以列表或字典形式創建 Series, DataFrame\n",
    "### 常用屬性: df.index, df.columns"
   ]
  },
  {
   "cell_type": "code",
   "execution_count": 52,
   "id": "d9ef5515-5b71-431e-a44a-445bd283b7b3",
   "metadata": {},
   "outputs": [
    {
     "name": "stdout",
     "output_type": "stream",
     "text": [
      "series:\n",
      " a    11\n",
      "b    22\n",
      "c    33\n",
      "dtype: int64\n",
      "series s1:\n",
      " a    11\n",
      "b    22\n",
      "c    33\n",
      "dtype: int64\n",
      "------------------------------------------------------------------------------------------\n",
      "d1:\n",
      "    A  B\n",
      "a  1  2\n",
      "b  3  4\n",
      "d2:\n",
      "      A    B\n",
      "a  1.0  1.0\n",
      "b  1.0  1.0\n",
      "d3:\n",
      "    col1  col2\n",
      "0     1     2\n",
      "1     3     4\n",
      "d4:\n",
      "    col1  col2\n",
      "0     1     2\n",
      "1     3     4\n"
     ]
    }
   ],
   "source": [
    "import pandas as pd\n",
    "import numpy as np\n",
    "s = pd.Series([11,22,33], index=[\"a\", \"b\", \"c\"])\n",
    "s1 = pd.Series({\"a\": 11, \"b\": 22, \"c\": 33})\n",
    "print(\"series:\\n\", s)\n",
    "print(\"series s1:\\n\", s1)\n",
    "print('---'*30)\n",
    "d1 = pd.DataFrame([[1,2], [3,4]], index=['a', 'b'], columns=['A', 'B'])\n",
    "d2 = pd.DataFrame(np.ones((2, 2)), index=['a', 'b'], columns=['A', 'B'])\n",
    "d3 = pd.DataFrame({\"col1\": [1,3], \"col2\": [2, 4]})\n",
    "d4 = pd.DataFrame({\"col1\": pd.Series([1, 3]), \"col2\": pd.Series([2, 4])})\n",
    "print('d1:\\n', d1)\n",
    "print('d2:\\n', d2)\n",
    "print('d3:\\n', d3)\n",
    "print('d4:\\n', d4)"
   ]
  },
  {
   "cell_type": "markdown",
   "id": "9c1bf6f9-1a39-40b7-ae52-b4bd7a48e551",
   "metadata": {},
   "source": [
    "## df.index:\n",
    "## df.columns:\n",
    "### df.columns.get_indexer([\"A\", \"B\"])  獲取column的index"
   ]
  },
  {
   "cell_type": "code",
   "execution_count": 53,
   "id": "173b5d87-df93-404c-8540-a13ad2195411",
   "metadata": {},
   "outputs": [
    {
     "name": "stdout",
     "output_type": "stream",
     "text": [
      "df:\n",
      "     A   B   C   D\n",
      "a -12 -11 -10  -9\n",
      "b  -8  -7  -6  -5\n",
      "c  -4  -3  -2  -1\n",
      "d   0   1   2   3\n",
      "e   4   5   6   7\n",
      "f   8   9  10  11\n",
      "d2.index:\n",
      " Index(['a', 'b', 'c', 'd', 'e', 'f'], dtype='object')\n",
      "d2.columns:\n",
      " Index(['A', 'B', 'C', 'D'], dtype='object')\n",
      "df1:\n",
      " Index(['A', 'D'], dtype='object')\n",
      "df2:\n",
      " [0 1]\n"
     ]
    }
   ],
   "source": [
    "data = np.arange(-12, 12).reshape((6, 4))\n",
    "df = pd.DataFrame(data, index=list(\"abcdef\"), columns=list(\"ABCD\"))\n",
    "df1 = df.columns[[0, 3]]  # 獲取第幾個column\n",
    "df2 = df.columns.get_indexer([\"A\", \"B\"])  # 獲取column的index\n",
    "print('df:\\n', df)\n",
    "print('d2.index:\\n', df.index)\n",
    "print('d2.columns:\\n', df.columns)\n",
    "print('df1:\\n', df1)\n",
    "print('df2:\\n', df2)"
   ]
  },
  {
   "cell_type": "markdown",
   "id": "e5cae0f7-6423-480f-adf4-f124ae3481dc",
   "metadata": {},
   "source": [
    "# 數據選取\n",
    "### df.loc: 文字切片\n",
    "### df.iloc: 數字切片"
   ]
  },
  {
   "cell_type": "code",
   "execution_count": 54,
   "id": "156404e0-2cb1-41e4-9e1c-4983a6e164f5",
   "metadata": {},
   "outputs": [],
   "source": [
    "import pandas as pd\n",
    "import numpy as np\n",
    "\n",
    "data = np.arange(-12, 12).reshape((6, 4))\n",
    "df = pd.DataFrame(data, index=list(\"abcdef\"), columns=list(\"ABCD\"))"
   ]
  },
  {
   "cell_type": "markdown",
   "id": "a18ca678-69f6-4e2b-89a5-3799de0cdaa2",
   "metadata": {},
   "source": [
    "## df.loc[]:"
   ]
  },
  {
   "cell_type": "code",
   "execution_count": 55,
   "id": "0a2a584e-c42f-4dee-900f-12361700eac0",
   "metadata": {},
   "outputs": [
    {
     "name": "stdout",
     "output_type": "stream",
     "text": [
      "df:\n",
      "     A   B   C   D\n",
      "a -12 -11 -10  -9\n",
      "b  -8  -7  -6  -5\n",
      "c  -4  -3  -2  -1\n",
      "d   0   1   2   3\n",
      "e   4   5   6   7\n",
      "f   8   9  10  11\n",
      "df1:\n",
      " a   -11\n",
      "b    -7\n",
      "c    -3\n",
      "d     1\n",
      "e     5\n",
      "f     9\n",
      "Name: B, dtype: int32\n",
      "df2:\n",
      "     C   B\n",
      "a -10 -11\n",
      "b  -6  -7\n",
      "c  -2  -3\n",
      "d   2   1\n",
      "e   6   5\n",
      "f  10   9\n",
      "df3:\n",
      "    B  C  D\n",
      "c -3 -2 -1\n",
      "d  1  2  3\n",
      "df4:\n",
      "    A  B  C  D\n",
      "d  0  1  2  3\n",
      "b -8 -7 -6 -5\n"
     ]
    }
   ],
   "source": [
    "df1 = df[\"B\"]\n",
    "df2 = df[[\"C\", \"B\"]]\n",
    "df3 = df.loc[\"c\":\"d\", \"B\":\"D\"]  # 包頭包尾\n",
    "df4 = df.loc[[\"d\", \"b\"], :]\n",
    "print('df:\\n', df)\n",
    "print('df1:\\n', df1)\n",
    "print('df2:\\n', df2)\n",
    "print('df3:\\n', df3)\n",
    "print('df4:\\n', df4)"
   ]
  },
  {
   "cell_type": "markdown",
   "id": "c9ffa9ed-6b4b-4624-8dc0-6373e32b831a",
   "metadata": {},
   "source": [
    "## df.iloc[]:"
   ]
  },
  {
   "cell_type": "code",
   "execution_count": 56,
   "id": "6c07bc28-8328-47e5-80d1-3d90176e834b",
   "metadata": {},
   "outputs": [
    {
     "name": "stdout",
     "output_type": "stream",
     "text": [
      "df:\n",
      "     A   B   C   D\n",
      "a -12 -11 -10  -9\n",
      "b  -8  -7  -6  -5\n",
      "c  -4  -3  -2  -1\n",
      "d   0   1   2   3\n",
      "e   4   5   6   7\n",
      "f   8   9  10  11\n",
      "df1:\n",
      "    B  C\n",
      "c -3 -2\n"
     ]
    }
   ],
   "source": [
    "df1 = df.iloc[2:3, 1:3]\n",
    "print('df:\\n', df)\n",
    "print(\"df1:\\n\", df.iloc[2:3, 1:3])"
   ]
  },
  {
   "cell_type": "markdown",
   "id": "afecef0c-b625-4a9e-8aa3-fdd118f3c57c",
   "metadata": {},
   "source": [
    "## 條件篩選:"
   ]
  },
  {
   "cell_type": "code",
   "execution_count": 57,
   "id": "9e656411-816c-4113-bf52-f1bbcba709ef",
   "metadata": {},
   "outputs": [
    {
     "name": "stdout",
     "output_type": "stream",
     "text": [
      "df:\n",
      "     A   B   C   D\n",
      "a -12 -11 -10  -9\n",
      "b  -8  -7  -6  -5\n",
      "c  -4  -3  -2  -1\n",
      "d   0   1   2   3\n",
      "e   4   5   6   7\n",
      "f   8   9  10  11\n",
      "df1:\n",
      "     A   B   C  D\n",
      "a -12 -11 -10 -9\n",
      "b  -8  -7  -6 -5\n",
      "c  -4  -3  -2 -1\n",
      "df2:\n",
      "     C   D\n",
      "a -10  -9\n",
      "b  -6  -5\n",
      "c  -2  -1\n",
      "d   2   3\n",
      "e   6   7\n",
      "f  10  11\n",
      "df3:\n",
      "     A   C   D\n",
      "a -12 -10  -9\n",
      "b  -8  -6  -5\n",
      "c  -4  -2  -1\n",
      "d   0   2   3\n",
      "e   4   6   7\n",
      "f   8  10  11\n"
     ]
    }
   ],
   "source": [
    "import pandas as pd\n",
    "import numpy as np\n",
    "\n",
    "data = np.arange(-12, 12).reshape((6, 4))\n",
    "df = pd.DataFrame(data, index=list(\"abcdef\"), columns=list(\"ABCD\"))\n",
    "df1 = df[df[\"A\"] < 0]  # 利用True False矩陣來選值\n",
    "df2 = df.loc[:, ~(df.iloc[0] < -10)]  # 第0列不小於-10的\n",
    "df3 = df.loc[:, ~(df.iloc[0] < -10) | (df.iloc[0] < -11)]  # 第0列 > -10 or 第0列 < -11\n",
    "print('df:\\n', df)\n",
    "print('df1:\\n', df1)\n",
    "print('df2:\\n', df2)\n",
    "print('df3:\\n', df3)"
   ]
  },
  {
   "cell_type": "markdown",
   "id": "1a363e58-f666-45fa-a035-6926be3c60c7",
   "metadata": {},
   "source": [
    "# 類型轉換\n",
    "### 可自由轉換 numpy, list和series之間的關係\n",
    "### Series也可以轉換DataFrame藉此方便拼接"
   ]
  },
  {
   "cell_type": "code",
   "execution_count": 58,
   "id": "895e1adb-8dfa-4924-84bf-b20876ffc873",
   "metadata": {},
   "outputs": [
    {
     "name": "stdout",
     "output_type": "stream",
     "text": [
      "array:\n",
      " [11 22 33] <class 'numpy.ndarray'>\n",
      "list:\n",
      " [11, 22, 33] <class 'list'>\n",
      "    0\n",
      "a  11\n",
      "b  22\n",
      "c  33 \n",
      " <class 'pandas.core.frame.DataFrame'>\n",
      "    a   b   c\n",
      "0  11  22  33 \n",
      " <class 'pandas.core.frame.DataFrame'>\n"
     ]
    }
   ],
   "source": [
    "import pandas as ps \n",
    "l = [11,22,33]\n",
    "s = pd.Series(l, index=[\"a\", \"b\", \"c\"])\n",
    "s_np = s.to_numpy()\n",
    "s_list = s.values.tolist()\n",
    "print(\"array:\\n\", s_np, type(s_np))\n",
    "print(\"list:\\n\", s_list, type(s_list))\n",
    "f = s.to_frame()  # Series to DataFrame\n",
    "f_T = s.to_frame().T\n",
    "print(f, '\\n', type(f))\n",
    "print(f_T, '\\n', type(f_T))"
   ]
  },
  {
   "cell_type": "code",
   "execution_count": null,
   "id": "cecca5f0-08e4-40e3-aacd-2c60e9604d3d",
   "metadata": {},
   "outputs": [],
   "source": []
  }
 ],
 "metadata": {
  "kernelspec": {
   "display_name": "Python 3 (ipykernel)",
   "language": "python",
   "name": "python3"
  },
  "language_info": {
   "codemirror_mode": {
    "name": "ipython",
    "version": 3
   },
   "file_extension": ".py",
   "mimetype": "text/x-python",
   "name": "python",
   "nbconvert_exporter": "python",
   "pygments_lexer": "ipython3",
   "version": "3.9.12"
  }
 },
 "nbformat": 4,
 "nbformat_minor": 5
}
