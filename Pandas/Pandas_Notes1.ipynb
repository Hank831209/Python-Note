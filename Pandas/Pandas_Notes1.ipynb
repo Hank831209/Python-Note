{
 "cells": [
  {
   "cell_type": "code",
   "execution_count": 1,
   "id": "ad90f5d1-2b86-4eb2-89a1-177dbd170faf",
   "metadata": {},
   "outputs": [],
   "source": [
    "import pandas as pd"
   ]
  },
  {
   "cell_type": "markdown",
   "id": "2fcffbd9-e449-4de0-be12-6667d8d5ce58",
   "metadata": {},
   "source": [
    "# 創建 Series, DataFrame\n",
    "## 可以列表或字典形式創建 Series, DataFrame"
   ]
  },
  {
   "cell_type": "code",
   "execution_count": 15,
   "id": "d9ef5515-5b71-431e-a44a-445bd283b7b3",
   "metadata": {},
   "outputs": [
    {
     "name": "stdout",
     "output_type": "stream",
     "text": [
      "series:\n",
      " a    11\n",
      "b    22\n",
      "c    33\n",
      "dtype: int64\n",
      "series s1:\n",
      " a    11\n",
      "b    22\n",
      "c    33\n",
      "dtype: int64\n",
      "------------------------------------------------------------------------------------------\n",
      "d1:\n",
      "    0  1\n",
      "a  1  2\n",
      "b  3  4\n",
      "d2:\n",
      "    col1  col2\n",
      "0     1     2\n",
      "1     3     4\n"
     ]
    }
   ],
   "source": [
    "l = [11,22,33]\n",
    "s = pd.Series(l, index=[\"a\", \"b\", \"c\"])\n",
    "s1 = pd.Series({\"a\": 11, \"b\": 22, \"c\": 33})\n",
    "print(\"series:\\n\", s)\n",
    "print(\"series s1:\\n\", s1)\n",
    "print('---'*30)\n",
    "d1 = pd.DataFrame([\n",
    "  [1,2],\n",
    "  [3,4]\n",
    "], index=['a', 'b'])\n",
    "d2 = pd.DataFrame({\"col1\": [1,3], \"col2\": [2, 4]})\n",
    "print('d1:\\n', d1)\n",
    "print('d2:\\n', d2)"
   ]
  },
  {
   "cell_type": "markdown",
   "id": "1a363e58-f666-45fa-a035-6926be3c60c7",
   "metadata": {},
   "source": [
    "# 可自由轉換 numpy, list和series之間的關係\n",
    "## Series也可以轉換DataFrame藉此方便拼接"
   ]
  },
  {
   "cell_type": "code",
   "execution_count": 20,
   "id": "895e1adb-8dfa-4924-84bf-b20876ffc873",
   "metadata": {},
   "outputs": [
    {
     "name": "stdout",
     "output_type": "stream",
     "text": [
      "array:\n",
      " [11 22 33] <class 'numpy.ndarray'>\n",
      "list:\n",
      " [11, 22, 33] <class 'list'>\n",
      "    0\n",
      "a  11\n",
      "b  22\n",
      "c  33 \n",
      " <class 'pandas.core.frame.DataFrame'>\n",
      "    a   b   c\n",
      "0  11  22  33 \n",
      " <class 'pandas.core.frame.DataFrame'>\n"
     ]
    }
   ],
   "source": [
    "import pandas as ps \n",
    "l = [11,22,33]\n",
    "s = pd.Series(l, index=[\"a\", \"b\", \"c\"])\n",
    "s_np = s.to_numpy()\n",
    "s_list = s.values.tolist()\n",
    "print(\"array:\\n\", s_np, type(s_np))\n",
    "print(\"list:\\n\", s_list, type(s_list))\n",
    "f = s.to_frame()  # Series to DataFrame\n",
    "f_T = s.to_frame().T\n",
    "print(f, '\\n', type(f))\n",
    "print(f_T, '\\n', type(f_T))"
   ]
  },
  {
   "cell_type": "markdown",
   "id": "94aec4b0-a107-49f4-9c7a-8a1492ca2bdb",
   "metadata": {},
   "source": [
    "# 數據拼接\n",
    "## concat: 可\"上下\", \"左右\"拼接\n",
    "## merge: 僅能\"左右\"拼接"
   ]
  },
  {
   "cell_type": "code",
   "execution_count": 5,
   "id": "8e0b6b5d-cd48-48f8-a00d-3a15b4c64f4f",
   "metadata": {},
   "outputs": [
    {
     "name": "stdout",
     "output_type": "stream",
     "text": [
      "concat1:\n",
      "     A   B   C   D\n",
      "0  A0  B0  C0  D0\n",
      "1  A1  B1  C1  D1\n",
      "2  A2  B2  C2  D2\n",
      "3  A3  B3  C3  D3\n",
      "2  A4  B4  C4  D4\n",
      "3  A5  B5  C5  D5\n",
      "6  A6  B6  C6  D6\n",
      "7  A7  B7  C7  D7\n",
      "concat2:\n",
      "      A    B    C    D    A    B    C    D\n",
      "0   A0   B0   C0   D0  NaN  NaN  NaN  NaN\n",
      "1   A1   B1   C1   D1  NaN  NaN  NaN  NaN\n",
      "2   A2   B2   C2   D2   A4   B4   C4   D4\n",
      "3   A3   B3   C3   D3   A5   B5   C5   D5\n",
      "6  NaN  NaN  NaN  NaN   A6   B6   C6   D6\n",
      "7  NaN  NaN  NaN  NaN   A7   B7   C7   D7\n",
      "concat3:\n",
      "     A   B   C   D   A   B   C   D\n",
      "2  A2  B2  C2  D2  A4  B4  C4  D4\n",
      "3  A3  B3  C3  D3  A5  B5  C5  D5\n",
      "concat4:\n",
      "      A    B    C    D    A    B    C    D\n",
      "0   A0   B0   C0   D0  NaN  NaN  NaN  NaN\n",
      "1   A1   B1   C1   D1  NaN  NaN  NaN  NaN\n",
      "2   A2   B2   C2   D2   A4   B4   C4   D4\n",
      "3   A3   B3   C3   D3   A5   B5   C5   D5\n",
      "6  NaN  NaN  NaN  NaN   A6   B6   C6   D6\n",
      "7  NaN  NaN  NaN  NaN   A7   B7   C7   D7\n"
     ]
    }
   ],
   "source": [
    "import pandas as pd\n",
    "df1 = pd.DataFrame({\n",
    "    \"A\": [\"A0\", \"A1\", \"A2\", \"A3\"],\n",
    "    \"B\": [\"B0\", \"B1\", \"B2\", \"B3\"],\n",
    "    \"C\": [\"C0\", \"C1\", \"C2\", \"C3\"],\n",
    "    \"D\": [\"D0\", \"D1\", \"D2\", \"D3\"],\n",
    "}, index=[0, 1, 2, 3],)\n",
    "\n",
    "\n",
    "df2 = pd.DataFrame({\n",
    "    \"A\": [\"A4\", \"A5\", \"A6\", \"A7\"],\n",
    "    \"B\": [\"B4\", \"B5\", \"B6\", \"B7\"],\n",
    "    \"C\": [\"C4\", \"C5\", \"C6\", \"C7\"],\n",
    "    \"D\": [\"D4\", \"D5\", \"D6\", \"D7\"],\n",
    "}, index=[2, 3, 6, 7],)\n",
    "\n",
    "concat1 = pd.concat([df1, df2], axis=0)  # 默認上下拼接\n",
    "concat2 = pd.concat([df1, df2], axis=1)  # 左右拼接\n",
    "print('concat1:\\n', concat1)\n",
    "print('concat2:\\n', concat2)\n",
    "concat3 = pd.concat([df1, df2], axis=1, join=\"inner\")  # 僅合併index相同的\n",
    "concat4 = pd.concat([df1, df2], axis=1, join=\"outer\")  # 默認都合併空的欄位補上空值\n",
    "print('concat3:\\n', concat3)\n",
    "print('concat4:\\n', concat4)"
   ]
  },
  {
   "cell_type": "code",
   "execution_count": 8,
   "id": "b4bb57a1-287b-4515-9aea-e8cc61734deb",
   "metadata": {},
   "outputs": [
    {
     "name": "stdout",
     "output_type": "stream",
     "text": [
      "concat1:\n",
      "       A   B   C   D\n",
      "A 0  A0  B0  C0  D0\n",
      "  1  A1  B1  C1  D1\n",
      "  2  A2  B2  C2  D2\n",
      "  3  A3  B3  C3  D3\n",
      "B 2  A4  B4  C4  D4\n",
      "  3  A5  B5  C5  D5\n",
      "  6  A6  B6  C6  D6\n",
      "  7  A7  B7  C7  D7\n",
      "concat2:\n",
      "     A   B   C   D\n",
      "0  A0  B0  C0  D0\n",
      "1  A1  B1  C1  D1\n",
      "2  A2  B2  C2  D2\n",
      "3  A3  B3  C3  D3\n"
     ]
    }
   ],
   "source": [
    "import pandas as pd\n",
    "df1 = pd.DataFrame({\n",
    "    \"A\": [\"A0\", \"A1\", \"A2\", \"A3\"],\n",
    "    \"B\": [\"B0\", \"B1\", \"B2\", \"B3\"],\n",
    "    \"C\": [\"C0\", \"C1\", \"C2\", \"C3\"],\n",
    "    \"D\": [\"D0\", \"D1\", \"D2\", \"D3\"],\n",
    "}, index=[0, 1, 2, 3],)\n",
    "\n",
    "\n",
    "df2 = pd.DataFrame({\n",
    "    \"A\": [\"A4\", \"A5\", \"A6\", \"A7\"],\n",
    "    \"B\": [\"B4\", \"B5\", \"B6\", \"B7\"],\n",
    "    \"C\": [\"C4\", \"C5\", \"C6\", \"C7\"],\n",
    "    \"D\": [\"D4\", \"D5\", \"D6\", \"D7\"],\n",
    "}, index=[2, 3, 6, 7],)\n",
    "\n",
    "concat1 = pd.concat([df1, df2], axis=0, keys=[\"A\", \"B\"])  # 加上索引保留原本性質, ex: A班級學生資料...\n",
    "print('concat1:\\n', concat1)\n",
    "concat2 = concat1.loc[\"A\"]  # 可用建立的索引去讀取出原本資料\n",
    "print('concat2:\\n', concat2)"
   ]
  },
  {
   "cell_type": "markdown",
   "id": "df0e47f5-ac28-4c53-9f9e-8ad7c6adea3f",
   "metadata": {},
   "source": [
    "# merge"
   ]
  },
  {
   "cell_type": "code",
   "execution_count": 15,
   "id": "b63adaeb-815e-4e50-aaf5-d75cd3b93b1e",
   "metadata": {},
   "outputs": [
    {
     "name": "stdout",
     "output_type": "stream",
     "text": [
      "left:\n",
      "   key   A   B\n",
      "0  K0  A0  B0\n",
      "1  K1  A1  B1\n",
      "2  K2  A2  B2\n",
      "3  K3  A3  B3\n",
      "right:\n",
      "   key   C   D\n",
      "0  K0  C0  D0\n",
      "1  K1  C1  D1\n",
      "2  K2  C2  D2\n",
      "3  K3  C3  D3\n",
      "merge1\"\n",
      "   key   A   B   C   D\n",
      "0  K0  A0  B0  C0  D0\n",
      "1  K1  A1  B1  C1  D1\n",
      "2  K2  A2  B2  C2  D2\n",
      "3  K3  A3  B3  C3  D3\n"
     ]
    }
   ],
   "source": [
    "import pandas as pd\n",
    "left = pd.DataFrame({\n",
    "    \"key\": [\"K0\", \"K1\", \"K2\", \"K3\"],\n",
    "    \"A\": [\"A0\", \"A1\", \"A2\", \"A3\"],\n",
    "    \"B\": [\"B0\", \"B1\", \"B2\", \"B3\"],\n",
    "})\n",
    "\n",
    "\n",
    "right = pd.DataFrame({\n",
    "    \"key\": [\"K0\", \"K1\", \"K2\", \"K3\"],\n",
    "    \"C\": [\"C0\", \"C1\", \"C2\", \"C3\"],\n",
    "    \"D\": [\"D0\", \"D1\", \"D2\", \"D3\"],\n",
    "})\n",
    "\n",
    "print('left:\\n', left)\n",
    "print('right:\\n', right)\n",
    "merge1 = pd.merge(left, right, on=\"key\")  # key一樣的合併\n",
    "print('merge1\"\\n', merge1)\n"
   ]
  },
  {
   "cell_type": "code",
   "execution_count": 10,
   "id": "ad49dc7d-625f-4e9b-8bee-6c86127338b4",
   "metadata": {},
   "outputs": [
    {
     "name": "stdout",
     "output_type": "stream",
     "text": [
      "left:\n",
      "   key1 key2   A   B\n",
      "0   K0   K0  A0  B0\n",
      "1   K0   K1  A1  B1\n",
      "2   K1   K0  A2  B2\n",
      "3   K2   K1  A3  B3\n",
      "right:\n",
      "   key1 key2   C   D\n",
      "0   K0   K0  C0  D0\n",
      "1   K1   K0  C1  D1\n",
      "2   K1   K0  C2  D2\n",
      "3   K2   K0  C3  D3\n",
      "merge1(left):\n",
      "   key1 key2   A   B    C    D\n",
      "0   K0   K0  A0  B0   C0   D0\n",
      "1   K0   K1  A1  B1  NaN  NaN\n",
      "2   K1   K0  A2  B2   C1   D1\n",
      "3   K1   K0  A2  B2   C2   D2\n",
      "4   K2   K1  A3  B3  NaN  NaN\n",
      "merge2(right):\n",
      "   key1 key2    A    B   C   D\n",
      "0   K0   K0   A0   B0  C0  D0\n",
      "1   K1   K0   A2   B2  C1  D1\n",
      "2   K1   K0   A2   B2  C2  D2\n",
      "3   K2   K0  NaN  NaN  C3  D3\n",
      "merge3(inner):\n",
      "   key1 key2   A   B   C   D\n",
      "0   K0   K0  A0  B0  C0  D0\n",
      "1   K1   K0  A2  B2  C1  D1\n",
      "2   K1   K0  A2  B2  C2  D2\n",
      "merge4(outer):\n",
      "   key1 key2    A    B    C    D\n",
      "0   K0   K0   A0   B0   C0   D0\n",
      "1   K0   K1   A1   B1  NaN  NaN\n",
      "2   K1   K0   A2   B2   C1   D1\n",
      "3   K1   K0   A2   B2   C2   D2\n",
      "4   K2   K1   A3   B3  NaN  NaN\n",
      "5   K2   K0  NaN  NaN   C3   D3\n"
     ]
    }
   ],
   "source": [
    "left = pd.DataFrame({\n",
    "    \"key1\": [\"K0\", \"K0\", \"K1\", \"K2\"],\n",
    "    \"key2\": [\"K0\", \"K1\", \"K0\", \"K1\"],\n",
    "    \"A\": [\"A0\", \"A1\", \"A2\", \"A3\"],\n",
    "    \"B\": [\"B0\", \"B1\", \"B2\", \"B3\"],\n",
    "})\n",
    "\n",
    "\n",
    "right = pd.DataFrame({\n",
    "    \"key1\": [\"K0\", \"K1\", \"K1\", \"K2\"],\n",
    "    \"key2\": [\"K0\", \"K0\", \"K0\", \"K0\"],\n",
    "    \"C\": [\"C0\", \"C1\", \"C2\", \"C3\"],\n",
    "    \"D\": [\"D0\", \"D1\", \"D2\", \"D3\"],\n",
    "})\n",
    "print('left:\\n', left)\n",
    "print('right:\\n', right)\n",
    "merge1 = pd.merge(left, right, how=\"left\", on=[\"key1\", \"key2\"])\n",
    "merge2 = pd.merge(left, right, how=\"right\", on=[\"key1\", \"key2\"])\n",
    "merge3 = pd.merge(left, right, how=\"inner\", on=[\"key1\", \"key2\"])\n",
    "merge4 = pd.merge(left, right, how=\"outer\", on=[\"key1\", \"key2\"])\n",
    "# merge5 = pd.merge(left, right, how=\"cross\", on=[\"key1\", \"key2\"])\n",
    "print('merge1(left):\\n', merge1)\n",
    "print('merge2(right):\\n', merge2)\n",
    "print('merge3(inner):\\n', merge3)\n",
    "print('merge4(outer):\\n', merge4)\n",
    "# print('merge5:\\n', merge5)"
   ]
  },
  {
   "cell_type": "code",
   "execution_count": 19,
   "id": "21e12527-b0f6-45c4-88f0-ef64e3c311dd",
   "metadata": {},
   "outputs": [
    {
     "name": "stdout",
     "output_type": "stream",
     "text": [
      "left:\n",
      "     A   B key\n",
      "0  A0  B0  K0\n",
      "1  A1  B1  K1\n",
      "2  A2  B2  K0\n",
      "3  A3  B3  K1\n",
      "right:\n",
      "      C   D\n",
      "K0  C0  D0\n",
      "K1  C1  D1\n"
     ]
    },
    {
     "data": {
      "text/html": [
       "<div>\n",
       "<style scoped>\n",
       "    .dataframe tbody tr th:only-of-type {\n",
       "        vertical-align: middle;\n",
       "    }\n",
       "\n",
       "    .dataframe tbody tr th {\n",
       "        vertical-align: top;\n",
       "    }\n",
       "\n",
       "    .dataframe thead th {\n",
       "        text-align: right;\n",
       "    }\n",
       "</style>\n",
       "<table border=\"1\" class=\"dataframe\">\n",
       "  <thead>\n",
       "    <tr style=\"text-align: right;\">\n",
       "      <th></th>\n",
       "      <th>A</th>\n",
       "      <th>B</th>\n",
       "      <th>key</th>\n",
       "      <th>C</th>\n",
       "      <th>D</th>\n",
       "    </tr>\n",
       "  </thead>\n",
       "  <tbody>\n",
       "    <tr>\n",
       "      <th>0</th>\n",
       "      <td>A0</td>\n",
       "      <td>B0</td>\n",
       "      <td>K0</td>\n",
       "      <td>C0</td>\n",
       "      <td>D0</td>\n",
       "    </tr>\n",
       "    <tr>\n",
       "      <th>1</th>\n",
       "      <td>A1</td>\n",
       "      <td>B1</td>\n",
       "      <td>K1</td>\n",
       "      <td>C1</td>\n",
       "      <td>D1</td>\n",
       "    </tr>\n",
       "    <tr>\n",
       "      <th>2</th>\n",
       "      <td>A2</td>\n",
       "      <td>B2</td>\n",
       "      <td>K0</td>\n",
       "      <td>C0</td>\n",
       "      <td>D0</td>\n",
       "    </tr>\n",
       "    <tr>\n",
       "      <th>3</th>\n",
       "      <td>A3</td>\n",
       "      <td>B3</td>\n",
       "      <td>K1</td>\n",
       "      <td>C1</td>\n",
       "      <td>D1</td>\n",
       "    </tr>\n",
       "  </tbody>\n",
       "</table>\n",
       "</div>"
      ],
      "text/plain": [
       "    A   B key   C   D\n",
       "0  A0  B0  K0  C0  D0\n",
       "1  A1  B1  K1  C1  D1\n",
       "2  A2  B2  K0  C0  D0\n",
       "3  A3  B3  K1  C1  D1"
      ]
     },
     "execution_count": 19,
     "metadata": {},
     "output_type": "execute_result"
    }
   ],
   "source": [
    "import pandas as pd\n",
    "left = pd.DataFrame({\n",
    "    \"A\": [\"A0\", \"A1\", \"A2\", \"A3\"],\n",
    "    \"B\": [\"B0\", \"B1\", \"B2\", \"B3\"],\n",
    "    \"key\": [\"K0\", \"K1\", \"K0\", \"K1\"],\n",
    "})\n",
    "\n",
    "\n",
    "right = pd.DataFrame({\n",
    "    \"C\": [\"C0\", \"C1\"],\n",
    "    \"D\": [\"D0\", \"D1\"]\n",
    "}, index=[\"K0\", \"K1\"])\n",
    "\n",
    "print('left:\\n', left)\n",
    "print('right:\\n', right)\n",
    "left.join(right, on=\"key\")  # key當index做合併"
   ]
  },
  {
   "cell_type": "code",
   "execution_count": 7,
   "id": "47095231-c0a9-49dc-bdfb-e4728c4e2dd6",
   "metadata": {},
   "outputs": [
    {
     "name": "stdout",
     "output_type": "stream",
     "text": [
      "df:\n",
      "            A  B          C\n",
      "0  (0, 1, 2)  1  [a, b, c]\n",
      "1        foo  1        NaN\n",
      "2         []  1         []\n",
      "3     [3, 4]  1     [d, e]\n",
      "df1:\n",
      "      A  B          C\n",
      "0    0  1  [a, b, c]\n",
      "0    1  1  [a, b, c]\n",
      "0    2  1  [a, b, c]\n",
      "1  foo  1        NaN\n",
      "2  NaN  1         []\n",
      "3    3  1     [d, e]\n",
      "3    4  1     [d, e]\n"
     ]
    }
   ],
   "source": [
    "import pandas as pd\n",
    "import numpy as np\n",
    "df = pd.DataFrame({'A': [(0, 1, 2), 'foo', [], [3, 4]],\n",
    "                   'B': 1,\n",
    "                   'C': [['a', 'b', 'c'], np.nan, [], ['d', 'e']]})\n",
    "df1 = df.explode('A')\n",
    "print('df:\\n', df)\n",
    "print('df1:\\n', df1)"
   ]
  },
  {
   "cell_type": "code",
   "execution_count": null,
   "id": "8ca87195-70e7-4bf8-b1df-d057b884a4ce",
   "metadata": {},
   "outputs": [],
   "source": []
  }
 ],
 "metadata": {
  "kernelspec": {
   "display_name": "Python 3 (ipykernel)",
   "language": "python",
   "name": "python3"
  },
  "language_info": {
   "codemirror_mode": {
    "name": "ipython",
    "version": 3
   },
   "file_extension": ".py",
   "mimetype": "text/x-python",
   "name": "python",
   "nbconvert_exporter": "python",
   "pygments_lexer": "ipython3",
   "version": "3.9.12"
  }
 },
 "nbformat": 4,
 "nbformat_minor": 5
}
