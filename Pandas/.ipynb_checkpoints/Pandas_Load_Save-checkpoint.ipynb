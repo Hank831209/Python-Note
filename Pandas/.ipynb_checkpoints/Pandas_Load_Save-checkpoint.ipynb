{
 "cells": [
  {
   "cell_type": "code",
   "execution_count": 1,
   "id": "8cdc695c-164a-4f9e-92f7-eb9234d5ee6e",
   "metadata": {},
   "outputs": [],
   "source": [
    "import pandas as pd"
   ]
  },
  {
   "cell_type": "markdown",
   "id": "83eecbf4-f1eb-4964-a6a2-49dcc55269ee",
   "metadata": {},
   "source": [
    "# 讀取與保存數據"
   ]
  },
  {
   "cell_type": "code",
   "execution_count": 19,
   "id": "e4259b4b-4272-4ff0-bee5-f62b69fe472a",
   "metadata": {},
   "outputs": [
    {
     "name": "stdout",
     "output_type": "stream",
     "text": [
      "df:\n",
      "    学号  姓名   身高  体重   肺活量\n",
      "0   1  小明  168  60  3200\n",
      "1   2  小黄  187  80  3800\n",
      "2   3  小花  170  70  3400\n",
      "\n",
      "df_index_col:\n",
      "     姓名   身高  体重   肺活量\n",
      "学号                   \n",
      "1   小明  168  60  3200\n",
      "2   小黄  187  80  3800\n",
      "3   小花  170  70  3400\n"
     ]
    }
   ],
   "source": [
    "import pandas as pd\n",
    "df = pd.read_excel(\"Data/體檢數據.xlsx\")\n",
    "df_index_col = pd.read_excel(\"Data/體檢數據.xlsx\", index_col=0)  # 使用數據中的第0個column當作index\n",
    "print('df:\\n', df)\n",
    "print('\\ndf_index_col:\\n', df_index_col)"
   ]
  },
  {
   "cell_type": "code",
   "execution_count": 15,
   "id": "34f36d23-f07a-42b1-86fc-3258b6c3d751",
   "metadata": {},
   "outputs": [
    {
     "name": "stdout",
     "output_type": "stream",
     "text": [
      "df:\n",
      "    学号  姓名   身高  体重   肺活量\n",
      "0   1  小明  168  60  3200\n",
      "1   2  小黄  187  80  3800\n",
      "2   3  小花  170   1  3400 \n",
      "\n"
     ]
    },
    {
     "data": {
      "text/html": [
       "<div>\n",
       "<style scoped>\n",
       "    .dataframe tbody tr th:only-of-type {\n",
       "        vertical-align: middle;\n",
       "    }\n",
       "\n",
       "    .dataframe tbody tr th {\n",
       "        vertical-align: top;\n",
       "    }\n",
       "\n",
       "    .dataframe thead th {\n",
       "        text-align: right;\n",
       "    }\n",
       "</style>\n",
       "<table border=\"1\" class=\"dataframe\">\n",
       "  <thead>\n",
       "    <tr style=\"text-align: right;\">\n",
       "      <th></th>\n",
       "      <th>学号</th>\n",
       "      <th>姓名</th>\n",
       "      <th>身高</th>\n",
       "      <th>体重</th>\n",
       "      <th>肺活量</th>\n",
       "    </tr>\n",
       "  </thead>\n",
       "  <tbody>\n",
       "    <tr>\n",
       "      <th>0</th>\n",
       "      <td>1</td>\n",
       "      <td>小明</td>\n",
       "      <td>168</td>\n",
       "      <td>60</td>\n",
       "      <td>3200</td>\n",
       "    </tr>\n",
       "    <tr>\n",
       "      <th>1</th>\n",
       "      <td>2</td>\n",
       "      <td>小黄</td>\n",
       "      <td>187</td>\n",
       "      <td>80</td>\n",
       "      <td>3800</td>\n",
       "    </tr>\n",
       "    <tr>\n",
       "      <th>2</th>\n",
       "      <td>3</td>\n",
       "      <td>小花</td>\n",
       "      <td>170</td>\n",
       "      <td>1</td>\n",
       "      <td>3400</td>\n",
       "    </tr>\n",
       "  </tbody>\n",
       "</table>\n",
       "</div>"
      ],
      "text/plain": [
       "   学号  姓名   身高  体重   肺活量\n",
       "0   1  小明  168  60  3200\n",
       "1   2  小黄  187  80  3800\n",
       "2   3  小花  170   1  3400"
      ]
     },
     "execution_count": 15,
     "metadata": {},
     "output_type": "execute_result"
    }
   ],
   "source": [
    "df.loc[2, \"体重\"] = 1\n",
    "print('df:\\n', df, '\\n')\n",
    "df.to_excel(\"Data/體檢數據_修改.xlsx\")\n",
    "pd.read_excel(\"Data/體檢數據_修改.xlsx\", index_col=0)"
   ]
  },
  {
   "cell_type": "code",
   "execution_count": 20,
   "id": "bb5abad3-e3c3-4d91-a9cf-5bbd5f573d21",
   "metadata": {},
   "outputs": [
    {
     "name": "stdout",
     "output_type": "stream",
     "text": [
      "﻿学号,姓名,身高,体重,肺活量\n",
      "1,小明,168,60,3200\n",
      "2,小黄,187,80,3800\n",
      "3,小花,170,70,3400\n",
      "\n"
     ]
    },
    {
     "data": {
      "text/html": [
       "<div>\n",
       "<style scoped>\n",
       "    .dataframe tbody tr th:only-of-type {\n",
       "        vertical-align: middle;\n",
       "    }\n",
       "\n",
       "    .dataframe tbody tr th {\n",
       "        vertical-align: top;\n",
       "    }\n",
       "\n",
       "    .dataframe thead th {\n",
       "        text-align: right;\n",
       "    }\n",
       "</style>\n",
       "<table border=\"1\" class=\"dataframe\">\n",
       "  <thead>\n",
       "    <tr style=\"text-align: right;\">\n",
       "      <th></th>\n",
       "      <th>姓名</th>\n",
       "      <th>身高</th>\n",
       "      <th>体重</th>\n",
       "      <th>肺活量</th>\n",
       "    </tr>\n",
       "    <tr>\n",
       "      <th>学号</th>\n",
       "      <th></th>\n",
       "      <th></th>\n",
       "      <th></th>\n",
       "      <th></th>\n",
       "    </tr>\n",
       "  </thead>\n",
       "  <tbody>\n",
       "    <tr>\n",
       "      <th>1</th>\n",
       "      <td>小明</td>\n",
       "      <td>168</td>\n",
       "      <td>60</td>\n",
       "      <td>3200</td>\n",
       "    </tr>\n",
       "    <tr>\n",
       "      <th>2</th>\n",
       "      <td>小黄</td>\n",
       "      <td>187</td>\n",
       "      <td>80</td>\n",
       "      <td>3800</td>\n",
       "    </tr>\n",
       "    <tr>\n",
       "      <th>3</th>\n",
       "      <td>小花</td>\n",
       "      <td>170</td>\n",
       "      <td>70</td>\n",
       "      <td>3400</td>\n",
       "    </tr>\n",
       "  </tbody>\n",
       "</table>\n",
       "</div>"
      ],
      "text/plain": [
       "    姓名   身高  体重   肺活量\n",
       "学号                   \n",
       "1   小明  168  60  3200\n",
       "2   小黄  187  80  3800\n",
       "3   小花  170  70  3400"
      ]
     },
     "execution_count": 20,
     "metadata": {},
     "output_type": "execute_result"
    }
   ],
   "source": [
    "with open(\"Data/體檢數據.csv\", \"r\", encoding=\"utf-8\") as f:\n",
    "    print(f.read())\n",
    "df_csv = pd.read_csv(\"Data/體檢數據.csv\", index_col=0, sep=\",\")\n",
    "df_csv"
   ]
  },
  {
   "cell_type": "code",
   "execution_count": 21,
   "id": "1017cd3a-fded-443a-b4b4-9ecac1d80b7b",
   "metadata": {},
   "outputs": [
    {
     "name": "stdout",
     "output_type": "stream",
     "text": [
      "   学号  姓名   身高  体重   肺活量\n",
      "0   1  小明  168  60  3200\n",
      "1   2  小黄  187  80  3800\n",
      "2   3  小花  170  70  3400\n",
      "   学号  姓名   身高  体重   肺活量\n",
      "0   1  小明  168  60  3200\n",
      "1   2  小黄  187  80  3800\n",
      "2   3  小花  170  70  3400\n"
     ]
    }
   ],
   "source": [
    "df_csv.to_csv(\"Data/體檢數據_修改1.csv\")\n",
    "df_csv.to_excel(\"Data/體檢數據_修改1.xlsx\")\n",
    "\n",
    "print(pd.read_csv(\"Data/體檢數據_修改1.csv\"))\n",
    "print(pd.read_excel(\"Data/體檢數據_修改1.xlsx\"))"
   ]
  },
  {
   "cell_type": "code",
   "execution_count": null,
   "id": "0c9770b2-219d-4fbf-be37-854319367221",
   "metadata": {},
   "outputs": [],
   "source": []
  }
 ],
 "metadata": {
  "kernelspec": {
   "display_name": "Python 3 (ipykernel)",
   "language": "python",
   "name": "python3"
  },
  "language_info": {
   "codemirror_mode": {
    "name": "ipython",
    "version": 3
   },
   "file_extension": ".py",
   "mimetype": "text/x-python",
   "name": "python",
   "nbconvert_exporter": "python",
   "pygments_lexer": "ipython3",
   "version": "3.9.12"
  },
  "toc-autonumbering": false,
  "toc-showmarkdowntxt": true
 },
 "nbformat": 4,
 "nbformat_minor": 5
}
