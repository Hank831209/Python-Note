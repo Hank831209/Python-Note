{
 "cells": [
  {
   "cell_type": "markdown",
   "id": "af915358-ef21-4201-815f-be296b769e62",
   "metadata": {},
   "source": [
    "# 基礎運算"
   ]
  },
  {
   "cell_type": "code",
   "execution_count": 6,
   "id": "1171ffee-093b-47ad-ae0d-a7a9f024f813",
   "metadata": {},
   "outputs": [
    {
     "name": "stdout",
     "output_type": "stream",
     "text": [
      "[153, 169, 186, 173]\n",
      "a + 3: [153 169 186 173]\n",
      "a - 3: [147 163 180 167]\n",
      "a * 3: [450 498 549 510]\n",
      "a / 3: [50.         55.33333333 61.         56.66666667]\n"
     ]
    }
   ],
   "source": [
    "import numpy as np\n",
    "\n",
    "print(list(map(lambda x: x+3, [150, 166, 183, 170])))\n",
    "# +-*/會直接批量計算, 相比python list計算更為有效率\n",
    "a = np.array([150, 166, 183, 170])  \n",
    "print('a + 3:', a + 3) \n",
    "print(\"a - 3:\", a - 3)\n",
    "print(\"a * 3:\", a * 3)\n",
    "print(\"a / 3:\", a / 3)"
   ]
  },
  {
   "cell_type": "code",
   "execution_count": 9,
   "id": "4a3154b6-c7b5-43c5-bb7f-85316b7a4cae",
   "metadata": {},
   "outputs": [
    {
     "name": "stdout",
     "output_type": "stream",
     "text": [
      "a.dot(b):\n",
      " [[19 22]\n",
      " [43 50]]\n",
      "np.dot(a, b):\n",
      " [[19 22]\n",
      " [43 50]]\n"
     ]
    }
   ],
   "source": [
    "a = np.array([\n",
    "[1, 2],\n",
    "[3, 4]\n",
    "])\n",
    "b = np.array([\n",
    "[5, 6],\n",
    "[7, 8]\n",
    "])\n",
    "# 矩陣的相乘\n",
    "print('a.dot(b):\\n', a.dot(b))\n",
    "print('np.dot(a, b):\\n', np.dot(a, b))"
   ]
  },
  {
   "cell_type": "code",
   "execution_count": 22,
   "id": "2e7fd2ee-4548-477f-a3b2-b8940e3e3b41",
   "metadata": {},
   "outputs": [
    {
     "name": "stdout",
     "output_type": "stream",
     "text": [
      "np.max(a)：  187\n",
      "a.min()：  150\n",
      "a.sum():  1333\n",
      "a.prod()：  1204821848\n",
      "np.count_nonzero(a):  8\n",
      "np.mean(a)：  166.625\n",
      "np.median(a)：  165.5\n",
      "np.std(a):  12.257013298516078\n"
     ]
    }
   ],
   "source": [
    "a = np.array([[150, 166, 183, 170], [157, 165, 187, 155]])\n",
    "print(\"np.max(a)： \", np.max(a))  # 最大\n",
    "print(\"a.min()： \", a.min())  # 最小\n",
    "print('a.sum(): ', a.sum())  # 總和\n",
    "print(\"a.prod()： \", a.prod())  # 累乘\n",
    "print(\"np.count_nonzero(a): \", np.count_nonzero(a))  # 非0總數\n",
    "print(\"np.mean(a)： \", np.mean(a))  # 平均\n",
    "print(\"np.median(a)： \", np.median(a))  # 中位數  \n",
    "print(\"np.std(a): \", np.std(a))"
   ]
  },
  {
   "cell_type": "code",
   "execution_count": 24,
   "id": "bf1be9f7-1fa7-4f89-822a-33392594f10d",
   "metadata": {},
   "outputs": [
    {
     "name": "stdout",
     "output_type": "stream",
     "text": [
      "np.argmax(a):  2\n",
      "np.argmin(a):  0\n"
     ]
    }
   ],
   "source": [
    "a = np.array([150, 166, 183, 170])\n",
    "print('np.argmax(a): ', np.argmax(a))  # 最大值的index\n",
    "print('np.argmin(a): ', np.argmin(a))  # 最小值的index"
   ]
  },
  {
   "cell_type": "code",
   "execution_count": 28,
   "id": "18bc4ec5-f797-43a9-9313-ef8fa5cc82b0",
   "metadata": {},
   "outputs": [
    {
     "name": "stdout",
     "output_type": "stream",
     "text": [
      "np.ceil(a):  [151. 167. 184. 171.]\n",
      "np.floor(a):  [150. 166. 183. 170.]\n",
      "a.clip(160, 180):  [160.  166.4 180.  170.8]\n"
     ]
    }
   ],
   "source": [
    "a = np.array([150.1, 166.4, 183.7, 170.8])\n",
    "print(\"np.ceil(a): \", np.ceil(a))  # 天花板, 無條件進位\n",
    "print(\"np.floor(a): \", np.floor(a))  # 地板, 無條件捨去\n",
    "print(\"a.clip(160, 180): \", a.clip(160, 180))  # 小於160就當160, 大於180就當180"
   ]
  },
  {
   "cell_type": "code",
   "execution_count": null,
   "id": "856fe9fb-bfc9-4ed5-941b-d773a7d02eb9",
   "metadata": {},
   "outputs": [],
   "source": []
  }
 ],
 "metadata": {
  "kernelspec": {
   "display_name": "Python 3 (ipykernel)",
   "language": "python",
   "name": "python3"
  },
  "language_info": {
   "codemirror_mode": {
    "name": "ipython",
    "version": 3
   },
   "file_extension": ".py",
   "mimetype": "text/x-python",
   "name": "python",
   "nbconvert_exporter": "python",
   "pygments_lexer": "ipython3",
   "version": "3.9.13"
  }
 },
 "nbformat": 4,
 "nbformat_minor": 5
}
