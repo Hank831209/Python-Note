{
 "cells": [
  {
   "cell_type": "markdown",
   "id": "ff0213ea-678e-4d42-9c22-5d1887cc74ed",
   "metadata": {},
   "source": [
    "# 常用運算\n",
    "## 均值中位数 df.mean()；df.median()\n",
    "## 累加累乘 df.sum()；df.prod()\n",
    "## 最大最小 df.max(); df.min()"
   ]
  },
  {
   "cell_type": "code",
   "execution_count": 23,
   "id": "afcdf2c6-f8d0-4ee1-a626-b50b84af7d47",
   "metadata": {},
   "outputs": [
    {
     "name": "stdout",
     "output_type": "stream",
     "text": [
      "df:\n",
      "       c0    c1    c2\n",
      "r0  1.39  1.77  None\n",
      "r1  0.34  1.91 -0.05\n",
      "r2  0.34  1.47  1.22\n",
      "r3  None  0.27 -0.61\n",
      "df.describe():\n",
      "           c0    c1    c2\n",
      "count   3.00  4.00  3.00\n",
      "unique  2.00  4.00  3.00\n",
      "top     0.34  1.77 -0.05\n",
      "freq    2.00  1.00  1.00\n"
     ]
    }
   ],
   "source": [
    "import pandas as pd\n",
    "import numpy as np\n",
    "\n",
    "data = np.array([\n",
    "    [1.39, 1.77, None],\n",
    "    [0.34, 1.91, -0.05],\n",
    "    [0.34, 1.47, 1.22],\n",
    "    [None, 0.27, -0.61]\n",
    "])\n",
    "df = pd.DataFrame(data, index=[\"r0\", \"r1\", \"r2\", \"r3\"], columns=[\"c0\", \"c1\", \"c2\"])\n",
    "print('df:\\n', df)\n",
    "df1 = df.describe()  # 快速獲取基本訊息, count: 有效數據\n",
    "print('df.describe():\\n', df1)"
   ]
  },
  {
   "cell_type": "code",
   "execution_count": 31,
   "id": "df9261b3-4566-4ba7-a478-ec56eed17951",
   "metadata": {},
   "outputs": [
    {
     "name": "stdout",
     "output_type": "stream",
     "text": [
      "df:\n",
      "       c0    c1    c2\n",
      "r0  1.39  1.77  None\n",
      "r1  0.34  1.91 -0.05\n",
      "r2  0.34  1.47  1.22\n",
      "r3  None  0.27 -0.61\n",
      "df1:\n",
      " c0    0.690000\n",
      "c1    1.355000\n",
      "c2    0.186667\n",
      "dtype: float64\n"
     ]
    }
   ],
   "source": [
    "df1 = df.mean(axis=0)\n",
    "print('df:\\n', df)\n",
    "print('df1:\\n', df1)"
   ]
  },
  {
   "cell_type": "code",
   "execution_count": 33,
   "id": "066d856c-a85d-413c-b400-bf9d5734d417",
   "metadata": {},
   "outputs": [
    {
     "name": "stdout",
     "output_type": "stream",
     "text": [
      "mean(): 26750.0\n",
      "median(): 3000.0\n"
     ]
    }
   ],
   "source": [
    "s = pd.Series([1000, 2000, 4000, 100000])\n",
    "print(\"mean():\", s.mean())   # 平均\n",
    "print(\"median():\", s.median())  # 中位數"
   ]
  },
  {
   "cell_type": "code",
   "execution_count": 42,
   "id": "dffe3f89-f60a-47c6-931a-f9ca91f9f967",
   "metadata": {},
   "outputs": [
    {
     "name": "stdout",
     "output_type": "stream",
     "text": [
      "df:\n",
      "    c0  c1  c2\n",
      "0   0   1   2\n",
      "1   3   4   5\n",
      "2   6   7   8\n",
      "3   9  10  11\n",
      "sum():\n",
      " c0    18\n",
      "c1    22\n",
      "c2    26\n",
      "dtype: int64\n",
      "\n",
      "sum(axis=0):\n",
      " c0    18\n",
      "c1    22\n",
      "c2    26\n",
      "dtype: int64\n",
      "\n",
      "sum(axis=1):\n",
      " 0     3\n",
      "1    12\n",
      "2    21\n",
      "3    30\n",
      "dtype: int64\n",
      "prod():\n",
      " c0      0\n",
      "c1    280\n",
      "c2    880\n",
      "dtype: int32\n",
      "\n",
      "prod(axis=0):\n",
      " c0      0\n",
      "c1    280\n",
      "c2    880\n",
      "dtype: int32\n",
      "\n",
      "prod(axis=1):\n",
      " 0      0\n",
      "1     60\n",
      "2    336\n",
      "3    990\n",
      "dtype: int32\n",
      "max():\n",
      " c0     9\n",
      "c1    10\n",
      "c2    11\n",
      "dtype: int32\n",
      "df.max().max():\n",
      " 11\n",
      "df.values.ravel().max():\n",
      " 11\n"
     ]
    }
   ],
   "source": [
    "df = pd.DataFrame(np.arange(12).reshape((4,3)), columns=[\"c0\", \"c1\", \"c2\"])\n",
    "print('df:\\n', df)\n",
    "print(\"sum():\\n\", df.sum())\n",
    "print(\"\\nsum(axis=0):\\n\", df.sum(axis=0))\n",
    "print(\"\\nsum(axis=1):\\n\", df.sum(axis=1))\n",
    "print(\"prod():\\n\", df.prod())\n",
    "print(\"\\nprod(axis=0):\\n\", df.prod(axis=0))\n",
    "print(\"\\nprod(axis=1):\\n\", df.prod(axis=1))\n",
    "print(\"max():\\n\", df.max())  # 每一行的最大值\n",
    "print('df.max().max():\\n', df.max().max())  # 全部的最大值\n",
    "print('df.values.ravel().max():\\n', df.values.ravel().max())  # 用 Numpy 的方式运算\n"
   ]
  },
  {
   "cell_type": "markdown",
   "id": "eb7db924-eaba-46a7-8917-35271fa1653f",
   "metadata": {},
   "source": [
    "## 處理空值 df.isnull(); df.notnull(); df.dropna(); df.fillna()"
   ]
  },
  {
   "cell_type": "code",
   "execution_count": 46,
   "id": "5d2c5d74-d938-4f38-90f2-5d96ce4b0803",
   "metadata": {},
   "outputs": [
    {
     "name": "stdout",
     "output_type": "stream",
     "text": [
      "df:\n",
      "      A    B    C    D\n",
      "0  1.0  2.0  3.0  0.0\n",
      "1  3.0  4.0  NaN  1.0\n",
      "2  NaN  NaN  NaN  NaN\n",
      "3  NaN  3.0  NaN  4.0\n",
      "\n",
      "isnull():\n",
      "        A      B      C      D\n",
      "0  False  False  False  False\n",
      "1  False  False   True  False\n",
      "2   True   True   True   True\n",
      "3   True  False   True  False\n",
      "\n",
      "notnull()\n",
      "        A      B      C      D\n",
      "0   True   True   True   True\n",
      "1   True   True  False   True\n",
      "2  False  False  False  False\n",
      "3  False   True  False   True\n"
     ]
    }
   ],
   "source": [
    "df = pd.DataFrame([[1, 2, 3, 0],\n",
    "                   [3, 4, None, 1],\n",
    "                   [None, None, None, None],\n",
    "                   [None, 3, None, 4]],\n",
    "                  columns=list(\"ABCD\"))\n",
    "print('df:\\n', df)\n",
    "print(\"\\nisnull():\\n\", df.isnull())  # True 就是空\n",
    "print(\"\\nnotnull()\\n\", df.notnull())  # False 為空"
   ]
  },
  {
   "cell_type": "code",
   "execution_count": 51,
   "id": "6b27ed2e-33cc-4aea-833b-a7750193bafa",
   "metadata": {},
   "outputs": [
    {
     "name": "stdout",
     "output_type": "stream",
     "text": [
      "df:\n",
      "      A    B    C    D\n",
      "0  1.0  2.0  3.0  0.0\n",
      "1  3.0  4.0  NaN  1.0\n",
      "2  NaN  NaN  NaN  NaN\n",
      "3  NaN  3.0  NaN  4.0\n",
      "df.dropna()：\n",
      "      A    B    C    D\n",
      "0  1.0  2.0  3.0  0.0\n",
      "df.dropna(axis=1):\n",
      " Empty DataFrame\n",
      "Columns: []\n",
      "Index: [0, 1, 2, 3]\n",
      "df1.dropna(how=\"all\"):\n",
      "      A    B    C    D\n",
      "0  1.0  2.0  3.0  0.0\n",
      "1  3.0  4.0  NaN  1.0\n",
      "3  NaN  3.0  NaN  4.0\n"
     ]
    }
   ],
   "source": [
    "df = pd.DataFrame([[1, 2, 3, 0],\n",
    "                   [3, 4, None, 1],\n",
    "                   [None, None, None, None],\n",
    "                   [None, 3, None, 4]],\n",
    "                  columns=list(\"ABCD\"))\n",
    "print('df:\\n', df)\n",
    "print(\"df.dropna()：\\n\", df.dropna())  # 刪除出現空值的列\n",
    "print(\"df.dropna(axis=1):\\n\", df.dropna(axis=1))  # 刪除出現空值的行\n",
    "print('df1.dropna(how=\"all\"):\\n', df.dropna(how=\"all\"))  # 整列為空才刪除"
   ]
  },
  {
   "cell_type": "code",
   "execution_count": 55,
   "id": "7b24fdc1-44ba-43f8-b489-b6554e6eec11",
   "metadata": {},
   "outputs": [
    {
     "name": "stdout",
     "output_type": "stream",
     "text": [
      "df:\n",
      "      A    B    C    D\n",
      "0  1.0  2.0  3.0  0.0\n",
      "1  3.0  4.0  NaN  1.0\n",
      "2  NaN  NaN  NaN  NaN\n",
      "3  NaN  3.0  NaN  4.0\n",
      "df1:\n",
      "        A      B      C      D\n",
      "0    1.0    2.0    3.0    0.0\n",
      "1    3.0    4.0  111.0    1.0\n",
      "2  111.0  111.0  111.0  111.0\n",
      "3  111.0    3.0  111.0    4.0\n",
      "df2:\n",
      "      A    B    C    D\n",
      "0  1.0  2.0  3.0  0.0\n",
      "1  3.0  4.0  2.0  1.0\n",
      "2  0.0  1.0  2.0  3.0\n",
      "3  0.0  3.0  2.0  4.0\n",
      "df_default:\n",
      "     A   B   C   D\n",
      "0   0   1   2   3\n",
      "1   4   5   6   7\n",
      "2   8   9  10  11\n",
      "3  12  13  14  15\n",
      "\n",
      "fillna(df2):\n",
      "       A    B     C     D\n",
      "0   1.0  2.0   3.0   0.0\n",
      "1   3.0  4.0   6.0   1.0\n",
      "2   8.0  9.0  10.0  11.0\n",
      "3  12.0  3.0  14.0   4.0\n"
     ]
    }
   ],
   "source": [
    "df = pd.DataFrame([[1, 2, 3, 0],\n",
    "                   [3, 4, None, 1],\n",
    "                   [None, None, None, None],\n",
    "                   [None, 3, None, 4]],\n",
    "                  columns=list(\"ABCD\"))\n",
    "df_default = pd.DataFrame(np.arange(16).reshape((4,4)), columns=list(\"ABCD\"))\n",
    "df1 = df.fillna(111)  # 填充 111\n",
    "df2 = df.fillna(value={\"A\": 0, \"B\": 1, \"C\": 2, \"D\": 3})  # 每行填不一樣的\n",
    "print('df:\\n', df)\n",
    "print('df1:\\n', df1)\n",
    "print('df2:\\n', df2)\n",
    "print(\"df_default:\\n\", df_default)\n",
    "print(\"\\nfillna(df2):\\n\", df.fillna(df_default))  # 空的值就用df_default的相對位置的數值取代"
   ]
  },
  {
   "cell_type": "markdown",
   "id": "1fbb793f-3468-4059-b570-046b20c4c4cc",
   "metadata": {},
   "source": [
    "## 獲取索引 df.idxmin(); df.idxmax()"
   ]
  },
  {
   "cell_type": "code",
   "execution_count": 57,
   "id": "917057b0-3a22-4aab-b542-726b062a26b9",
   "metadata": {},
   "outputs": [
    {
     "name": "stdout",
     "output_type": "stream",
     "text": [
      "df:\n",
      "    A  B    C  D\n",
      "0  1  2  3.0  0\n",
      "1  3  4  NaN  1\n",
      "2  3  5  2.0  1\n",
      "3  3  2  2.0  3\n",
      "\n",
      "idxmax():\n",
      " A    1\n",
      "B    2\n",
      "C    0\n",
      "D    3\n",
      "dtype: int64\n",
      "\n",
      "idxmax(skipna=False):\n",
      " A    1.0\n",
      "B    2.0\n",
      "C    NaN\n",
      "D    3.0\n",
      "dtype: float64\n",
      "\n",
      "idxmin():\n",
      " A    0\n",
      "B    0\n",
      "C    2\n",
      "D    0\n",
      "dtype: int64\n"
     ]
    }
   ],
   "source": [
    "df = pd.DataFrame([[1, 2, 3, 0],\n",
    "                   [3, 4, None, 1],\n",
    "                   [3, 5, 2, 1],\n",
    "                   [3, 2, 2, 3]],\n",
    "                  columns=list(\"ABCD\"))\n",
    "print('df:\\n', df)\n",
    "print(\"\\nidxmax():\\n\", df.idxmax())  # 獲取每行最大值的index\n",
    "print(\"\\nidxmax(skipna=False):\\n\", df.idxmax(skipna=False))\n",
    "print(\"\\nidxmin():\\n\", df.idxmin())"
   ]
  },
  {
   "cell_type": "markdown",
   "id": "6d7aaacf-4e09-4360-8ac0-cae99c683d27",
   "metadata": {},
   "source": [
    "# 數據解析\n",
    "## explode:\n",
    "### DataFrame.explode(column, ignore_index=False)"
   ]
  },
  {
   "cell_type": "code",
   "execution_count": 4,
   "id": "c8c201be-0e7a-4e6a-bc09-c8286e1f93e6",
   "metadata": {},
   "outputs": [
    {
     "name": "stdout",
     "output_type": "stream",
     "text": [
      "df:\n",
      "            A  B          C\n",
      "0  (0, 1, 2)  1  [a, b, c]\n",
      "1        foo  1        NaN\n",
      "2         []  1         []\n",
      "3     [3, 4]  1     [d, e]\n",
      "df1:\n",
      "      A  B          C\n",
      "0    0  1  [a, b, c]\n",
      "0    1  1  [a, b, c]\n",
      "0    2  1  [a, b, c]\n",
      "1  foo  1        NaN\n",
      "2  NaN  1         []\n",
      "3    3  1     [d, e]\n",
      "3    4  1     [d, e]\n"
     ]
    }
   ],
   "source": [
    "import pandas as pd\n",
    "import numpy as np\n",
    "df = pd.DataFrame({'A': [(0, 1, 2), 'foo', [], [3, 4]],\n",
    "                   'B': 1,\n",
    "                   'C': [['a', 'b', 'c'], np.nan, [], ['d', 'e']]})\n",
    "df1 = df.explode('A')  # 可加上ignore_index=True\n",
    "print('df:\\n', df)\n",
    "print('df1:\\n', df1)"
   ]
  },
  {
   "cell_type": "markdown",
   "id": "ef1a1428-a52a-41f7-ae7f-f673ca342392",
   "metadata": {},
   "source": [
    "## apply:\n",
    "### DataFrame.apply(func, axis=0, raw=False, result_type=None, args=(), **kwargs)\n",
    "### axis{0 or ‘index’, 1 or ‘columns’}, default 0"
   ]
  },
  {
   "cell_type": "code",
   "execution_count": 20,
   "id": "a9e770b0-c6ed-4162-a585-a7a290809e04",
   "metadata": {},
   "outputs": [
    {
     "name": "stdout",
     "output_type": "stream",
     "text": [
      "df:\n",
      "    A  B\n",
      "0  4  9\n",
      "1  4  9\n",
      "2  4  9\n",
      "df1:\n",
      "      A    B\n",
      "0  2.0  3.0\n",
      "1  2.0  3.0\n",
      "2  2.0  3.0\n",
      "df2:\n",
      " A    12\n",
      "B    27\n",
      "dtype: int64 <class 'pandas.core.series.Series'>\n",
      "df3:\n",
      " 0    13\n",
      "1    13\n",
      "2    13\n",
      "dtype: int64 <class 'pandas.core.series.Series'>\n",
      "df4:\n",
      " 0    [1, 2]\n",
      "1    [1, 2]\n",
      "2    [1, 2]\n",
      "dtype: object\n",
      "df5:\n",
      "    0  1\n",
      "0  1  2\n",
      "1  1  2\n",
      "2  1  2\n",
      "df6:\n",
      "    A  B\n",
      "0  1  2\n",
      "1  1  2\n",
      "2  1  2\n",
      "df7:\n",
      "    foo  bar\n",
      "0    1    2\n",
      "1    1    2\n",
      "2    1    2\n",
      "df8:\n",
      "    A  B\n",
      "0  8 -9\n",
      "1  8 -9\n",
      "2  8 -9\n"
     ]
    }
   ],
   "source": [
    "def func(x):\n",
    "    return x[0] * 2, x[1] * -1\n",
    "\n",
    "df = pd.DataFrame([[4, 9]] * 3, columns=['A', 'B'])\n",
    "df1 = df.apply(np.sqrt)\n",
    "df2 = df.apply(np.sum, axis=0)\n",
    "df3 = df.apply(np.sum, axis=1)\n",
    "df4 = df.apply(lambda x: [1, 2], axis=1)\n",
    "df5 = df.apply(lambda x: [1, 2], axis=1, result_type='expand')\n",
    "df6 = df.apply(lambda x: [1, 2], axis=1, result_type='broadcast')\n",
    "df7 = df.apply(lambda x: pd.Series([1, 2], index=['foo', 'bar']), axis=1)\n",
    "df8 = df.apply(func, axis=1, result_type='broadcast')  # 可以自訂function\n",
    "print('df:\\n', df)\n",
    "print('df1:\\n', df1)\n",
    "print('df2:\\n', df2, type(df2))\n",
    "print('df3:\\n', df3, type(df3))\n",
    "print('df4:\\n', df4)\n",
    "print('df5:\\n', df5)\n",
    "print('df6:\\n', df6)\n",
    "print('df7:\\n', df7)\n",
    "print('df8:\\n', df8)"
   ]
  },
  {
   "cell_type": "code",
   "execution_count": null,
   "id": "26a51550-5b55-48f6-8255-cca3c3e2e88d",
   "metadata": {},
   "outputs": [],
   "source": []
  }
 ],
 "metadata": {
  "kernelspec": {
   "display_name": "Python 3 (ipykernel)",
   "language": "python",
   "name": "python3"
  },
  "language_info": {
   "codemirror_mode": {
    "name": "ipython",
    "version": 3
   },
   "file_extension": ".py",
   "mimetype": "text/x-python",
   "name": "python",
   "nbconvert_exporter": "python",
   "pygments_lexer": "ipython3",
   "version": "3.9.12"
  }
 },
 "nbformat": 4,
 "nbformat_minor": 5
}
